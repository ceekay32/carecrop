{
 "cells": [
  {
   "cell_type": "code",
   "execution_count": 87,
   "id": "6ce4bb28",
   "metadata": {},
   "outputs": [],
   "source": [
    "# !pip install imbalanced-learn"
   ]
  },
  {
   "cell_type": "code",
   "execution_count": 88,
   "id": "9cdc2ae6",
   "metadata": {},
   "outputs": [
    {
     "name": "stdout",
     "output_type": "stream",
     "text": [
      "Requirement already satisfied: imblearn in c:\\users\\91766\\appdata\\local\\programs\\python\\python39\\lib\\site-packages (0.0)Note: you may need to restart the kernel to use updated packages.\n",
      "\n",
      "Requirement already satisfied: imbalanced-learn in c:\\users\\91766\\appdata\\local\\programs\\python\\python39\\lib\\site-packages (from imblearn) (0.10.1)\n",
      "Requirement already satisfied: scipy>=1.3.2 in c:\\users\\91766\\appdata\\local\\programs\\python\\python39\\lib\\site-packages (from imbalanced-learn->imblearn) (1.9.3)\n",
      "Requirement already satisfied: numpy>=1.17.3 in c:\\users\\91766\\appdata\\local\\programs\\python\\python39\\lib\\site-packages (from imbalanced-learn->imblearn) (1.21.0)"
     ]
    },
    {
     "name": "stderr",
     "output_type": "stream",
     "text": [
      "\n",
      "[notice] A new release of pip available: 22.3 -> 23.0\n",
      "[notice] To update, run: python.exe -m pip install --upgrade pip\n"
     ]
    },
    {
     "name": "stdout",
     "output_type": "stream",
     "text": [
      "\n",
      "Requirement already satisfied: scikit-learn>=1.0.2 in c:\\users\\91766\\appdata\\local\\programs\\python\\python39\\lib\\site-packages (from imbalanced-learn->imblearn) (1.1.3)\n",
      "Requirement already satisfied: threadpoolctl>=2.0.0 in c:\\users\\91766\\appdata\\local\\programs\\python\\python39\\lib\\site-packages (from imbalanced-learn->imblearn) (3.1.0)\n",
      "Requirement already satisfied: joblib>=1.1.1 in c:\\users\\91766\\appdata\\local\\programs\\python\\python39\\lib\\site-packages (from imbalanced-learn->imblearn) (1.2.0)\n"
     ]
    }
   ],
   "source": [
    "pip install imblearn"
   ]
  },
  {
   "cell_type": "code",
   "execution_count": 89,
   "id": "34d3d406",
   "metadata": {
    "execution": {
     "iopub.execute_input": "2023-01-26T02:57:46.932958Z",
     "iopub.status.busy": "2023-01-26T02:57:46.932439Z",
     "iopub.status.idle": "2023-01-26T02:57:48.417395Z",
     "shell.execute_reply": "2023-01-26T02:57:48.416468Z"
    },
    "papermill": {
     "duration": 1.50909,
     "end_time": "2023-01-26T02:57:48.419928",
     "exception": false,
     "start_time": "2023-01-26T02:57:46.910838",
     "status": "completed"
    },
    "tags": []
   },
   "outputs": [],
   "source": [
    "import warnings\n",
    "warnings.filterwarnings('ignore')\n",
    "from sklearn import preprocessing\n",
    "import pickle\n",
    "import pandas as pd\n",
    "import numpy as np\n",
    "import matplotlib.pyplot as plt\n",
    "import seaborn as sns\n",
    "from sklearn.metrics import classification_report\n",
    "from sklearn import metrics\n",
    "from sklearn import tree\n",
    "from sklearn.model_selection import train_test_split\n",
    "from sklearn.tree import DecisionTreeClassifier\n",
    "from sklearn.naive_bayes import GaussianNB\n",
    "from sklearn.svm import SVC\n",
    "from sklearn.linear_model import LogisticRegression\n",
    "from sklearn.ensemble import RandomForestClassifier\n",
    "from sklearn.model_selection import cross_val_score\n",
    "from sklearn.preprocessing import label_binarize, LabelEncoder, label_binarize, RobustScaler\n",
    "from imblearn.over_sampling import SMOTE\n",
    "from collections import Counter"
   ]
  },
  {
   "cell_type": "code",
   "execution_count": 90,
   "id": "c470eebb",
   "metadata": {
    "execution": {
     "iopub.execute_input": "2023-01-26T02:57:48.443201Z",
     "iopub.status.busy": "2023-01-26T02:57:48.442338Z",
     "iopub.status.idle": "2023-01-26T02:57:48.478606Z",
     "shell.execute_reply": "2023-01-26T02:57:48.477711Z"
    },
    "papermill": {
     "duration": 0.050701,
     "end_time": "2023-01-26T02:57:48.480792",
     "exception": false,
     "start_time": "2023-01-26T02:57:48.430091",
     "status": "completed"
    },
    "tags": []
   },
   "outputs": [
    {
     "data": {
      "text/html": [
       "<div>\n",
       "<style scoped>\n",
       "    .dataframe tbody tr th:only-of-type {\n",
       "        vertical-align: middle;\n",
       "    }\n",
       "\n",
       "    .dataframe tbody tr th {\n",
       "        vertical-align: top;\n",
       "    }\n",
       "\n",
       "    .dataframe thead th {\n",
       "        text-align: right;\n",
       "    }\n",
       "</style>\n",
       "<table border=\"1\" class=\"dataframe\">\n",
       "  <thead>\n",
       "    <tr style=\"text-align: right;\">\n",
       "      <th></th>\n",
       "      <th>Nitrogen</th>\n",
       "      <th>Potassium</th>\n",
       "      <th>Phosphorous</th>\n",
       "      <th>Fertilizer Name</th>\n",
       "    </tr>\n",
       "  </thead>\n",
       "  <tbody>\n",
       "    <tr>\n",
       "      <th>0</th>\n",
       "      <td>37</td>\n",
       "      <td>0</td>\n",
       "      <td>0</td>\n",
       "      <td>Urea</td>\n",
       "    </tr>\n",
       "    <tr>\n",
       "      <th>1</th>\n",
       "      <td>12</td>\n",
       "      <td>0</td>\n",
       "      <td>36</td>\n",
       "      <td>DAP</td>\n",
       "    </tr>\n",
       "    <tr>\n",
       "      <th>2</th>\n",
       "      <td>7</td>\n",
       "      <td>9</td>\n",
       "      <td>30</td>\n",
       "      <td>14-35-14</td>\n",
       "    </tr>\n",
       "    <tr>\n",
       "      <th>3</th>\n",
       "      <td>22</td>\n",
       "      <td>0</td>\n",
       "      <td>20</td>\n",
       "      <td>28-28</td>\n",
       "    </tr>\n",
       "    <tr>\n",
       "      <th>4</th>\n",
       "      <td>35</td>\n",
       "      <td>0</td>\n",
       "      <td>0</td>\n",
       "      <td>Urea</td>\n",
       "    </tr>\n",
       "  </tbody>\n",
       "</table>\n",
       "</div>"
      ],
      "text/plain": [
       "   Nitrogen  Potassium  Phosphorous Fertilizer Name\n",
       "0        37          0            0            Urea\n",
       "1        12          0           36             DAP\n",
       "2         7          9           30        14-35-14\n",
       "3        22          0           20           28-28\n",
       "4        35          0            0            Urea"
      ]
     },
     "execution_count": 90,
     "metadata": {},
     "output_type": "execute_result"
    }
   ],
   "source": [
    "fertilizer = pd.read_csv('../dataset/fertilizer_data.csv')\n",
    "fert = fertilizer[[\"Nitrogen\", \"Potassium\", \"Phosphorous\",\"Fertilizer Name\"]]\n",
    "fert.head()"
   ]
  },
  {
   "cell_type": "code",
   "execution_count": 91,
   "id": "2dab08ea",
   "metadata": {
    "execution": {
     "iopub.execute_input": "2023-01-26T02:57:48.503352Z",
     "iopub.status.busy": "2023-01-26T02:57:48.502469Z",
     "iopub.status.idle": "2023-01-26T02:57:48.508726Z",
     "shell.execute_reply": "2023-01-26T02:57:48.507793Z"
    },
    "papermill": {
     "duration": 0.019106,
     "end_time": "2023-01-26T02:57:48.510629",
     "exception": false,
     "start_time": "2023-01-26T02:57:48.491523",
     "status": "completed"
    },
    "tags": []
   },
   "outputs": [
    {
     "data": {
      "text/plain": [
       "(99, 4)"
      ]
     },
     "execution_count": 91,
     "metadata": {},
     "output_type": "execute_result"
    }
   ],
   "source": [
    "fert.shape"
   ]
  },
  {
   "cell_type": "code",
   "execution_count": 92,
   "id": "bf225ec5",
   "metadata": {
    "execution": {
     "iopub.execute_input": "2023-01-26T02:57:48.532877Z",
     "iopub.status.busy": "2023-01-26T02:57:48.532070Z",
     "iopub.status.idle": "2023-01-26T02:57:48.553374Z",
     "shell.execute_reply": "2023-01-26T02:57:48.551611Z"
    },
    "papermill": {
     "duration": 0.034484,
     "end_time": "2023-01-26T02:57:48.555432",
     "exception": false,
     "start_time": "2023-01-26T02:57:48.520948",
     "status": "completed"
    },
    "tags": []
   },
   "outputs": [
    {
     "name": "stdout",
     "output_type": "stream",
     "text": [
      "<class 'pandas.core.frame.DataFrame'>\n",
      "RangeIndex: 99 entries, 0 to 98\n",
      "Data columns (total 4 columns):\n",
      " #   Column           Non-Null Count  Dtype \n",
      "---  ------           --------------  ----- \n",
      " 0   Nitrogen         99 non-null     int64 \n",
      " 1   Potassium        99 non-null     int64 \n",
      " 2   Phosphorous      99 non-null     int64 \n",
      " 3   Fertilizer Name  99 non-null     object\n",
      "dtypes: int64(3), object(1)\n",
      "memory usage: 3.2+ KB\n"
     ]
    }
   ],
   "source": [
    "fert.info()"
   ]
  },
  {
   "cell_type": "code",
   "execution_count": 93,
   "id": "0c8b2bea",
   "metadata": {
    "execution": {
     "iopub.execute_input": "2023-01-26T02:57:48.578383Z",
     "iopub.status.busy": "2023-01-26T02:57:48.577504Z",
     "iopub.status.idle": "2023-01-26T02:57:48.607013Z",
     "shell.execute_reply": "2023-01-26T02:57:48.605872Z"
    },
    "papermill": {
     "duration": 0.043337,
     "end_time": "2023-01-26T02:57:48.609443",
     "exception": false,
     "start_time": "2023-01-26T02:57:48.566106",
     "status": "completed"
    },
    "tags": []
   },
   "outputs": [
    {
     "data": {
      "text/html": [
       "<div>\n",
       "<style scoped>\n",
       "    .dataframe tbody tr th:only-of-type {\n",
       "        vertical-align: middle;\n",
       "    }\n",
       "\n",
       "    .dataframe tbody tr th {\n",
       "        vertical-align: top;\n",
       "    }\n",
       "\n",
       "    .dataframe thead th {\n",
       "        text-align: right;\n",
       "    }\n",
       "</style>\n",
       "<table border=\"1\" class=\"dataframe\">\n",
       "  <thead>\n",
       "    <tr style=\"text-align: right;\">\n",
       "      <th></th>\n",
       "      <th>Nitrogen</th>\n",
       "      <th>Potassium</th>\n",
       "      <th>Phosphorous</th>\n",
       "    </tr>\n",
       "  </thead>\n",
       "  <tbody>\n",
       "    <tr>\n",
       "      <th>count</th>\n",
       "      <td>99.000000</td>\n",
       "      <td>99.000000</td>\n",
       "      <td>99.000000</td>\n",
       "    </tr>\n",
       "    <tr>\n",
       "      <th>mean</th>\n",
       "      <td>18.909091</td>\n",
       "      <td>3.383838</td>\n",
       "      <td>18.606061</td>\n",
       "    </tr>\n",
       "    <tr>\n",
       "      <th>std</th>\n",
       "      <td>11.599693</td>\n",
       "      <td>5.814667</td>\n",
       "      <td>13.476978</td>\n",
       "    </tr>\n",
       "    <tr>\n",
       "      <th>min</th>\n",
       "      <td>4.000000</td>\n",
       "      <td>0.000000</td>\n",
       "      <td>0.000000</td>\n",
       "    </tr>\n",
       "    <tr>\n",
       "      <th>25%</th>\n",
       "      <td>10.000000</td>\n",
       "      <td>0.000000</td>\n",
       "      <td>9.000000</td>\n",
       "    </tr>\n",
       "    <tr>\n",
       "      <th>50%</th>\n",
       "      <td>13.000000</td>\n",
       "      <td>0.000000</td>\n",
       "      <td>19.000000</td>\n",
       "    </tr>\n",
       "    <tr>\n",
       "      <th>75%</th>\n",
       "      <td>24.000000</td>\n",
       "      <td>7.500000</td>\n",
       "      <td>30.000000</td>\n",
       "    </tr>\n",
       "    <tr>\n",
       "      <th>max</th>\n",
       "      <td>42.000000</td>\n",
       "      <td>19.000000</td>\n",
       "      <td>42.000000</td>\n",
       "    </tr>\n",
       "  </tbody>\n",
       "</table>\n",
       "</div>"
      ],
      "text/plain": [
       "        Nitrogen  Potassium  Phosphorous\n",
       "count  99.000000  99.000000    99.000000\n",
       "mean   18.909091   3.383838    18.606061\n",
       "std    11.599693   5.814667    13.476978\n",
       "min     4.000000   0.000000     0.000000\n",
       "25%    10.000000   0.000000     9.000000\n",
       "50%    13.000000   0.000000    19.000000\n",
       "75%    24.000000   7.500000    30.000000\n",
       "max    42.000000  19.000000    42.000000"
      ]
     },
     "execution_count": 93,
     "metadata": {},
     "output_type": "execute_result"
    }
   ],
   "source": [
    "fert.describe()"
   ]
  },
  {
   "cell_type": "code",
   "execution_count": 94,
   "id": "db095d70",
   "metadata": {
    "execution": {
     "iopub.execute_input": "2023-01-26T02:57:48.718611Z",
     "iopub.status.busy": "2023-01-26T02:57:48.717438Z",
     "iopub.status.idle": "2023-01-26T02:57:48.734683Z",
     "shell.execute_reply": "2023-01-26T02:57:48.733842Z"
    },
    "papermill": {
     "duration": 0.041647,
     "end_time": "2023-01-26T02:57:48.738037",
     "exception": false,
     "start_time": "2023-01-26T02:57:48.696390",
     "status": "completed"
    },
    "tags": []
   },
   "outputs": [
    {
     "data": {
      "text/plain": [
       "Nitrogen           24\n",
       "Potassium          13\n",
       "Phosphorous        32\n",
       "Fertilizer Name     7\n",
       "dtype: int64"
      ]
     },
     "execution_count": 94,
     "metadata": {},
     "output_type": "execute_result"
    }
   ],
   "source": [
    "fert.nunique()"
   ]
  },
  {
   "cell_type": "code",
   "execution_count": 95,
   "id": "b0fce2be",
   "metadata": {
    "execution": {
     "iopub.execute_input": "2023-01-26T02:57:48.869788Z",
     "iopub.status.busy": "2023-01-26T02:57:48.869450Z",
     "iopub.status.idle": "2023-01-26T02:57:48.875262Z",
     "shell.execute_reply": "2023-01-26T02:57:48.874457Z"
    },
    "papermill": {
     "duration": 0.026769,
     "end_time": "2023-01-26T02:57:48.880244",
     "exception": false,
     "start_time": "2023-01-26T02:57:48.853475",
     "status": "completed"
    },
    "tags": []
   },
   "outputs": [
    {
     "data": {
      "text/plain": [
       "array(['Urea', 'DAP', '14-35-14', '28-28', '17-17-17', '20-20',\n",
       "       '10-26-26'], dtype=object)"
      ]
     },
     "execution_count": 95,
     "metadata": {},
     "output_type": "execute_result"
    }
   ],
   "source": [
    "fert['Fertilizer Name'].unique()"
   ]
  },
  {
   "cell_type": "code",
   "execution_count": 96,
   "id": "a3d41631",
   "metadata": {
    "execution": {
     "iopub.execute_input": "2023-01-26T02:57:48.912211Z",
     "iopub.status.busy": "2023-01-26T02:57:48.911898Z",
     "iopub.status.idle": "2023-01-26T02:57:48.919510Z",
     "shell.execute_reply": "2023-01-26T02:57:48.918430Z"
    },
    "papermill": {
     "duration": 0.030187,
     "end_time": "2023-01-26T02:57:48.925379",
     "exception": false,
     "start_time": "2023-01-26T02:57:48.895192",
     "status": "completed"
    },
    "tags": []
   },
   "outputs": [
    {
     "data": {
      "text/plain": [
       "Urea        22\n",
       "DAP         18\n",
       "28-28       17\n",
       "14-35-14    14\n",
       "20-20       14\n",
       "17-17-17     7\n",
       "10-26-26     7\n",
       "Name: Fertilizer Name, dtype: int64"
      ]
     },
     "execution_count": 96,
     "metadata": {},
     "output_type": "execute_result"
    }
   ],
   "source": [
    "fert['Fertilizer Name'].value_counts()"
   ]
  },
  {
   "cell_type": "markdown",
   "id": "e92c7773",
   "metadata": {
    "papermill": {
     "duration": 0.016452,
     "end_time": "2023-01-26T02:57:48.960287",
     "exception": false,
     "start_time": "2023-01-26T02:57:48.943835",
     "status": "completed"
    },
    "tags": []
   },
   "source": [
    "### EDA (Exploratory Data Analysis)"
   ]
  },
  {
   "cell_type": "code",
   "execution_count": 97,
   "id": "06ab2c22",
   "metadata": {
    "execution": {
     "iopub.execute_input": "2023-01-26T02:57:48.995153Z",
     "iopub.status.busy": "2023-01-26T02:57:48.994791Z",
     "iopub.status.idle": "2023-01-26T02:57:49.268477Z",
     "shell.execute_reply": "2023-01-26T02:57:49.267379Z"
    },
    "papermill": {
     "duration": 0.293684,
     "end_time": "2023-01-26T02:57:49.271213",
     "exception": false,
     "start_time": "2023-01-26T02:57:48.977529",
     "status": "completed"
    },
    "tags": []
   },
   "outputs": [
    {
     "data": {
      "image/png": "[encoded data removed]",
      "text/plain": [
       "<Figure size 432x288 with 1 Axes>"
      ]
     },
     "metadata": {
      "needs_background": "light"
     },
     "output_type": "display_data"
    }
   ],
   "source": [
    "sns.countplot(x='Fertilizer Name', data = fert, palette = \"crest\")\n",
    "plt.xticks(rotation = 45)\n",
    "plt.show()"
   ]
  },
  {
   "cell_type": "code",
   "execution_count": 98,
   "id": "e2933680",
   "metadata": {
    "execution": {
     "iopub.execute_input": "2023-01-26T02:57:49.312787Z",
     "iopub.status.busy": "2023-01-26T02:57:49.312119Z",
     "iopub.status.idle": "2023-01-26T02:57:49.540458Z",
     "shell.execute_reply": "2023-01-26T02:57:49.539538Z"
    },
    "papermill": {
     "duration": 0.257238,
     "end_time": "2023-01-26T02:57:49.550937",
     "exception": false,
     "start_time": "2023-01-26T02:57:49.293699",
     "status": "completed"
    },
    "tags": []
   },
   "outputs": [
    {
     "data": {
      "image/png": "[encoded data removed]",
      "text/plain": [
       "<Figure size 432x288 with 1 Axes>"
      ]
     },
     "metadata": {},
     "output_type": "display_data"
    }
   ],
   "source": [
    "labels = 'Urea', 'DAP', '14-35-14', '28-28', '17-17-17', '20-20','10-26-26'\n",
    "fig, ax = plt.subplots()\n",
    "ax.pie(fert['Fertilizer Name'].value_counts(), labels = labels, radius = 2, autopct = '%1.2f%%', shadow = True)\n",
    "plt.show()"
   ]
  },
  {
   "cell_type": "code",
   "execution_count": 99,
   "id": "f175cf0a",
   "metadata": {
    "execution": {
     "iopub.execute_input": "2023-01-26T02:57:49.737982Z",
     "iopub.status.busy": "2023-01-26T02:57:49.737545Z",
     "iopub.status.idle": "2023-01-26T02:57:49.753921Z",
     "shell.execute_reply": "2023-01-26T02:57:49.753077Z"
    },
    "papermill": {
     "duration": 0.038734,
     "end_time": "2023-01-26T02:57:49.757047",
     "exception": false,
     "start_time": "2023-01-26T02:57:49.718313",
     "status": "completed"
    },
    "tags": []
   },
   "outputs": [],
   "source": [
    "# soil_type_label_encoder = LabelEncoder()\n",
    "# fert[\"Soil Type\"] = soil_type_label_encoder.fit_transform(fert[\"Soil Type\"])\n",
    "\n",
    "# crop_type_label_encoder = LabelEncoder()\n",
    "# fert[\"Crop Type\"] = crop_type_label_encoder.fit_transform(fert[\"Crop Type\"])\n",
    "\n",
    "# croptype_dict = {}\n",
    "# for i in range(len(fert[\"Crop Type\"].unique())):\n",
    "#     croptype_dict[i] = crop_type_label_encoder.inverse_transform([i])[0]\n",
    "# print(croptype_dict)\n",
    "\n",
    "# soiltype_dict = {}\n",
    "# for i in range(len(fert[\"Soil Type\"].unique())):\n",
    "#     soiltype_dict[i] = soil_type_label_encoder.inverse_transform([i])[0]\n",
    "# print(soiltype_dict)"
   ]
  },
  {
   "cell_type": "code",
   "execution_count": 100,
   "id": "17d9027b",
   "metadata": {
    "execution": {
     "iopub.execute_input": "2023-01-26T02:57:49.796028Z",
     "iopub.status.busy": "2023-01-26T02:57:49.795601Z",
     "iopub.status.idle": "2023-01-26T02:57:49.811135Z",
     "shell.execute_reply": "2023-01-26T02:57:49.810264Z"
    },
    "papermill": {
     "duration": 0.038065,
     "end_time": "2023-01-26T02:57:49.814002",
     "exception": false,
     "start_time": "2023-01-26T02:57:49.775937",
     "status": "completed"
    },
    "tags": []
   },
   "outputs": [
    {
     "data": {
      "text/html": [
       "<div>\n",
       "<style scoped>\n",
       "    .dataframe tbody tr th:only-of-type {\n",
       "        vertical-align: middle;\n",
       "    }\n",
       "\n",
       "    .dataframe tbody tr th {\n",
       "        vertical-align: top;\n",
       "    }\n",
       "\n",
       "    .dataframe thead th {\n",
       "        text-align: right;\n",
       "    }\n",
       "</style>\n",
       "<table border=\"1\" class=\"dataframe\">\n",
       "  <thead>\n",
       "    <tr style=\"text-align: right;\">\n",
       "      <th></th>\n",
       "      <th>Fertilizer Name</th>\n",
       "    </tr>\n",
       "  </thead>\n",
       "  <tbody>\n",
       "    <tr>\n",
       "      <th>0</th>\n",
       "      <td>Urea</td>\n",
       "    </tr>\n",
       "    <tr>\n",
       "      <th>1</th>\n",
       "      <td>DAP</td>\n",
       "    </tr>\n",
       "    <tr>\n",
       "      <th>2</th>\n",
       "      <td>14-35-14</td>\n",
       "    </tr>\n",
       "    <tr>\n",
       "      <th>3</th>\n",
       "      <td>28-28</td>\n",
       "    </tr>\n",
       "    <tr>\n",
       "      <th>4</th>\n",
       "      <td>Urea</td>\n",
       "    </tr>\n",
       "    <tr>\n",
       "      <th>...</th>\n",
       "      <td>...</td>\n",
       "    </tr>\n",
       "    <tr>\n",
       "      <th>94</th>\n",
       "      <td>28-28</td>\n",
       "    </tr>\n",
       "    <tr>\n",
       "      <th>95</th>\n",
       "      <td>10-26-26</td>\n",
       "    </tr>\n",
       "    <tr>\n",
       "      <th>96</th>\n",
       "      <td>Urea</td>\n",
       "    </tr>\n",
       "    <tr>\n",
       "      <th>97</th>\n",
       "      <td>DAP</td>\n",
       "    </tr>\n",
       "    <tr>\n",
       "      <th>98</th>\n",
       "      <td>20-20</td>\n",
       "    </tr>\n",
       "  </tbody>\n",
       "</table>\n",
       "<p>99 rows × 1 columns</p>\n",
       "</div>"
      ],
      "text/plain": [
       "   Fertilizer Name\n",
       "0             Urea\n",
       "1              DAP\n",
       "2         14-35-14\n",
       "3            28-28\n",
       "4             Urea\n",
       "..             ...\n",
       "94           28-28\n",
       "95        10-26-26\n",
       "96            Urea\n",
       "97             DAP\n",
       "98           20-20\n",
       "\n",
       "[99 rows x 1 columns]"
      ]
     },
     "execution_count": 100,
     "metadata": {},
     "output_type": "execute_result"
    }
   ],
   "source": [
    "fert_label = pd.DataFrame(fert['Fertilizer Name'])\n",
    "fert_label"
   ]
  },
  {
   "cell_type": "code",
   "execution_count": 101,
   "id": "75680e9a",
   "metadata": {
    "execution": {
     "iopub.execute_input": "2023-01-26T02:57:49.853516Z",
     "iopub.status.busy": "2023-01-26T02:57:49.853081Z",
     "iopub.status.idle": "2023-01-26T02:57:49.876764Z",
     "shell.execute_reply": "2023-01-26T02:57:49.875971Z"
    },
    "papermill": {
     "duration": 0.046943,
     "end_time": "2023-01-26T02:57:49.879323",
     "exception": false,
     "start_time": "2023-01-26T02:57:49.832380",
     "status": "completed"
    },
    "tags": []
   },
   "outputs": [
    {
     "data": {
      "text/html": [
       "<div>\n",
       "<style scoped>\n",
       "    .dataframe tbody tr th:only-of-type {\n",
       "        vertical-align: middle;\n",
       "    }\n",
       "\n",
       "    .dataframe tbody tr th {\n",
       "        vertical-align: top;\n",
       "    }\n",
       "\n",
       "    .dataframe thead th {\n",
       "        text-align: right;\n",
       "    }\n",
       "</style>\n",
       "<table border=\"1\" class=\"dataframe\">\n",
       "  <thead>\n",
       "    <tr style=\"text-align: right;\">\n",
       "      <th></th>\n",
       "      <th>Nitrogen</th>\n",
       "      <th>Potassium</th>\n",
       "      <th>Phosphorous</th>\n",
       "      <th>Fertilizer Name</th>\n",
       "      <th>Fertilizer</th>\n",
       "    </tr>\n",
       "  </thead>\n",
       "  <tbody>\n",
       "    <tr>\n",
       "      <th>0</th>\n",
       "      <td>37</td>\n",
       "      <td>0</td>\n",
       "      <td>0</td>\n",
       "      <td>Urea</td>\n",
       "      <td>6</td>\n",
       "    </tr>\n",
       "    <tr>\n",
       "      <th>1</th>\n",
       "      <td>12</td>\n",
       "      <td>0</td>\n",
       "      <td>36</td>\n",
       "      <td>DAP</td>\n",
       "      <td>5</td>\n",
       "    </tr>\n",
       "    <tr>\n",
       "      <th>2</th>\n",
       "      <td>7</td>\n",
       "      <td>9</td>\n",
       "      <td>30</td>\n",
       "      <td>14-35-14</td>\n",
       "      <td>1</td>\n",
       "    </tr>\n",
       "    <tr>\n",
       "      <th>3</th>\n",
       "      <td>22</td>\n",
       "      <td>0</td>\n",
       "      <td>20</td>\n",
       "      <td>28-28</td>\n",
       "      <td>4</td>\n",
       "    </tr>\n",
       "    <tr>\n",
       "      <th>4</th>\n",
       "      <td>35</td>\n",
       "      <td>0</td>\n",
       "      <td>0</td>\n",
       "      <td>Urea</td>\n",
       "      <td>6</td>\n",
       "    </tr>\n",
       "    <tr>\n",
       "      <th>...</th>\n",
       "      <td>...</td>\n",
       "      <td>...</td>\n",
       "      <td>...</td>\n",
       "      <td>...</td>\n",
       "      <td>...</td>\n",
       "    </tr>\n",
       "    <tr>\n",
       "      <th>94</th>\n",
       "      <td>24</td>\n",
       "      <td>0</td>\n",
       "      <td>19</td>\n",
       "      <td>28-28</td>\n",
       "      <td>4</td>\n",
       "    </tr>\n",
       "    <tr>\n",
       "      <th>95</th>\n",
       "      <td>4</td>\n",
       "      <td>17</td>\n",
       "      <td>17</td>\n",
       "      <td>10-26-26</td>\n",
       "      <td>0</td>\n",
       "    </tr>\n",
       "    <tr>\n",
       "      <th>96</th>\n",
       "      <td>39</td>\n",
       "      <td>0</td>\n",
       "      <td>0</td>\n",
       "      <td>Urea</td>\n",
       "      <td>6</td>\n",
       "    </tr>\n",
       "    <tr>\n",
       "      <th>97</th>\n",
       "      <td>15</td>\n",
       "      <td>0</td>\n",
       "      <td>41</td>\n",
       "      <td>DAP</td>\n",
       "      <td>5</td>\n",
       "    </tr>\n",
       "    <tr>\n",
       "      <th>98</th>\n",
       "      <td>12</td>\n",
       "      <td>0</td>\n",
       "      <td>10</td>\n",
       "      <td>20-20</td>\n",
       "      <td>3</td>\n",
       "    </tr>\n",
       "  </tbody>\n",
       "</table>\n",
       "<p>99 rows × 5 columns</p>\n",
       "</div>"
      ],
      "text/plain": [
       "    Nitrogen  Potassium  Phosphorous Fertilizer Name  Fertilizer\n",
       "0         37          0            0            Urea           6\n",
       "1         12          0           36             DAP           5\n",
       "2          7          9           30        14-35-14           1\n",
       "3         22          0           20           28-28           4\n",
       "4         35          0            0            Urea           6\n",
       "..       ...        ...          ...             ...         ...\n",
       "94        24          0           19           28-28           4\n",
       "95         4         17           17        10-26-26           0\n",
       "96        39          0            0            Urea           6\n",
       "97        15          0           41             DAP           5\n",
       "98        12          0           10           20-20           3\n",
       "\n",
       "[99 rows x 5 columns]"
      ]
     },
     "execution_count": 101,
     "metadata": {},
     "output_type": "execute_result"
    }
   ],
   "source": [
    "le2 = preprocessing.LabelEncoder()\n",
    "enc_label = fert_label.apply(le2.fit_transform)\n",
    "fert['Fertilizer'] = enc_label\n",
    "fert"
   ]
  },
  {
   "cell_type": "code",
   "execution_count": 102,
   "id": "f4dbfd7f",
   "metadata": {
    "execution": {
     "iopub.execute_input": "2023-01-26T02:57:49.918696Z",
     "iopub.status.busy": "2023-01-26T02:57:49.918294Z",
     "iopub.status.idle": "2023-01-26T02:57:49.925728Z",
     "shell.execute_reply": "2023-01-26T02:57:49.924790Z"
    },
    "papermill": {
     "duration": 0.033425,
     "end_time": "2023-01-26T02:57:49.932272",
     "exception": false,
     "start_time": "2023-01-26T02:57:49.898847",
     "status": "completed"
    },
    "tags": []
   },
   "outputs": [
    {
     "name": "stdout",
     "output_type": "stream",
     "text": [
      "{0: '10-26-26', 1: '14-35-14', 2: '17-17-17', 3: '20-20', 4: '28-28', 5: 'DAP', 6: 'Urea'}\n"
     ]
    }
   ],
   "source": [
    "Fertilizer_Name = {}\n",
    "for i in range(len(fert[\"Fertilizer\"].unique())):\n",
    "    Fertilizer_Name[i] = le2.inverse_transform([i])[0]\n",
    "print(Fertilizer_Name)"
   ]
  },
  {
   "cell_type": "code",
   "execution_count": 103,
   "id": "c6dafe45",
   "metadata": {
    "execution": {
     "iopub.execute_input": "2023-01-26T02:57:49.974571Z",
     "iopub.status.busy": "2023-01-26T02:57:49.974109Z",
     "iopub.status.idle": "2023-01-26T02:57:49.993851Z",
     "shell.execute_reply": "2023-01-26T02:57:49.993059Z"
    },
    "papermill": {
     "duration": 0.042372,
     "end_time": "2023-01-26T02:57:49.996287",
     "exception": false,
     "start_time": "2023-01-26T02:57:49.953915",
     "status": "completed"
    },
    "tags": []
   },
   "outputs": [
    {
     "data": {
      "text/html": [
       "<div>\n",
       "<style scoped>\n",
       "    .dataframe tbody tr th:only-of-type {\n",
       "        vertical-align: middle;\n",
       "    }\n",
       "\n",
       "    .dataframe tbody tr th {\n",
       "        vertical-align: top;\n",
       "    }\n",
       "\n",
       "    .dataframe thead th {\n",
       "        text-align: right;\n",
       "    }\n",
       "</style>\n",
       "<table border=\"1\" class=\"dataframe\">\n",
       "  <thead>\n",
       "    <tr style=\"text-align: right;\">\n",
       "      <th></th>\n",
       "      <th>Nitrogen</th>\n",
       "      <th>Potassium</th>\n",
       "      <th>Phosphorous</th>\n",
       "      <th>Fertilizer</th>\n",
       "    </tr>\n",
       "  </thead>\n",
       "  <tbody>\n",
       "    <tr>\n",
       "      <th>0</th>\n",
       "      <td>37</td>\n",
       "      <td>0</td>\n",
       "      <td>0</td>\n",
       "      <td>6</td>\n",
       "    </tr>\n",
       "    <tr>\n",
       "      <th>1</th>\n",
       "      <td>12</td>\n",
       "      <td>0</td>\n",
       "      <td>36</td>\n",
       "      <td>5</td>\n",
       "    </tr>\n",
       "    <tr>\n",
       "      <th>2</th>\n",
       "      <td>7</td>\n",
       "      <td>9</td>\n",
       "      <td>30</td>\n",
       "      <td>1</td>\n",
       "    </tr>\n",
       "    <tr>\n",
       "      <th>3</th>\n",
       "      <td>22</td>\n",
       "      <td>0</td>\n",
       "      <td>20</td>\n",
       "      <td>4</td>\n",
       "    </tr>\n",
       "    <tr>\n",
       "      <th>4</th>\n",
       "      <td>35</td>\n",
       "      <td>0</td>\n",
       "      <td>0</td>\n",
       "      <td>6</td>\n",
       "    </tr>\n",
       "    <tr>\n",
       "      <th>...</th>\n",
       "      <td>...</td>\n",
       "      <td>...</td>\n",
       "      <td>...</td>\n",
       "      <td>...</td>\n",
       "    </tr>\n",
       "    <tr>\n",
       "      <th>94</th>\n",
       "      <td>24</td>\n",
       "      <td>0</td>\n",
       "      <td>19</td>\n",
       "      <td>4</td>\n",
       "    </tr>\n",
       "    <tr>\n",
       "      <th>95</th>\n",
       "      <td>4</td>\n",
       "      <td>17</td>\n",
       "      <td>17</td>\n",
       "      <td>0</td>\n",
       "    </tr>\n",
       "    <tr>\n",
       "      <th>96</th>\n",
       "      <td>39</td>\n",
       "      <td>0</td>\n",
       "      <td>0</td>\n",
       "      <td>6</td>\n",
       "    </tr>\n",
       "    <tr>\n",
       "      <th>97</th>\n",
       "      <td>15</td>\n",
       "      <td>0</td>\n",
       "      <td>41</td>\n",
       "      <td>5</td>\n",
       "    </tr>\n",
       "    <tr>\n",
       "      <th>98</th>\n",
       "      <td>12</td>\n",
       "      <td>0</td>\n",
       "      <td>10</td>\n",
       "      <td>3</td>\n",
       "    </tr>\n",
       "  </tbody>\n",
       "</table>\n",
       "<p>99 rows × 4 columns</p>\n",
       "</div>"
      ],
      "text/plain": [
       "    Nitrogen  Potassium  Phosphorous  Fertilizer\n",
       "0         37          0            0           6\n",
       "1         12          0           36           5\n",
       "2          7          9           30           1\n",
       "3         22          0           20           4\n",
       "4         35          0            0           6\n",
       "..       ...        ...          ...         ...\n",
       "94        24          0           19           4\n",
       "95         4         17           17           0\n",
       "96        39          0            0           6\n",
       "97        15          0           41           5\n",
       "98        12          0           10           3\n",
       "\n",
       "[99 rows x 4 columns]"
      ]
     },
     "execution_count": 103,
     "metadata": {},
     "output_type": "execute_result"
    }
   ],
   "source": [
    "fert_multi = fert.drop(['Fertilizer Name'], axis = 1)\n",
    "fert_multi"
   ]
  },
  {
   "cell_type": "code",
   "execution_count": 104,
   "id": "916f895a",
   "metadata": {
    "execution": {
     "iopub.execute_input": "2023-01-26T02:57:50.036590Z",
     "iopub.status.busy": "2023-01-26T02:57:50.036153Z",
     "iopub.status.idle": "2023-01-26T02:57:50.047028Z",
     "shell.execute_reply": "2023-01-26T02:57:50.045514Z"
    },
    "papermill": {
     "duration": 0.035069,
     "end_time": "2023-01-26T02:57:50.051171",
     "exception": false,
     "start_time": "2023-01-26T02:57:50.016102",
     "status": "completed"
    },
    "tags": []
   },
   "outputs": [
    {
     "name": "stdout",
     "output_type": "stream",
     "text": [
      "X_train has shape: (99, 3) \n",
      "y_train has shape: (99, 1)\n"
     ]
    }
   ],
   "source": [
    "y_train_multi = fert_multi[['Fertilizer']]\n",
    "X_train_multi = fert_multi.drop(labels = ['Fertilizer'], axis = 1)\n",
    "\n",
    "print('X_train has shape:', X_train_multi.shape, '\\ny_train has shape:', y_train_multi.shape)"
   ]
  },
  {
   "cell_type": "code",
   "execution_count": 105,
   "id": "85482995",
   "metadata": {
    "execution": {
     "iopub.execute_input": "2023-01-26T02:57:50.091562Z",
     "iopub.status.busy": "2023-01-26T02:57:50.091123Z",
     "iopub.status.idle": "2023-01-26T02:57:50.115640Z",
     "shell.execute_reply": "2023-01-26T02:57:50.114536Z"
    },
    "papermill": {
     "duration": 0.047319,
     "end_time": "2023-01-26T02:57:50.117951",
     "exception": false,
     "start_time": "2023-01-26T02:57:50.070632",
     "status": "completed"
    },
    "tags": []
   },
   "outputs": [
    {
     "data": {
      "text/plain": [
       "(154, 3)"
      ]
     },
     "execution_count": 105,
     "metadata": {},
     "output_type": "execute_result"
    }
   ],
   "source": [
    "smote = SMOTE()\n",
    "X_train_multi, y_train_multi = smote.fit_resample(X_train_multi, y_train_multi)\n",
    "X_train_multi.shape"
   ]
  },
  {
   "cell_type": "code",
   "execution_count": 106,
   "id": "a57589ce",
   "metadata": {
    "execution": {
     "iopub.execute_input": "2023-01-26T02:57:50.150561Z",
     "iopub.status.busy": "2023-01-26T02:57:50.150274Z",
     "iopub.status.idle": "2023-01-26T02:57:50.156155Z",
     "shell.execute_reply": "2023-01-26T02:57:50.155080Z"
    },
    "papermill": {
     "duration": 0.022373,
     "end_time": "2023-01-26T02:57:50.158235",
     "exception": false,
     "start_time": "2023-01-26T02:57:50.135862",
     "status": "completed"
    },
    "tags": []
   },
   "outputs": [
    {
     "data": {
      "text/plain": [
       "(154, 1)"
      ]
     },
     "execution_count": 106,
     "metadata": {},
     "output_type": "execute_result"
    }
   ],
   "source": [
    "y_train_multi.shape"
   ]
  },
  {
   "cell_type": "code",
   "execution_count": 107,
   "id": "1ca20b12",
   "metadata": {
    "execution": {
     "iopub.execute_input": "2023-01-26T02:57:50.187715Z",
     "iopub.status.busy": "2023-01-26T02:57:50.186073Z",
     "iopub.status.idle": "2023-01-26T02:57:50.193633Z",
     "shell.execute_reply": "2023-01-26T02:57:50.192713Z"
    },
    "papermill": {
     "duration": 0.024278,
     "end_time": "2023-01-26T02:57:50.195978",
     "exception": false,
     "start_time": "2023-01-26T02:57:50.171700",
     "status": "completed"
    },
    "tags": []
   },
   "outputs": [],
   "source": [
    "X_train, X_test, y_train, y_test = train_test_split(X_train_multi, y_train_multi, test_size = 0.2, random_state = 42, shuffle = True)"
   ]
  },
  {
   "cell_type": "code",
   "execution_count": 108,
   "id": "e4c8d6b7",
   "metadata": {
    "execution": {
     "iopub.execute_input": "2023-01-26T02:57:50.366181Z",
     "iopub.status.busy": "2023-01-26T02:57:50.365312Z",
     "iopub.status.idle": "2023-01-26T02:57:50.372288Z",
     "shell.execute_reply": "2023-01-26T02:57:50.371059Z"
    },
    "papermill": {
     "duration": 0.026014,
     "end_time": "2023-01-26T02:57:50.374987",
     "exception": false,
     "start_time": "2023-01-26T02:57:50.348973",
     "status": "completed"
    },
    "tags": []
   },
   "outputs": [
    {
     "name": "stdout",
     "output_type": "stream",
     "text": [
      "X_train shape: (123, 3)\n",
      "y_train shape: (123, 1)\n",
      "X_test shape: (31, 3)\n",
      "y_test shape: (31, 1)\n"
     ]
    }
   ],
   "source": [
    "print('X_train shape:', X_train.shape)\n",
    "print('y_train shape:', y_train.shape)\n",
    "print('X_test shape:', X_test.shape)\n",
    "print('y_test shape:', y_test.shape)"
   ]
  },
  {
   "cell_type": "code",
   "execution_count": 109,
   "id": "2c433235",
   "metadata": {
    "execution": {
     "iopub.execute_input": "2023-01-26T02:57:50.407478Z",
     "iopub.status.busy": "2023-01-26T02:57:50.406773Z",
     "iopub.status.idle": "2023-01-26T02:57:50.417698Z",
     "shell.execute_reply": "2023-01-26T02:57:50.416746Z"
    },
    "papermill": {
     "duration": 0.02924,
     "end_time": "2023-01-26T02:57:50.420034",
     "exception": false,
     "start_time": "2023-01-26T02:57:50.390794",
     "status": "completed"
    },
    "tags": []
   },
   "outputs": [],
   "source": [
    "rs = RobustScaler()\n",
    "rs.fit(X_train)\n",
    "X_train_scaled = rs.transform(X_train)\n",
    "X_test_scaled = rs.transform(X_test)"
   ]
  },
  {
   "cell_type": "code",
   "execution_count": 110,
   "id": "68f37bc4",
   "metadata": {
    "execution": {
     "iopub.execute_input": "2023-01-26T02:57:50.450925Z",
     "iopub.status.busy": "2023-01-26T02:57:50.450247Z",
     "iopub.status.idle": "2023-01-26T02:57:50.455667Z",
     "shell.execute_reply": "2023-01-26T02:57:50.454665Z"
    },
    "papermill": {
     "duration": 0.023044,
     "end_time": "2023-01-26T02:57:50.457809",
     "exception": false,
     "start_time": "2023-01-26T02:57:50.434765",
     "status": "completed"
    },
    "tags": []
   },
   "outputs": [],
   "source": [
    "from sklearn.preprocessing import LabelEncoder\n",
    "le = LabelEncoder()\n",
    "y_train_encoded = le.fit(y_train)\n",
    "y_train_encoded = le.transform(y_train)\n",
    "y_test_encoded = le.transform(y_test)"
   ]
  },
  {
   "cell_type": "code",
   "execution_count": 111,
   "id": "38af8fb9",
   "metadata": {
    "execution": {
     "iopub.execute_input": "2023-01-26T02:57:50.488710Z",
     "iopub.status.busy": "2023-01-26T02:57:50.487783Z",
     "iopub.status.idle": "2023-01-26T02:57:50.494681Z",
     "shell.execute_reply": "2023-01-26T02:57:50.493635Z"
    },
    "papermill": {
     "duration": 0.024232,
     "end_time": "2023-01-26T02:57:50.496871",
     "exception": false,
     "start_time": "2023-01-26T02:57:50.472639",
     "status": "completed"
    },
    "tags": []
   },
   "outputs": [
    {
     "data": {
      "text/plain": [
       "array([1, 3, 1, 2, 4, 6, 5, 0, 6, 2, 0, 4, 4, 6, 0, 0, 1, 6, 6, 3, 0, 2,\n",
       "       6, 3, 5, 6, 5, 5, 6, 1, 5, 1, 3, 6, 5, 4, 5, 3, 1, 4, 6, 0, 5, 5,\n",
       "       4, 2, 4, 2, 2, 6, 1, 3, 0, 4, 3, 1, 5, 2, 3, 0, 1, 6, 1, 3, 4, 2,\n",
       "       6, 6, 4, 0, 0, 3, 3, 3, 5, 4, 4, 5, 2, 4, 4, 2, 4, 2, 3, 2, 0, 1,\n",
       "       0, 1, 2, 0, 4, 2, 3, 2, 3, 5, 2, 6, 0, 2, 3, 4, 2, 5, 3, 5, 6, 2,\n",
       "       0, 0, 1, 6, 5, 1, 5, 3, 6, 0, 5, 6, 0], dtype=int64)"
      ]
     },
     "execution_count": 111,
     "metadata": {},
     "output_type": "execute_result"
    }
   ],
   "source": [
    "y_train_encoded"
   ]
  },
  {
   "cell_type": "code",
   "execution_count": 112,
   "id": "d6df0b97",
   "metadata": {
    "execution": {
     "iopub.execute_input": "2023-01-26T02:57:50.527267Z",
     "iopub.status.busy": "2023-01-26T02:57:50.526379Z",
     "iopub.status.idle": "2023-01-26T02:57:50.532821Z",
     "shell.execute_reply": "2023-01-26T02:57:50.531842Z"
    },
    "papermill": {
     "duration": 0.023616,
     "end_time": "2023-01-26T02:57:50.534875",
     "exception": false,
     "start_time": "2023-01-26T02:57:50.511259",
     "status": "completed"
    },
    "tags": []
   },
   "outputs": [
    {
     "data": {
      "text/plain": [
       "array([2, 4, 5, 0, 0, 5, 6, 1, 1, 4, 1, 3, 5, 4, 0, 1, 1, 6, 1, 1, 3, 4,\n",
       "       2, 1, 2, 4, 6, 5, 0, 3, 3], dtype=int64)"
      ]
     },
     "execution_count": 112,
     "metadata": {},
     "output_type": "execute_result"
    }
   ],
   "source": [
    "y_test_encoded"
   ]
  },
  {
   "cell_type": "markdown",
   "id": "c59861ea",
   "metadata": {},
   "source": [
    "# Logistic Regression"
   ]
  },
  {
   "cell_type": "code",
   "execution_count": 113,
   "id": "018555aa",
   "metadata": {
    "execution": {
     "iopub.execute_input": "2023-01-26T02:57:50.564999Z",
     "iopub.status.busy": "2023-01-26T02:57:50.564158Z",
     "iopub.status.idle": "2023-01-26T02:57:50.588041Z",
     "shell.execute_reply": "2023-01-26T02:57:50.586520Z"
    },
    "papermill": {
     "duration": 0.040652,
     "end_time": "2023-01-26T02:57:50.590049",
     "exception": false,
     "start_time": "2023-01-26T02:57:50.549397",
     "status": "completed"
    },
    "tags": []
   },
   "outputs": [
    {
     "name": "stdout",
     "output_type": "stream",
     "text": [
      "Training accuracy:  99.1869918699187\n"
     ]
    }
   ],
   "source": [
    "from sklearn.linear_model import LogisticRegression\n",
    "LR = LogisticRegression()\n",
    "LR.fit(X_train_scaled, y_train_encoded)\n",
    "print('Training accuracy: ', LR.score(X_train_scaled, y_train_encoded) * 100)"
   ]
  },
  {
   "cell_type": "code",
   "execution_count": 114,
   "id": "cb136ceb",
   "metadata": {
    "execution": {
     "iopub.execute_input": "2023-01-26T02:57:50.620912Z",
     "iopub.status.busy": "2023-01-26T02:57:50.619491Z",
     "iopub.status.idle": "2023-01-26T02:57:50.626265Z",
     "shell.execute_reply": "2023-01-26T02:57:50.625345Z"
    },
    "papermill": {
     "duration": 0.023699,
     "end_time": "2023-01-26T02:57:50.628217",
     "exception": false,
     "start_time": "2023-01-26T02:57:50.604518",
     "status": "completed"
    },
    "tags": []
   },
   "outputs": [
    {
     "data": {
      "text/plain": [
       "array([2, 4, 5, 0, 0, 5, 6, 1, 1, 4, 1, 3, 5, 4, 2, 1, 1, 6, 1, 1, 3, 4,\n",
       "       2, 1, 2, 4, 6, 5, 0, 3, 3], dtype=int64)"
      ]
     },
     "execution_count": 114,
     "metadata": {},
     "output_type": "execute_result"
    }
   ],
   "source": [
    "LR_prediction = LR.predict(X_test_scaled)\n",
    "LR_prediction"
   ]
  },
  {
   "cell_type": "code",
   "execution_count": 115,
   "id": "2e20d11e",
   "metadata": {
    "execution": {
     "iopub.execute_input": "2023-01-26T02:57:51.091998Z",
     "iopub.status.busy": "2023-01-26T02:57:51.091087Z",
     "iopub.status.idle": "2023-01-26T02:57:51.101269Z",
     "shell.execute_reply": "2023-01-26T02:57:51.099686Z"
    },
    "papermill": {
     "duration": 0.028843,
     "end_time": "2023-01-26T02:57:51.103738",
     "exception": false,
     "start_time": "2023-01-26T02:57:51.074895",
     "status": "completed"
    },
    "tags": []
   },
   "outputs": [
    {
     "name": "stdout",
     "output_type": "stream",
     "text": [
      "Classification Report               precision    recall  f1-score   support\n",
      "\n",
      "           0       1.00      0.75      0.86         4\n",
      "           1       1.00      1.00      1.00         8\n",
      "           2       0.75      1.00      0.86         3\n",
      "           3       1.00      1.00      1.00         4\n",
      "           4       1.00      1.00      1.00         5\n",
      "           5       1.00      1.00      1.00         4\n",
      "           6       1.00      1.00      1.00         3\n",
      "\n",
      "    accuracy                           0.97        31\n",
      "   macro avg       0.96      0.96      0.96        31\n",
      "weighted avg       0.98      0.97      0.97        31\n",
      "\n"
     ]
    }
   ],
   "source": [
    "print(\"Classification Report\", classification_report(y_test_encoded, LR_prediction))"
   ]
  },
  {
   "cell_type": "markdown",
   "id": "513a3548",
   "metadata": {
    "papermill": {
     "duration": 0.014497,
     "end_time": "2023-01-26T02:57:51.133996",
     "exception": false,
     "start_time": "2023-01-26T02:57:51.119499",
     "status": "completed"
    },
    "tags": []
   },
   "source": [
    "### saving trained Logistic Regression model"
   ]
  },
  {
   "cell_type": "code",
   "execution_count": 116,
   "id": "c427a208",
   "metadata": {
    "execution": {
     "iopub.execute_input": "2023-01-26T02:57:51.164950Z",
     "iopub.status.busy": "2023-01-26T02:57:51.164140Z",
     "iopub.status.idle": "2023-01-26T02:57:51.169583Z",
     "shell.execute_reply": "2023-01-26T02:57:51.168662Z"
    },
    "papermill": {
     "duration": 0.023117,
     "end_time": "2023-01-26T02:57:51.171630",
     "exception": false,
     "start_time": "2023-01-26T02:57:51.148513",
     "status": "completed"
    },
    "tags": []
   },
   "outputs": [],
   "source": [
    "LR_pkl_filename = '../models/FS(LogisticRegression).pkl'\n",
    "LR_Model_pkl = open(LR_pkl_filename, 'wb')\n",
    "pickle.dump(LR, LR_Model_pkl)\n",
    "LR_Model_pkl.close()"
   ]
  },
  {
   "cell_type": "markdown",
   "id": "ea7640bd",
   "metadata": {},
   "source": [
    "# Random Forest"
   ]
  },
  {
   "cell_type": "code",
   "execution_count": 117,
   "id": "d22b82d3",
   "metadata": {
    "execution": {
     "iopub.execute_input": "2023-01-26T02:57:51.202007Z",
     "iopub.status.busy": "2023-01-26T02:57:51.201131Z",
     "iopub.status.idle": "2023-01-26T02:57:51.345487Z",
     "shell.execute_reply": "2023-01-26T02:57:51.344210Z"
    },
    "papermill": {
     "duration": 0.161532,
     "end_time": "2023-01-26T02:57:51.347475",
     "exception": false,
     "start_time": "2023-01-26T02:57:51.185943",
     "status": "completed"
    },
    "tags": []
   },
   "outputs": [
    {
     "name": "stdout",
     "output_type": "stream",
     "text": [
      "Training accuracy:  100.0\n"
     ]
    }
   ],
   "source": [
    "from sklearn.ensemble import RandomForestClassifier\n",
    "RF = RandomForestClassifier()\n",
    "RF.fit(X_train_scaled, y_train_encoded)\n",
    "print('Training accuracy: ', RF.score(X_train_scaled,y_train_encoded) * 100)"
   ]
  },
  {
   "cell_type": "code",
   "execution_count": 118,
   "id": "53d33a63",
   "metadata": {
    "execution": {
     "iopub.execute_input": "2023-01-26T02:57:51.378190Z",
     "iopub.status.busy": "2023-01-26T02:57:51.377929Z",
     "iopub.status.idle": "2023-01-26T02:57:51.397464Z",
     "shell.execute_reply": "2023-01-26T02:57:51.396278Z"
    },
    "papermill": {
     "duration": 0.037981,
     "end_time": "2023-01-26T02:57:51.400152",
     "exception": false,
     "start_time": "2023-01-26T02:57:51.362171",
     "status": "completed"
    },
    "tags": []
   },
   "outputs": [
    {
     "data": {
      "text/plain": [
       "array([2, 4, 5, 0, 0, 5, 6, 1, 1, 4, 1, 3, 5, 4, 0, 1, 1, 6, 1, 1, 3, 4,\n",
       "       2, 1, 2, 4, 6, 5, 0, 3, 3], dtype=int64)"
      ]
     },
     "execution_count": 118,
     "metadata": {},
     "output_type": "execute_result"
    }
   ],
   "source": [
    "RF_prediction = RF.predict(X_test_scaled)\n",
    "RF_prediction"
   ]
  },
  {
   "cell_type": "code",
   "execution_count": 119,
   "id": "dca82e92",
   "metadata": {
    "execution": {
     "iopub.execute_input": "2023-01-26T02:57:51.866736Z",
     "iopub.status.busy": "2023-01-26T02:57:51.866233Z",
     "iopub.status.idle": "2023-01-26T02:57:51.878298Z",
     "shell.execute_reply": "2023-01-26T02:57:51.877086Z"
    },
    "papermill": {
     "duration": 0.032182,
     "end_time": "2023-01-26T02:57:51.881455",
     "exception": false,
     "start_time": "2023-01-26T02:57:51.849273",
     "status": "completed"
    },
    "tags": []
   },
   "outputs": [
    {
     "name": "stdout",
     "output_type": "stream",
     "text": [
      "Classification Report               precision    recall  f1-score   support\n",
      "\n",
      "           0       1.00      1.00      1.00         4\n",
      "           1       1.00      1.00      1.00         8\n",
      "           2       1.00      1.00      1.00         3\n",
      "           3       1.00      1.00      1.00         4\n",
      "           4       1.00      1.00      1.00         5\n",
      "           5       1.00      1.00      1.00         4\n",
      "           6       1.00      1.00      1.00         3\n",
      "\n",
      "    accuracy                           1.00        31\n",
      "   macro avg       1.00      1.00      1.00        31\n",
      "weighted avg       1.00      1.00      1.00        31\n",
      "\n"
     ]
    }
   ],
   "source": [
    "print(\"Classification Report\", classification_report(y_test_encoded, RF_prediction))"
   ]
  },
  {
   "cell_type": "markdown",
   "id": "f3bacfaf",
   "metadata": {
    "papermill": {
     "duration": 0.015131,
     "end_time": "2023-01-26T02:57:51.912388",
     "exception": false,
     "start_time": "2023-01-26T02:57:51.897257",
     "status": "completed"
    },
    "tags": []
   },
   "source": [
    "### saving trained Random Forest model"
   ]
  },
  {
   "cell_type": "code",
   "execution_count": 120,
   "id": "b2c41abc",
   "metadata": {
    "execution": {
     "iopub.execute_input": "2023-01-26T02:57:51.944852Z",
     "iopub.status.busy": "2023-01-26T02:57:51.944555Z",
     "iopub.status.idle": "2023-01-26T02:57:51.956601Z",
     "shell.execute_reply": "2023-01-26T02:57:51.955671Z"
    },
    "papermill": {
     "duration": 0.031549,
     "end_time": "2023-01-26T02:57:51.959253",
     "exception": false,
     "start_time": "2023-01-26T02:57:51.927704",
     "status": "completed"
    },
    "tags": []
   },
   "outputs": [],
   "source": [
    "RF_pkl_filename = '../models/FS(RandomForest).pkl'\n",
    "RF_Model_pkl = open(RF_pkl_filename, 'wb')\n",
    "pickle.dump(RF, RF_Model_pkl)\n",
    "RF_Model_pkl.close()"
   ]
  },
  {
   "cell_type": "markdown",
   "id": "e7233de2",
   "metadata": {},
   "source": [
    "### test 1"
   ]
  },
  {
   "cell_type": "code",
   "execution_count": 121,
   "id": "7956cd9a",
   "metadata": {
    "execution": {
     "iopub.execute_input": "2023-01-26T02:57:52.021880Z",
     "iopub.status.busy": "2023-01-26T02:57:52.021603Z",
     "iopub.status.idle": "2023-01-26T02:57:52.027336Z",
     "shell.execute_reply": "2023-01-26T02:57:52.026242Z"
    },
    "papermill": {
     "duration": 0.02584,
     "end_time": "2023-01-26T02:57:52.031342",
     "exception": false,
     "start_time": "2023-01-26T02:57:52.005502",
     "status": "completed"
    },
    "tags": []
   },
   "outputs": [
    {
     "name": "stdout",
     "output_type": "stream",
     "text": [
      "Urea\n"
     ]
    }
   ],
   "source": [
    "data = np.array([[27, 0,0]])\n",
    "prediction = LR.predict(data)\n",
    "print(Fertilizer_Name[prediction[0]])"
   ]
  },
  {
   "cell_type": "code",
   "execution_count": 122,
   "id": "8b9c1af1",
   "metadata": {
    "execution": {
     "iopub.execute_input": "2023-01-26T02:57:52.064437Z",
     "iopub.status.busy": "2023-01-26T02:57:52.064184Z",
     "iopub.status.idle": "2023-01-26T02:57:52.084963Z",
     "shell.execute_reply": "2023-01-26T02:57:52.083872Z"
    },
    "papermill": {
     "duration": 0.039316,
     "end_time": "2023-01-26T02:57:52.087778",
     "exception": false,
     "start_time": "2023-01-26T02:57:52.048462",
     "status": "completed"
    },
    "tags": []
   },
   "outputs": [
    {
     "name": "stdout",
     "output_type": "stream",
     "text": [
      "Urea\n"
     ]
    }
   ],
   "source": [
    "data = np.array([[14, 14, 14]])\n",
    "prediction = RF.predict(data)\n",
    "print(Fertilizer_Name[prediction[0]])"
   ]
  },
  {
   "cell_type": "markdown",
   "id": "1a75c8b7",
   "metadata": {
    "papermill": {
     "duration": 0.015798,
     "end_time": "2023-01-26T02:57:52.120971",
     "exception": false,
     "start_time": "2023-01-26T02:57:52.105173",
     "status": "completed"
    },
    "tags": []
   },
   "source": [
    "### test2"
   ]
  },
  {
   "cell_type": "code",
   "execution_count": 123,
   "id": "eb60f9e6",
   "metadata": {
    "execution": {
     "iopub.execute_input": "2023-01-26T02:57:52.153275Z",
     "iopub.status.busy": "2023-01-26T02:57:52.152485Z",
     "iopub.status.idle": "2023-01-26T02:57:52.159842Z",
     "shell.execute_reply": "2023-01-26T02:57:52.158706Z"
    },
    "papermill": {
     "duration": 0.026065,
     "end_time": "2023-01-26T02:57:52.162522",
     "exception": false,
     "start_time": "2023-01-26T02:57:52.136457",
     "status": "completed"
    },
    "tags": []
   },
   "outputs": [
    {
     "data": {
      "text/plain": [
       "'10-26-26'"
      ]
     },
     "execution_count": 123,
     "metadata": {},
     "output_type": "execute_result"
    }
   ],
   "source": [
    "testLR=np.array(X_test)\n",
    "prediction = LR.predict(testLR)\n",
    "Fertilizer_Name[prediction[4]]"
   ]
  },
  {
   "cell_type": "code",
   "execution_count": 124,
   "id": "8f01dcb5",
   "metadata": {
    "execution": {
     "iopub.execute_input": "2023-01-26T02:57:52.194298Z",
     "iopub.status.busy": "2023-01-26T02:57:52.194044Z",
     "iopub.status.idle": "2023-01-26T02:57:52.213000Z",
     "shell.execute_reply": "2023-01-26T02:57:52.211982Z"
    },
    "papermill": {
     "duration": 0.036853,
     "end_time": "2023-01-26T02:57:52.215079",
     "exception": false,
     "start_time": "2023-01-26T02:57:52.178226",
     "status": "completed"
    },
    "tags": []
   },
   "outputs": [
    {
     "data": {
      "text/plain": [
       "'Urea'"
      ]
     },
     "execution_count": 124,
     "metadata": {},
     "output_type": "execute_result"
    }
   ],
   "source": [
    "prediction = RF.predict(testLR)\n",
    "Fertilizer_Name[prediction[4]]"
   ]
  },
  {
   "cell_type": "code",
   "execution_count": 125,
   "id": "dd6b1883",
   "metadata": {
    "execution": {
     "iopub.execute_input": "2023-01-26T02:57:52.246996Z",
     "iopub.status.busy": "2023-01-26T02:57:52.246108Z",
     "iopub.status.idle": "2023-01-26T02:57:52.252752Z",
     "shell.execute_reply": "2023-01-26T02:57:52.251826Z"
    },
    "papermill": {
     "duration": 0.024741,
     "end_time": "2023-01-26T02:57:52.254745",
     "exception": false,
     "start_time": "2023-01-26T02:57:52.230004",
     "status": "completed"
    },
    "tags": []
   },
   "outputs": [
    {
     "data": {
      "text/plain": [
       "'10-26-26'"
      ]
     },
     "execution_count": 125,
     "metadata": {},
     "output_type": "execute_result"
    }
   ],
   "source": [
    "test=np.array(y_test)\n",
    "Fertilizer_Name[test[4][0]]"
   ]
  },
  {
   "cell_type": "markdown",
   "id": "f35ddf7d",
   "metadata": {
    "papermill": {
     "duration": 0.015261,
     "end_time": "2023-01-26T02:57:52.285572",
     "exception": false,
     "start_time": "2023-01-26T02:57:52.270311",
     "status": "completed"
    },
    "tags": []
   },
   "source": [
    "### test3"
   ]
  },
  {
   "cell_type": "code",
   "execution_count": 126,
   "id": "d2095abc",
   "metadata": {
    "execution": {
     "iopub.execute_input": "2023-01-26T02:57:52.318100Z",
     "iopub.status.busy": "2023-01-26T02:57:52.317307Z",
     "iopub.status.idle": "2023-01-26T02:57:52.324229Z",
     "shell.execute_reply": "2023-01-26T02:57:52.322716Z"
    },
    "papermill": {
     "duration": 0.026148,
     "end_time": "2023-01-26T02:57:52.327113",
     "exception": false,
     "start_time": "2023-01-26T02:57:52.300965",
     "status": "completed"
    },
    "tags": []
   },
   "outputs": [
    {
     "name": "stdout",
     "output_type": "stream",
     "text": [
      "Urea\n"
     ]
    }
   ],
   "source": [
    "data = np.array([[29, 20, 0]])\n",
    "prediction = LR.predict(data)\n",
    "print(Fertilizer_Name[prediction[0]])"
   ]
  },
  {
   "cell_type": "code",
   "execution_count": 127,
   "id": "24a9be7e",
   "metadata": {
    "execution": {
     "iopub.execute_input": "2023-01-26T02:57:52.361402Z",
     "iopub.status.busy": "2023-01-26T02:57:52.360479Z",
     "iopub.status.idle": "2023-01-26T02:57:52.377832Z",
     "shell.execute_reply": "2023-01-26T02:57:52.376298Z"
    },
    "papermill": {
     "duration": 0.035967,
     "end_time": "2023-01-26T02:57:52.380142",
     "exception": false,
     "start_time": "2023-01-26T02:57:52.344175",
     "status": "completed"
    },
    "tags": []
   },
   "outputs": [
    {
     "name": "stdout",
     "output_type": "stream",
     "text": [
      "10-26-26\n"
     ]
    }
   ],
   "source": [
    "data = np.array([[ 0, 8, 12]])\n",
    "prediction = RF.predict(data)\n",
    "print(Fertilizer_Name[prediction[0]])"
   ]
  }
 ],
 "metadata": {
  "kernelspec": {
   "display_name": "Python 3",
   "language": "python",
   "name": "python3"
  },
  "language_info": {
   "codemirror_mode": {
    "name": "ipython",
    "version": 3
   },
   "file_extension": ".py",
   "mimetype": "text/x-python",
   "name": "python",
   "nbconvert_exporter": "python",
   "pygments_lexer": "ipython3",
   "version": "3.9.5"
  },
  "papermill": {
   "default_parameters": {},
   "duration": 14.506105,
   "end_time": "2023-01-26T02:57:53.015697",
   "environment_variables": {},
   "exception": null,
   "input_path": "__notebook__.ipynb",
   "output_path": "__notebook__.ipynb",
   "parameters": {},
   "start_time": "2023-01-26T02:57:38.509592",
   "version": "2.3.4"
  },
  "vscode": {
   "interpreter": {
    "hash": "97c168e9bd736017503c74358fff7ff9aacde3d5d57325e1d379923bab8720c8"
   }
  }
 },
 "nbformat": 4,
 "nbformat_minor": 5
}
