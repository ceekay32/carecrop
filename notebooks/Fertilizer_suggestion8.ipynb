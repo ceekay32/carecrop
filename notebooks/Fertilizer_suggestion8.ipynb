{
  "cells": [
    {
      "cell_type": "code",
      "execution_count": 183,
      "id": "6ce4bb28",
      "metadata": {
        "id": "6ce4bb28"
      },
      "outputs": [],
      "source": [
        "# !pip install imbalanced-learn"
      ]
    },
    {
      "cell_type": "code",
      "execution_count": 184,
      "id": "9cdc2ae6",
      "metadata": {
        "colab": {
          "base_uri": "https://localhost:8080/"
        },
        "id": "9cdc2ae6",
        "outputId": "d7437e95-0ebe-4a84-88eb-cc3503c0b018"
      },
      "outputs": [
        {
          "output_type": "stream",
          "name": "stdout",
          "text": [
            "Looking in indexes: https://pypi.org/simple, https://us-python.pkg.dev/colab-wheels/public/simple/\n",
            "Requirement already satisfied: imblearn in /usr/local/lib/python3.10/dist-packages (0.0)\n",
            "Requirement already satisfied: imbalanced-learn in /usr/local/lib/python3.10/dist-packages (from imblearn) (0.10.1)\n",
            "Requirement already satisfied: numpy>=1.17.3 in /usr/local/lib/python3.10/dist-packages (from imbalanced-learn->imblearn) (1.22.4)\n",
            "Requirement already satisfied: scipy>=1.3.2 in /usr/local/lib/python3.10/dist-packages (from imbalanced-learn->imblearn) (1.10.1)\n",
            "Requirement already satisfied: scikit-learn>=1.0.2 in /usr/local/lib/python3.10/dist-packages (from imbalanced-learn->imblearn) (1.2.2)\n",
            "Requirement already satisfied: joblib>=1.1.1 in /usr/local/lib/python3.10/dist-packages (from imbalanced-learn->imblearn) (1.2.0)\n",
            "Requirement already satisfied: threadpoolctl>=2.0.0 in /usr/local/lib/python3.10/dist-packages (from imbalanced-learn->imblearn) (3.1.0)\n"
          ]
        }
      ],
      "source": [
        "pip install imblearn"
      ]
    },
    {
      "cell_type": "code",
      "execution_count": 185,
      "id": "34d3d406",
      "metadata": {
        "execution": {
          "iopub.execute_input": "2023-01-26T02:57:46.932958Z",
          "iopub.status.busy": "2023-01-26T02:57:46.932439Z",
          "iopub.status.idle": "2023-01-26T02:57:48.417395Z",
          "shell.execute_reply": "2023-01-26T02:57:48.416468Z"
        },
        "papermill": {
          "duration": 1.50909,
          "end_time": "2023-01-26T02:57:48.419928",
          "exception": false,
          "start_time": "2023-01-26T02:57:46.910838",
          "status": "completed"
        },
        "tags": [],
        "id": "34d3d406"
      },
      "outputs": [],
      "source": [
        "import warnings\n",
        "warnings.filterwarnings('ignore')\n",
        "from sklearn import preprocessing\n",
        "import pickle\n",
        "import pandas as pd\n",
        "import numpy as np\n",
        "import matplotlib.pyplot as plt\n",
        "import seaborn as sns\n",
        "from sklearn.metrics import classification_report\n",
        "from sklearn import metrics\n",
        "from sklearn import tree\n",
        "from sklearn.model_selection import train_test_split\n",
        "from sklearn.tree import DecisionTreeClassifier\n",
        "from sklearn.naive_bayes import GaussianNB\n",
        "from sklearn.svm import SVC\n",
        "from sklearn.linear_model import LogisticRegression\n",
        "from sklearn.ensemble import RandomForestClassifier\n",
        "from sklearn.model_selection import cross_val_score\n",
        "from sklearn.preprocessing import label_binarize, LabelEncoder, label_binarize, RobustScaler\n",
        "from imblearn.over_sampling import SMOTE\n",
        "from collections import Counter"
      ]
    },
    {
      "cell_type": "code",
      "execution_count": 186,
      "id": "c470eebb",
      "metadata": {
        "execution": {
          "iopub.execute_input": "2023-01-26T02:57:48.443201Z",
          "iopub.status.busy": "2023-01-26T02:57:48.442338Z",
          "iopub.status.idle": "2023-01-26T02:57:48.478606Z",
          "shell.execute_reply": "2023-01-26T02:57:48.477711Z"
        },
        "papermill": {
          "duration": 0.050701,
          "end_time": "2023-01-26T02:57:48.480792",
          "exception": false,
          "start_time": "2023-01-26T02:57:48.430091",
          "status": "completed"
        },
        "tags": [],
        "colab": {
          "base_uri": "https://localhost:8080/",
          "height": 206
        },
        "id": "c470eebb",
        "outputId": "54255f98-0a54-4b35-9b90-5bb24de8ddfb"
      },
      "outputs": [
        {
          "output_type": "execute_result",
          "data": {
            "text/plain": [
              "   Temparature  Humidity   Moisture Soil Type  Crop Type  Nitrogen  Potassium  \\\n",
              "0           26         52        38     Sandy      Maize        37          0   \n",
              "1           29         52        45     Loamy  Sugarcane        12          0   \n",
              "2           34         65        62     Black     Cotton         7          9   \n",
              "3           32         62        34       Red    Tobacco        22          0   \n",
              "4           28         54        46    Clayey      Paddy        35          0   \n",
              "\n",
              "   Phosphorous Fertilizer Name  \n",
              "0            0            Urea  \n",
              "1           36             DAP  \n",
              "2           30        14-35-14  \n",
              "3           20           28-28  \n",
              "4            0            Urea  "
            ],
            "text/html": [
              "\n",
              "  <div id=\"df-9d2fe21b-f89f-4477-803b-9e2cb62b7d3d\">\n",
              "    <div class=\"colab-df-container\">\n",
              "      <div>\n",
              "<style scoped>\n",
              "    .dataframe tbody tr th:only-of-type {\n",
              "        vertical-align: middle;\n",
              "    }\n",
              "\n",
              "    .dataframe tbody tr th {\n",
              "        vertical-align: top;\n",
              "    }\n",
              "\n",
              "    .dataframe thead th {\n",
              "        text-align: right;\n",
              "    }\n",
              "</style>\n",
              "<table border=\"1\" class=\"dataframe\">\n",
              "  <thead>\n",
              "    <tr style=\"text-align: right;\">\n",
              "      <th></th>\n",
              "      <th>Temparature</th>\n",
              "      <th>Humidity</th>\n",
              "      <th>Moisture</th>\n",
              "      <th>Soil Type</th>\n",
              "      <th>Crop Type</th>\n",
              "      <th>Nitrogen</th>\n",
              "      <th>Potassium</th>\n",
              "      <th>Phosphorous</th>\n",
              "      <th>Fertilizer Name</th>\n",
              "    </tr>\n",
              "  </thead>\n",
              "  <tbody>\n",
              "    <tr>\n",
              "      <th>0</th>\n",
              "      <td>26</td>\n",
              "      <td>52</td>\n",
              "      <td>38</td>\n",
              "      <td>Sandy</td>\n",
              "      <td>Maize</td>\n",
              "      <td>37</td>\n",
              "      <td>0</td>\n",
              "      <td>0</td>\n",
              "      <td>Urea</td>\n",
              "    </tr>\n",
              "    <tr>\n",
              "      <th>1</th>\n",
              "      <td>29</td>\n",
              "      <td>52</td>\n",
              "      <td>45</td>\n",
              "      <td>Loamy</td>\n",
              "      <td>Sugarcane</td>\n",
              "      <td>12</td>\n",
              "      <td>0</td>\n",
              "      <td>36</td>\n",
              "      <td>DAP</td>\n",
              "    </tr>\n",
              "    <tr>\n",
              "      <th>2</th>\n",
              "      <td>34</td>\n",
              "      <td>65</td>\n",
              "      <td>62</td>\n",
              "      <td>Black</td>\n",
              "      <td>Cotton</td>\n",
              "      <td>7</td>\n",
              "      <td>9</td>\n",
              "      <td>30</td>\n",
              "      <td>14-35-14</td>\n",
              "    </tr>\n",
              "    <tr>\n",
              "      <th>3</th>\n",
              "      <td>32</td>\n",
              "      <td>62</td>\n",
              "      <td>34</td>\n",
              "      <td>Red</td>\n",
              "      <td>Tobacco</td>\n",
              "      <td>22</td>\n",
              "      <td>0</td>\n",
              "      <td>20</td>\n",
              "      <td>28-28</td>\n",
              "    </tr>\n",
              "    <tr>\n",
              "      <th>4</th>\n",
              "      <td>28</td>\n",
              "      <td>54</td>\n",
              "      <td>46</td>\n",
              "      <td>Clayey</td>\n",
              "      <td>Paddy</td>\n",
              "      <td>35</td>\n",
              "      <td>0</td>\n",
              "      <td>0</td>\n",
              "      <td>Urea</td>\n",
              "    </tr>\n",
              "  </tbody>\n",
              "</table>\n",
              "</div>\n",
              "      <button class=\"colab-df-convert\" onclick=\"convertToInteractive('df-9d2fe21b-f89f-4477-803b-9e2cb62b7d3d')\"\n",
              "              title=\"Convert this dataframe to an interactive table.\"\n",
              "              style=\"display:none;\">\n",
              "        \n",
              "  <svg xmlns=\"http://www.w3.org/2000/svg\" height=\"24px\"viewBox=\"0 0 24 24\"\n",
              "       width=\"24px\">\n",
              "    <path d=\"M0 0h24v24H0V0z\" fill=\"none\"/>\n",
              "    <path d=\"M18.56 5.44l.94 2.06.94-2.06 2.06-.94-2.06-.94-.94-2.06-.94 2.06-2.06.94zm-11 1L8.5 8.5l.94-2.06 2.06-.94-2.06-.94L8.5 2.5l-.94 2.06-2.06.94zm10 10l.94 2.06.94-2.06 2.06-.94-2.06-.94-.94-2.06-.94 2.06-2.06.94z\"/><path d=\"M17.41 7.96l-1.37-1.37c-.4-.4-.92-.59-1.43-.59-.52 0-1.04.2-1.43.59L10.3 9.45l-7.72 7.72c-.78.78-.78 2.05 0 2.83L4 21.41c.39.39.9.59 1.41.59.51 0 1.02-.2 1.41-.59l7.78-7.78 2.81-2.81c.8-.78.8-2.07 0-2.86zM5.41 20L4 18.59l7.72-7.72 1.47 1.35L5.41 20z\"/>\n",
              "  </svg>\n",
              "      </button>\n",
              "      \n",
              "  <style>\n",
              "    .colab-df-container {\n",
              "      display:flex;\n",
              "      flex-wrap:wrap;\n",
              "      gap: 12px;\n",
              "    }\n",
              "\n",
              "    .colab-df-convert {\n",
              "      background-color: #E8F0FE;\n",
              "      border: none;\n",
              "      border-radius: 50%;\n",
              "      cursor: pointer;\n",
              "      display: none;\n",
              "      fill: #1967D2;\n",
              "      height: 32px;\n",
              "      padding: 0 0 0 0;\n",
              "      width: 32px;\n",
              "    }\n",
              "\n",
              "    .colab-df-convert:hover {\n",
              "      background-color: #E2EBFA;\n",
              "      box-shadow: 0px 1px 2px rgba(60, 64, 67, 0.3), 0px 1px 3px 1px rgba(60, 64, 67, 0.15);\n",
              "      fill: #174EA6;\n",
              "    }\n",
              "\n",
              "    [theme=dark] .colab-df-convert {\n",
              "      background-color: #3B4455;\n",
              "      fill: #D2E3FC;\n",
              "    }\n",
              "\n",
              "    [theme=dark] .colab-df-convert:hover {\n",
              "      background-color: #434B5C;\n",
              "      box-shadow: 0px 1px 3px 1px rgba(0, 0, 0, 0.15);\n",
              "      filter: drop-shadow(0px 1px 2px rgba(0, 0, 0, 0.3));\n",
              "      fill: #FFFFFF;\n",
              "    }\n",
              "  </style>\n",
              "\n",
              "      <script>\n",
              "        const buttonEl =\n",
              "          document.querySelector('#df-9d2fe21b-f89f-4477-803b-9e2cb62b7d3d button.colab-df-convert');\n",
              "        buttonEl.style.display =\n",
              "          google.colab.kernel.accessAllowed ? 'block' : 'none';\n",
              "\n",
              "        async function convertToInteractive(key) {\n",
              "          const element = document.querySelector('#df-9d2fe21b-f89f-4477-803b-9e2cb62b7d3d');\n",
              "          const dataTable =\n",
              "            await google.colab.kernel.invokeFunction('convertToInteractive',\n",
              "                                                     [key], {});\n",
              "          if (!dataTable) return;\n",
              "\n",
              "          const docLinkHtml = 'Like what you see? Visit the ' +\n",
              "            '<a target=\"_blank\" href=https://colab.research.google.com/notebooks/data_table.ipynb>data table notebook</a>'\n",
              "            + ' to learn more about interactive tables.';\n",
              "          element.innerHTML = '';\n",
              "          dataTable['output_type'] = 'display_data';\n",
              "          await google.colab.output.renderOutput(dataTable, element);\n",
              "          const docLink = document.createElement('div');\n",
              "          docLink.innerHTML = docLinkHtml;\n",
              "          element.appendChild(docLink);\n",
              "        }\n",
              "      </script>\n",
              "    </div>\n",
              "  </div>\n",
              "  "
            ]
          },
          "metadata": {},
          "execution_count": 186
        }
      ],
      "source": [
        "fert = pd.read_csv('fertilizer_data.csv')\n",
        "fert.head()"
      ]
    },
    {
      "cell_type": "code",
      "execution_count": 187,
      "id": "2dab08ea",
      "metadata": {
        "execution": {
          "iopub.execute_input": "2023-01-26T02:57:48.503352Z",
          "iopub.status.busy": "2023-01-26T02:57:48.502469Z",
          "iopub.status.idle": "2023-01-26T02:57:48.508726Z",
          "shell.execute_reply": "2023-01-26T02:57:48.507793Z"
        },
        "papermill": {
          "duration": 0.019106,
          "end_time": "2023-01-26T02:57:48.510629",
          "exception": false,
          "start_time": "2023-01-26T02:57:48.491523",
          "status": "completed"
        },
        "tags": [],
        "colab": {
          "base_uri": "https://localhost:8080/"
        },
        "id": "2dab08ea",
        "outputId": "a3dd9edb-a3b6-4f9a-c926-516730a4ef1b"
      },
      "outputs": [
        {
          "output_type": "execute_result",
          "data": {
            "text/plain": [
              "(99, 9)"
            ]
          },
          "metadata": {},
          "execution_count": 187
        }
      ],
      "source": [
        "fert.shape"
      ]
    },
    {
      "cell_type": "code",
      "execution_count": 188,
      "id": "bf225ec5",
      "metadata": {
        "execution": {
          "iopub.execute_input": "2023-01-26T02:57:48.532877Z",
          "iopub.status.busy": "2023-01-26T02:57:48.532070Z",
          "iopub.status.idle": "2023-01-26T02:57:48.553374Z",
          "shell.execute_reply": "2023-01-26T02:57:48.551611Z"
        },
        "papermill": {
          "duration": 0.034484,
          "end_time": "2023-01-26T02:57:48.555432",
          "exception": false,
          "start_time": "2023-01-26T02:57:48.520948",
          "status": "completed"
        },
        "tags": [],
        "colab": {
          "base_uri": "https://localhost:8080/"
        },
        "id": "bf225ec5",
        "outputId": "5789d625-acd1-4ee4-d9de-9254759eacbe"
      },
      "outputs": [
        {
          "output_type": "stream",
          "name": "stdout",
          "text": [
            "<class 'pandas.core.frame.DataFrame'>\n",
            "RangeIndex: 99 entries, 0 to 98\n",
            "Data columns (total 9 columns):\n",
            " #   Column           Non-Null Count  Dtype \n",
            "---  ------           --------------  ----- \n",
            " 0   Temparature      99 non-null     int64 \n",
            " 1   Humidity         99 non-null     int64 \n",
            " 2   Moisture         99 non-null     int64 \n",
            " 3   Soil Type        99 non-null     object\n",
            " 4   Crop Type        99 non-null     object\n",
            " 5   Nitrogen         99 non-null     int64 \n",
            " 6   Potassium        99 non-null     int64 \n",
            " 7   Phosphorous      99 non-null     int64 \n",
            " 8   Fertilizer Name  99 non-null     object\n",
            "dtypes: int64(6), object(3)\n",
            "memory usage: 7.1+ KB\n"
          ]
        }
      ],
      "source": [
        "fert.info()"
      ]
    },
    {
      "cell_type": "code",
      "execution_count": 189,
      "id": "0c8b2bea",
      "metadata": {
        "execution": {
          "iopub.execute_input": "2023-01-26T02:57:48.578383Z",
          "iopub.status.busy": "2023-01-26T02:57:48.577504Z",
          "iopub.status.idle": "2023-01-26T02:57:48.607013Z",
          "shell.execute_reply": "2023-01-26T02:57:48.605872Z"
        },
        "papermill": {
          "duration": 0.043337,
          "end_time": "2023-01-26T02:57:48.609443",
          "exception": false,
          "start_time": "2023-01-26T02:57:48.566106",
          "status": "completed"
        },
        "tags": [],
        "colab": {
          "base_uri": "https://localhost:8080/",
          "height": 300
        },
        "id": "0c8b2bea",
        "outputId": "d2650cb2-c5ec-481b-cd08-a1eb7442ed9d"
      },
      "outputs": [
        {
          "output_type": "execute_result",
          "data": {
            "text/plain": [
              "       Temparature  Humidity    Moisture   Nitrogen  Potassium  Phosphorous\n",
              "count    99.000000  99.000000  99.000000  99.000000  99.000000    99.000000\n",
              "mean     30.282828  59.151515  43.181818  18.909091   3.383838    18.606061\n",
              "std       3.502304   5.840331  11.271568  11.599693   5.814667    13.476978\n",
              "min      25.000000  50.000000  25.000000   4.000000   0.000000     0.000000\n",
              "25%      28.000000  54.000000  34.000000  10.000000   0.000000     9.000000\n",
              "50%      30.000000  60.000000  41.000000  13.000000   0.000000    19.000000\n",
              "75%      33.000000  64.000000  50.500000  24.000000   7.500000    30.000000\n",
              "max      38.000000  72.000000  65.000000  42.000000  19.000000    42.000000"
            ],
            "text/html": [
              "\n",
              "  <div id=\"df-e440ef2b-7452-499e-b59b-41f2d01832df\">\n",
              "    <div class=\"colab-df-container\">\n",
              "      <div>\n",
              "<style scoped>\n",
              "    .dataframe tbody tr th:only-of-type {\n",
              "        vertical-align: middle;\n",
              "    }\n",
              "\n",
              "    .dataframe tbody tr th {\n",
              "        vertical-align: top;\n",
              "    }\n",
              "\n",
              "    .dataframe thead th {\n",
              "        text-align: right;\n",
              "    }\n",
              "</style>\n",
              "<table border=\"1\" class=\"dataframe\">\n",
              "  <thead>\n",
              "    <tr style=\"text-align: right;\">\n",
              "      <th></th>\n",
              "      <th>Temparature</th>\n",
              "      <th>Humidity</th>\n",
              "      <th>Moisture</th>\n",
              "      <th>Nitrogen</th>\n",
              "      <th>Potassium</th>\n",
              "      <th>Phosphorous</th>\n",
              "    </tr>\n",
              "  </thead>\n",
              "  <tbody>\n",
              "    <tr>\n",
              "      <th>count</th>\n",
              "      <td>99.000000</td>\n",
              "      <td>99.000000</td>\n",
              "      <td>99.000000</td>\n",
              "      <td>99.000000</td>\n",
              "      <td>99.000000</td>\n",
              "      <td>99.000000</td>\n",
              "    </tr>\n",
              "    <tr>\n",
              "      <th>mean</th>\n",
              "      <td>30.282828</td>\n",
              "      <td>59.151515</td>\n",
              "      <td>43.181818</td>\n",
              "      <td>18.909091</td>\n",
              "      <td>3.383838</td>\n",
              "      <td>18.606061</td>\n",
              "    </tr>\n",
              "    <tr>\n",
              "      <th>std</th>\n",
              "      <td>3.502304</td>\n",
              "      <td>5.840331</td>\n",
              "      <td>11.271568</td>\n",
              "      <td>11.599693</td>\n",
              "      <td>5.814667</td>\n",
              "      <td>13.476978</td>\n",
              "    </tr>\n",
              "    <tr>\n",
              "      <th>min</th>\n",
              "      <td>25.000000</td>\n",
              "      <td>50.000000</td>\n",
              "      <td>25.000000</td>\n",
              "      <td>4.000000</td>\n",
              "      <td>0.000000</td>\n",
              "      <td>0.000000</td>\n",
              "    </tr>\n",
              "    <tr>\n",
              "      <th>25%</th>\n",
              "      <td>28.000000</td>\n",
              "      <td>54.000000</td>\n",
              "      <td>34.000000</td>\n",
              "      <td>10.000000</td>\n",
              "      <td>0.000000</td>\n",
              "      <td>9.000000</td>\n",
              "    </tr>\n",
              "    <tr>\n",
              "      <th>50%</th>\n",
              "      <td>30.000000</td>\n",
              "      <td>60.000000</td>\n",
              "      <td>41.000000</td>\n",
              "      <td>13.000000</td>\n",
              "      <td>0.000000</td>\n",
              "      <td>19.000000</td>\n",
              "    </tr>\n",
              "    <tr>\n",
              "      <th>75%</th>\n",
              "      <td>33.000000</td>\n",
              "      <td>64.000000</td>\n",
              "      <td>50.500000</td>\n",
              "      <td>24.000000</td>\n",
              "      <td>7.500000</td>\n",
              "      <td>30.000000</td>\n",
              "    </tr>\n",
              "    <tr>\n",
              "      <th>max</th>\n",
              "      <td>38.000000</td>\n",
              "      <td>72.000000</td>\n",
              "      <td>65.000000</td>\n",
              "      <td>42.000000</td>\n",
              "      <td>19.000000</td>\n",
              "      <td>42.000000</td>\n",
              "    </tr>\n",
              "  </tbody>\n",
              "</table>\n",
              "</div>\n",
              "      <button class=\"colab-df-convert\" onclick=\"convertToInteractive('df-e440ef2b-7452-499e-b59b-41f2d01832df')\"\n",
              "              title=\"Convert this dataframe to an interactive table.\"\n",
              "              style=\"display:none;\">\n",
              "        \n",
              "  <svg xmlns=\"http://www.w3.org/2000/svg\" height=\"24px\"viewBox=\"0 0 24 24\"\n",
              "       width=\"24px\">\n",
              "    <path d=\"M0 0h24v24H0V0z\" fill=\"none\"/>\n",
              "    <path d=\"M18.56 5.44l.94 2.06.94-2.06 2.06-.94-2.06-.94-.94-2.06-.94 2.06-2.06.94zm-11 1L8.5 8.5l.94-2.06 2.06-.94-2.06-.94L8.5 2.5l-.94 2.06-2.06.94zm10 10l.94 2.06.94-2.06 2.06-.94-2.06-.94-.94-2.06-.94 2.06-2.06.94z\"/><path d=\"M17.41 7.96l-1.37-1.37c-.4-.4-.92-.59-1.43-.59-.52 0-1.04.2-1.43.59L10.3 9.45l-7.72 7.72c-.78.78-.78 2.05 0 2.83L4 21.41c.39.39.9.59 1.41.59.51 0 1.02-.2 1.41-.59l7.78-7.78 2.81-2.81c.8-.78.8-2.07 0-2.86zM5.41 20L4 18.59l7.72-7.72 1.47 1.35L5.41 20z\"/>\n",
              "  </svg>\n",
              "      </button>\n",
              "      \n",
              "  <style>\n",
              "    .colab-df-container {\n",
              "      display:flex;\n",
              "      flex-wrap:wrap;\n",
              "      gap: 12px;\n",
              "    }\n",
              "\n",
              "    .colab-df-convert {\n",
              "      background-color: #E8F0FE;\n",
              "      border: none;\n",
              "      border-radius: 50%;\n",
              "      cursor: pointer;\n",
              "      display: none;\n",
              "      fill: #1967D2;\n",
              "      height: 32px;\n",
              "      padding: 0 0 0 0;\n",
              "      width: 32px;\n",
              "    }\n",
              "\n",
              "    .colab-df-convert:hover {\n",
              "      background-color: #E2EBFA;\n",
              "      box-shadow: 0px 1px 2px rgba(60, 64, 67, 0.3), 0px 1px 3px 1px rgba(60, 64, 67, 0.15);\n",
              "      fill: #174EA6;\n",
              "    }\n",
              "\n",
              "    [theme=dark] .colab-df-convert {\n",
              "      background-color: #3B4455;\n",
              "      fill: #D2E3FC;\n",
              "    }\n",
              "\n",
              "    [theme=dark] .colab-df-convert:hover {\n",
              "      background-color: #434B5C;\n",
              "      box-shadow: 0px 1px 3px 1px rgba(0, 0, 0, 0.15);\n",
              "      filter: drop-shadow(0px 1px 2px rgba(0, 0, 0, 0.3));\n",
              "      fill: #FFFFFF;\n",
              "    }\n",
              "  </style>\n",
              "\n",
              "      <script>\n",
              "        const buttonEl =\n",
              "          document.querySelector('#df-e440ef2b-7452-499e-b59b-41f2d01832df button.colab-df-convert');\n",
              "        buttonEl.style.display =\n",
              "          google.colab.kernel.accessAllowed ? 'block' : 'none';\n",
              "\n",
              "        async function convertToInteractive(key) {\n",
              "          const element = document.querySelector('#df-e440ef2b-7452-499e-b59b-41f2d01832df');\n",
              "          const dataTable =\n",
              "            await google.colab.kernel.invokeFunction('convertToInteractive',\n",
              "                                                     [key], {});\n",
              "          if (!dataTable) return;\n",
              "\n",
              "          const docLinkHtml = 'Like what you see? Visit the ' +\n",
              "            '<a target=\"_blank\" href=https://colab.research.google.com/notebooks/data_table.ipynb>data table notebook</a>'\n",
              "            + ' to learn more about interactive tables.';\n",
              "          element.innerHTML = '';\n",
              "          dataTable['output_type'] = 'display_data';\n",
              "          await google.colab.output.renderOutput(dataTable, element);\n",
              "          const docLink = document.createElement('div');\n",
              "          docLink.innerHTML = docLinkHtml;\n",
              "          element.appendChild(docLink);\n",
              "        }\n",
              "      </script>\n",
              "    </div>\n",
              "  </div>\n",
              "  "
            ]
          },
          "metadata": {},
          "execution_count": 189
        }
      ],
      "source": [
        "fert.describe()"
      ]
    },
    {
      "cell_type": "code",
      "execution_count": 190,
      "id": "db095d70",
      "metadata": {
        "execution": {
          "iopub.execute_input": "2023-01-26T02:57:48.718611Z",
          "iopub.status.busy": "2023-01-26T02:57:48.717438Z",
          "iopub.status.idle": "2023-01-26T02:57:48.734683Z",
          "shell.execute_reply": "2023-01-26T02:57:48.733842Z"
        },
        "papermill": {
          "duration": 0.041647,
          "end_time": "2023-01-26T02:57:48.738037",
          "exception": false,
          "start_time": "2023-01-26T02:57:48.696390",
          "status": "completed"
        },
        "tags": [],
        "colab": {
          "base_uri": "https://localhost:8080/"
        },
        "id": "db095d70",
        "outputId": "9d2ef31a-2b25-4e19-dc68-0bc350275efb"
      },
      "outputs": [
        {
          "output_type": "execute_result",
          "data": {
            "text/plain": [
              "Temparature        14\n",
              "Humidity           13\n",
              "Moisture           41\n",
              "Soil Type           5\n",
              "Crop Type          11\n",
              "Nitrogen           24\n",
              "Potassium          13\n",
              "Phosphorous        32\n",
              "Fertilizer Name     7\n",
              "dtype: int64"
            ]
          },
          "metadata": {},
          "execution_count": 190
        }
      ],
      "source": [
        "fert.nunique()"
      ]
    },
    {
      "cell_type": "code",
      "execution_count": 191,
      "id": "b0fce2be",
      "metadata": {
        "execution": {
          "iopub.execute_input": "2023-01-26T02:57:48.869788Z",
          "iopub.status.busy": "2023-01-26T02:57:48.869450Z",
          "iopub.status.idle": "2023-01-26T02:57:48.875262Z",
          "shell.execute_reply": "2023-01-26T02:57:48.874457Z"
        },
        "papermill": {
          "duration": 0.026769,
          "end_time": "2023-01-26T02:57:48.880244",
          "exception": false,
          "start_time": "2023-01-26T02:57:48.853475",
          "status": "completed"
        },
        "tags": [],
        "colab": {
          "base_uri": "https://localhost:8080/"
        },
        "id": "b0fce2be",
        "outputId": "dd351136-14c3-4b0c-ed30-2d85ecdfd0f1"
      },
      "outputs": [
        {
          "output_type": "execute_result",
          "data": {
            "text/plain": [
              "array(['Urea', 'DAP', '14-35-14', '28-28', '17-17-17', '20-20',\n",
              "       '10-26-26'], dtype=object)"
            ]
          },
          "metadata": {},
          "execution_count": 191
        }
      ],
      "source": [
        "fert['Fertilizer Name'].unique()"
      ]
    },
    {
      "cell_type": "code",
      "execution_count": 192,
      "id": "a3d41631",
      "metadata": {
        "execution": {
          "iopub.execute_input": "2023-01-26T02:57:48.912211Z",
          "iopub.status.busy": "2023-01-26T02:57:48.911898Z",
          "iopub.status.idle": "2023-01-26T02:57:48.919510Z",
          "shell.execute_reply": "2023-01-26T02:57:48.918430Z"
        },
        "papermill": {
          "duration": 0.030187,
          "end_time": "2023-01-26T02:57:48.925379",
          "exception": false,
          "start_time": "2023-01-26T02:57:48.895192",
          "status": "completed"
        },
        "tags": [],
        "colab": {
          "base_uri": "https://localhost:8080/"
        },
        "id": "a3d41631",
        "outputId": "c159b8e8-8d1a-4af0-cdbe-4a1306ea1a57"
      },
      "outputs": [
        {
          "output_type": "execute_result",
          "data": {
            "text/plain": [
              "Urea        22\n",
              "DAP         18\n",
              "28-28       17\n",
              "14-35-14    14\n",
              "20-20       14\n",
              "17-17-17     7\n",
              "10-26-26     7\n",
              "Name: Fertilizer Name, dtype: int64"
            ]
          },
          "metadata": {},
          "execution_count": 192
        }
      ],
      "source": [
        "fert['Fertilizer Name'].value_counts()"
      ]
    },
    {
      "cell_type": "markdown",
      "id": "e92c7773",
      "metadata": {
        "papermill": {
          "duration": 0.016452,
          "end_time": "2023-01-26T02:57:48.960287",
          "exception": false,
          "start_time": "2023-01-26T02:57:48.943835",
          "status": "completed"
        },
        "tags": [],
        "id": "e92c7773"
      },
      "source": [
        "### EDA (Exploratory Data Analysis)"
      ]
    },
    {
      "cell_type": "code",
      "execution_count": 193,
      "id": "06ab2c22",
      "metadata": {
        "execution": {
          "iopub.execute_input": "2023-01-26T02:57:48.995153Z",
          "iopub.status.busy": "2023-01-26T02:57:48.994791Z",
          "iopub.status.idle": "2023-01-26T02:57:49.268477Z",
          "shell.execute_reply": "2023-01-26T02:57:49.267379Z"
        },
        "papermill": {
          "duration": 0.293684,
          "end_time": "2023-01-26T02:57:49.271213",
          "exception": false,
          "start_time": "2023-01-26T02:57:48.977529",
          "status": "completed"
        },
        "tags": [],
        "colab": {
          "base_uri": "https://localhost:8080/",
          "height": 490
        },
        "id": "06ab2c22",
        "outputId": "a109bfc4-561a-4ce5-f60e-be610ea3ffd2"
      },
      "outputs": [
        {
          "output_type": "display_data",
          "data": {
            "text/plain": [
              "<Figure size 640x480 with 1 Axes>"
            ],
            "image/png": "[encoded data removed]"
          },
          "metadata": {}
        }
      ],
      "source": [
        "sns.countplot(x='Fertilizer Name', data = fert, palette = \"crest\")\n",
        "plt.xticks(rotation = 45)\n",
        "plt.show()"
      ]
    },
    {
      "cell_type": "code",
      "execution_count": 194,
      "id": "e2933680",
      "metadata": {
        "execution": {
          "iopub.execute_input": "2023-01-26T02:57:49.312787Z",
          "iopub.status.busy": "2023-01-26T02:57:49.312119Z",
          "iopub.status.idle": "2023-01-26T02:57:49.540458Z",
          "shell.execute_reply": "2023-01-26T02:57:49.539538Z"
        },
        "papermill": {
          "duration": 0.257238,
          "end_time": "2023-01-26T02:57:49.550937",
          "exception": false,
          "start_time": "2023-01-26T02:57:49.293699",
          "status": "completed"
        },
        "tags": [],
        "colab": {
          "base_uri": "https://localhost:8080/",
          "height": 667
        },
        "id": "e2933680",
        "outputId": "5ae25640-9329-4e99-f7f6-6f621908260d"
      },
      "outputs": [
        {
          "output_type": "display_data",
          "data": {
            "text/plain": [
              "<Figure size 640x480 with 1 Axes>"
            ],
            "image/png": "[encoded data removed]"
          },
          "metadata": {}
        }
      ],
      "source": [
        "labels = 'Urea', 'DAP', '14-35-14', '28-28', '17-17-17', '20-20','10-26-26'\n",
        "fig, ax = plt.subplots()\n",
        "ax.pie(fert['Fertilizer Name'].value_counts(), labels = labels, radius = 2, autopct = '%1.2f%%', shadow = True)\n",
        "plt.show()"
      ]
    },
    {
      "cell_type": "code",
      "execution_count": 195,
      "id": "f175cf0a",
      "metadata": {
        "execution": {
          "iopub.execute_input": "2023-01-26T02:57:49.737982Z",
          "iopub.status.busy": "2023-01-26T02:57:49.737545Z",
          "iopub.status.idle": "2023-01-26T02:57:49.753921Z",
          "shell.execute_reply": "2023-01-26T02:57:49.753077Z"
        },
        "papermill": {
          "duration": 0.038734,
          "end_time": "2023-01-26T02:57:49.757047",
          "exception": false,
          "start_time": "2023-01-26T02:57:49.718313",
          "status": "completed"
        },
        "tags": [],
        "id": "f175cf0a"
      },
      "outputs": [],
      "source": [
        "# soil_type_label_encoder = LabelEncoder()\n",
        "# fert[\"Soil Type\"] = soil_type_label_encoder.fit_transform(fert[\"Soil Type\"])\n",
        "\n",
        "# crop_type_label_encoder = LabelEncoder()\n",
        "# fert[\"Crop Type\"] = crop_type_label_encoder.fit_transform(fert[\"Crop Type\"])\n",
        "\n",
        "# croptype_dict = {}\n",
        "# for i in range(len(fert[\"Crop Type\"].unique())):\n",
        "#     croptype_dict[i] = crop_type_label_encoder.inverse_transform([i])[0]\n",
        "# print(croptype_dict)\n",
        "\n",
        "# soiltype_dict = {}\n",
        "# for i in range(len(fert[\"Soil Type\"].unique())):\n",
        "#     soiltype_dict[i] = soil_type_label_encoder.inverse_transform([i])[0]\n",
        "# print(soiltype_dict)"
      ]
    },
    {
      "cell_type": "code",
      "execution_count": 196,
      "id": "17d9027b",
      "metadata": {
        "execution": {
          "iopub.execute_input": "2023-01-26T02:57:49.796028Z",
          "iopub.status.busy": "2023-01-26T02:57:49.795601Z",
          "iopub.status.idle": "2023-01-26T02:57:49.811135Z",
          "shell.execute_reply": "2023-01-26T02:57:49.810264Z"
        },
        "papermill": {
          "duration": 0.038065,
          "end_time": "2023-01-26T02:57:49.814002",
          "exception": false,
          "start_time": "2023-01-26T02:57:49.775937",
          "status": "completed"
        },
        "tags": [],
        "colab": {
          "base_uri": "https://localhost:8080/",
          "height": 423
        },
        "id": "17d9027b",
        "outputId": "bcf66ecb-2765-4985-9f33-ea734d562324"
      },
      "outputs": [
        {
          "output_type": "execute_result",
          "data": {
            "text/plain": [
              "   Fertilizer Name\n",
              "0             Urea\n",
              "1              DAP\n",
              "2         14-35-14\n",
              "3            28-28\n",
              "4             Urea\n",
              "..             ...\n",
              "94           28-28\n",
              "95        10-26-26\n",
              "96            Urea\n",
              "97             DAP\n",
              "98           20-20\n",
              "\n",
              "[99 rows x 1 columns]"
            ],
            "text/html": [
              "\n",
              "  <div id=\"df-3a2d9099-7c6c-44fe-b2e9-9b4fab03e485\">\n",
              "    <div class=\"colab-df-container\">\n",
              "      <div>\n",
              "<style scoped>\n",
              "    .dataframe tbody tr th:only-of-type {\n",
              "        vertical-align: middle;\n",
              "    }\n",
              "\n",
              "    .dataframe tbody tr th {\n",
              "        vertical-align: top;\n",
              "    }\n",
              "\n",
              "    .dataframe thead th {\n",
              "        text-align: right;\n",
              "    }\n",
              "</style>\n",
              "<table border=\"1\" class=\"dataframe\">\n",
              "  <thead>\n",
              "    <tr style=\"text-align: right;\">\n",
              "      <th></th>\n",
              "      <th>Fertilizer Name</th>\n",
              "    </tr>\n",
              "  </thead>\n",
              "  <tbody>\n",
              "    <tr>\n",
              "      <th>0</th>\n",
              "      <td>Urea</td>\n",
              "    </tr>\n",
              "    <tr>\n",
              "      <th>1</th>\n",
              "      <td>DAP</td>\n",
              "    </tr>\n",
              "    <tr>\n",
              "      <th>2</th>\n",
              "      <td>14-35-14</td>\n",
              "    </tr>\n",
              "    <tr>\n",
              "      <th>3</th>\n",
              "      <td>28-28</td>\n",
              "    </tr>\n",
              "    <tr>\n",
              "      <th>4</th>\n",
              "      <td>Urea</td>\n",
              "    </tr>\n",
              "    <tr>\n",
              "      <th>...</th>\n",
              "      <td>...</td>\n",
              "    </tr>\n",
              "    <tr>\n",
              "      <th>94</th>\n",
              "      <td>28-28</td>\n",
              "    </tr>\n",
              "    <tr>\n",
              "      <th>95</th>\n",
              "      <td>10-26-26</td>\n",
              "    </tr>\n",
              "    <tr>\n",
              "      <th>96</th>\n",
              "      <td>Urea</td>\n",
              "    </tr>\n",
              "    <tr>\n",
              "      <th>97</th>\n",
              "      <td>DAP</td>\n",
              "    </tr>\n",
              "    <tr>\n",
              "      <th>98</th>\n",
              "      <td>20-20</td>\n",
              "    </tr>\n",
              "  </tbody>\n",
              "</table>\n",
              "<p>99 rows × 1 columns</p>\n",
              "</div>\n",
              "      <button class=\"colab-df-convert\" onclick=\"convertToInteractive('df-3a2d9099-7c6c-44fe-b2e9-9b4fab03e485')\"\n",
              "              title=\"Convert this dataframe to an interactive table.\"\n",
              "              style=\"display:none;\">\n",
              "        \n",
              "  <svg xmlns=\"http://www.w3.org/2000/svg\" height=\"24px\"viewBox=\"0 0 24 24\"\n",
              "       width=\"24px\">\n",
              "    <path d=\"M0 0h24v24H0V0z\" fill=\"none\"/>\n",
              "    <path d=\"M18.56 5.44l.94 2.06.94-2.06 2.06-.94-2.06-.94-.94-2.06-.94 2.06-2.06.94zm-11 1L8.5 8.5l.94-2.06 2.06-.94-2.06-.94L8.5 2.5l-.94 2.06-2.06.94zm10 10l.94 2.06.94-2.06 2.06-.94-2.06-.94-.94-2.06-.94 2.06-2.06.94z\"/><path d=\"M17.41 7.96l-1.37-1.37c-.4-.4-.92-.59-1.43-.59-.52 0-1.04.2-1.43.59L10.3 9.45l-7.72 7.72c-.78.78-.78 2.05 0 2.83L4 21.41c.39.39.9.59 1.41.59.51 0 1.02-.2 1.41-.59l7.78-7.78 2.81-2.81c.8-.78.8-2.07 0-2.86zM5.41 20L4 18.59l7.72-7.72 1.47 1.35L5.41 20z\"/>\n",
              "  </svg>\n",
              "      </button>\n",
              "      \n",
              "  <style>\n",
              "    .colab-df-container {\n",
              "      display:flex;\n",
              "      flex-wrap:wrap;\n",
              "      gap: 12px;\n",
              "    }\n",
              "\n",
              "    .colab-df-convert {\n",
              "      background-color: #E8F0FE;\n",
              "      border: none;\n",
              "      border-radius: 50%;\n",
              "      cursor: pointer;\n",
              "      display: none;\n",
              "      fill: #1967D2;\n",
              "      height: 32px;\n",
              "      padding: 0 0 0 0;\n",
              "      width: 32px;\n",
              "    }\n",
              "\n",
              "    .colab-df-convert:hover {\n",
              "      background-color: #E2EBFA;\n",
              "      box-shadow: 0px 1px 2px rgba(60, 64, 67, 0.3), 0px 1px 3px 1px rgba(60, 64, 67, 0.15);\n",
              "      fill: #174EA6;\n",
              "    }\n",
              "\n",
              "    [theme=dark] .colab-df-convert {\n",
              "      background-color: #3B4455;\n",
              "      fill: #D2E3FC;\n",
              "    }\n",
              "\n",
              "    [theme=dark] .colab-df-convert:hover {\n",
              "      background-color: #434B5C;\n",
              "      box-shadow: 0px 1px 3px 1px rgba(0, 0, 0, 0.15);\n",
              "      filter: drop-shadow(0px 1px 2px rgba(0, 0, 0, 0.3));\n",
              "      fill: #FFFFFF;\n",
              "    }\n",
              "  </style>\n",
              "\n",
              "      <script>\n",
              "        const buttonEl =\n",
              "          document.querySelector('#df-3a2d9099-7c6c-44fe-b2e9-9b4fab03e485 button.colab-df-convert');\n",
              "        buttonEl.style.display =\n",
              "          google.colab.kernel.accessAllowed ? 'block' : 'none';\n",
              "\n",
              "        async function convertToInteractive(key) {\n",
              "          const element = document.querySelector('#df-3a2d9099-7c6c-44fe-b2e9-9b4fab03e485');\n",
              "          const dataTable =\n",
              "            await google.colab.kernel.invokeFunction('convertToInteractive',\n",
              "                                                     [key], {});\n",
              "          if (!dataTable) return;\n",
              "\n",
              "          const docLinkHtml = 'Like what you see? Visit the ' +\n",
              "            '<a target=\"_blank\" href=https://colab.research.google.com/notebooks/data_table.ipynb>data table notebook</a>'\n",
              "            + ' to learn more about interactive tables.';\n",
              "          element.innerHTML = '';\n",
              "          dataTable['output_type'] = 'display_data';\n",
              "          await google.colab.output.renderOutput(dataTable, element);\n",
              "          const docLink = document.createElement('div');\n",
              "          docLink.innerHTML = docLinkHtml;\n",
              "          element.appendChild(docLink);\n",
              "        }\n",
              "      </script>\n",
              "    </div>\n",
              "  </div>\n",
              "  "
            ]
          },
          "metadata": {},
          "execution_count": 196
        }
      ],
      "source": [
        "fert_label = pd.DataFrame(fert['Fertilizer Name'])\n",
        "fert_label"
      ]
    },
    {
      "cell_type": "code",
      "execution_count": 197,
      "id": "75680e9a",
      "metadata": {
        "execution": {
          "iopub.execute_input": "2023-01-26T02:57:49.853516Z",
          "iopub.status.busy": "2023-01-26T02:57:49.853081Z",
          "iopub.status.idle": "2023-01-26T02:57:49.876764Z",
          "shell.execute_reply": "2023-01-26T02:57:49.875971Z"
        },
        "papermill": {
          "duration": 0.046943,
          "end_time": "2023-01-26T02:57:49.879323",
          "exception": false,
          "start_time": "2023-01-26T02:57:49.832380",
          "status": "completed"
        },
        "tags": [],
        "colab": {
          "base_uri": "https://localhost:8080/",
          "height": 423
        },
        "id": "75680e9a",
        "outputId": "9514cd29-cc52-4ea1-eb56-c493f07710df"
      },
      "outputs": [
        {
          "output_type": "execute_result",
          "data": {
            "text/plain": [
              "    Temparature  Humidity   Moisture Soil Type  Crop Type  Nitrogen  \\\n",
              "0            26         52        38     Sandy      Maize        37   \n",
              "1            29         52        45     Loamy  Sugarcane        12   \n",
              "2            34         65        62     Black     Cotton         7   \n",
              "3            32         62        34       Red    Tobacco        22   \n",
              "4            28         54        46    Clayey      Paddy        35   \n",
              "..          ...        ...       ...       ...        ...       ...   \n",
              "94           25         50        32    Clayey     Pulses        24   \n",
              "95           30         60        27       Red    Tobacco         4   \n",
              "96           38         72        51     Loamy      Wheat        39   \n",
              "97           36         60        43     Sandy    Millets        15   \n",
              "98           29         58        57     Black  Sugarcane        12   \n",
              "\n",
              "    Potassium  Phosphorous Fertilizer Name  Fertilizer  \n",
              "0           0            0            Urea           6  \n",
              "1           0           36             DAP           5  \n",
              "2           9           30        14-35-14           1  \n",
              "3           0           20           28-28           4  \n",
              "4           0            0            Urea           6  \n",
              "..        ...          ...             ...         ...  \n",
              "94          0           19           28-28           4  \n",
              "95         17           17        10-26-26           0  \n",
              "96          0            0            Urea           6  \n",
              "97          0           41             DAP           5  \n",
              "98          0           10           20-20           3  \n",
              "\n",
              "[99 rows x 10 columns]"
            ],
            "text/html": [
              "\n",
              "  <div id=\"df-e294dff2-2877-4da7-aa7d-b9cfc4a43761\">\n",
              "    <div class=\"colab-df-container\">\n",
              "      <div>\n",
              "<style scoped>\n",
              "    .dataframe tbody tr th:only-of-type {\n",
              "        vertical-align: middle;\n",
              "    }\n",
              "\n",
              "    .dataframe tbody tr th {\n",
              "        vertical-align: top;\n",
              "    }\n",
              "\n",
              "    .dataframe thead th {\n",
              "        text-align: right;\n",
              "    }\n",
              "</style>\n",
              "<table border=\"1\" class=\"dataframe\">\n",
              "  <thead>\n",
              "    <tr style=\"text-align: right;\">\n",
              "      <th></th>\n",
              "      <th>Temparature</th>\n",
              "      <th>Humidity</th>\n",
              "      <th>Moisture</th>\n",
              "      <th>Soil Type</th>\n",
              "      <th>Crop Type</th>\n",
              "      <th>Nitrogen</th>\n",
              "      <th>Potassium</th>\n",
              "      <th>Phosphorous</th>\n",
              "      <th>Fertilizer Name</th>\n",
              "      <th>Fertilizer</th>\n",
              "    </tr>\n",
              "  </thead>\n",
              "  <tbody>\n",
              "    <tr>\n",
              "      <th>0</th>\n",
              "      <td>26</td>\n",
              "      <td>52</td>\n",
              "      <td>38</td>\n",
              "      <td>Sandy</td>\n",
              "      <td>Maize</td>\n",
              "      <td>37</td>\n",
              "      <td>0</td>\n",
              "      <td>0</td>\n",
              "      <td>Urea</td>\n",
              "      <td>6</td>\n",
              "    </tr>\n",
              "    <tr>\n",
              "      <th>1</th>\n",
              "      <td>29</td>\n",
              "      <td>52</td>\n",
              "      <td>45</td>\n",
              "      <td>Loamy</td>\n",
              "      <td>Sugarcane</td>\n",
              "      <td>12</td>\n",
              "      <td>0</td>\n",
              "      <td>36</td>\n",
              "      <td>DAP</td>\n",
              "      <td>5</td>\n",
              "    </tr>\n",
              "    <tr>\n",
              "      <th>2</th>\n",
              "      <td>34</td>\n",
              "      <td>65</td>\n",
              "      <td>62</td>\n",
              "      <td>Black</td>\n",
              "      <td>Cotton</td>\n",
              "      <td>7</td>\n",
              "      <td>9</td>\n",
              "      <td>30</td>\n",
              "      <td>14-35-14</td>\n",
              "      <td>1</td>\n",
              "    </tr>\n",
              "    <tr>\n",
              "      <th>3</th>\n",
              "      <td>32</td>\n",
              "      <td>62</td>\n",
              "      <td>34</td>\n",
              "      <td>Red</td>\n",
              "      <td>Tobacco</td>\n",
              "      <td>22</td>\n",
              "      <td>0</td>\n",
              "      <td>20</td>\n",
              "      <td>28-28</td>\n",
              "      <td>4</td>\n",
              "    </tr>\n",
              "    <tr>\n",
              "      <th>4</th>\n",
              "      <td>28</td>\n",
              "      <td>54</td>\n",
              "      <td>46</td>\n",
              "      <td>Clayey</td>\n",
              "      <td>Paddy</td>\n",
              "      <td>35</td>\n",
              "      <td>0</td>\n",
              "      <td>0</td>\n",
              "      <td>Urea</td>\n",
              "      <td>6</td>\n",
              "    </tr>\n",
              "    <tr>\n",
              "      <th>...</th>\n",
              "      <td>...</td>\n",
              "      <td>...</td>\n",
              "      <td>...</td>\n",
              "      <td>...</td>\n",
              "      <td>...</td>\n",
              "      <td>...</td>\n",
              "      <td>...</td>\n",
              "      <td>...</td>\n",
              "      <td>...</td>\n",
              "      <td>...</td>\n",
              "    </tr>\n",
              "    <tr>\n",
              "      <th>94</th>\n",
              "      <td>25</td>\n",
              "      <td>50</td>\n",
              "      <td>32</td>\n",
              "      <td>Clayey</td>\n",
              "      <td>Pulses</td>\n",
              "      <td>24</td>\n",
              "      <td>0</td>\n",
              "      <td>19</td>\n",
              "      <td>28-28</td>\n",
              "      <td>4</td>\n",
              "    </tr>\n",
              "    <tr>\n",
              "      <th>95</th>\n",
              "      <td>30</td>\n",
              "      <td>60</td>\n",
              "      <td>27</td>\n",
              "      <td>Red</td>\n",
              "      <td>Tobacco</td>\n",
              "      <td>4</td>\n",
              "      <td>17</td>\n",
              "      <td>17</td>\n",
              "      <td>10-26-26</td>\n",
              "      <td>0</td>\n",
              "    </tr>\n",
              "    <tr>\n",
              "      <th>96</th>\n",
              "      <td>38</td>\n",
              "      <td>72</td>\n",
              "      <td>51</td>\n",
              "      <td>Loamy</td>\n",
              "      <td>Wheat</td>\n",
              "      <td>39</td>\n",
              "      <td>0</td>\n",
              "      <td>0</td>\n",
              "      <td>Urea</td>\n",
              "      <td>6</td>\n",
              "    </tr>\n",
              "    <tr>\n",
              "      <th>97</th>\n",
              "      <td>36</td>\n",
              "      <td>60</td>\n",
              "      <td>43</td>\n",
              "      <td>Sandy</td>\n",
              "      <td>Millets</td>\n",
              "      <td>15</td>\n",
              "      <td>0</td>\n",
              "      <td>41</td>\n",
              "      <td>DAP</td>\n",
              "      <td>5</td>\n",
              "    </tr>\n",
              "    <tr>\n",
              "      <th>98</th>\n",
              "      <td>29</td>\n",
              "      <td>58</td>\n",
              "      <td>57</td>\n",
              "      <td>Black</td>\n",
              "      <td>Sugarcane</td>\n",
              "      <td>12</td>\n",
              "      <td>0</td>\n",
              "      <td>10</td>\n",
              "      <td>20-20</td>\n",
              "      <td>3</td>\n",
              "    </tr>\n",
              "  </tbody>\n",
              "</table>\n",
              "<p>99 rows × 10 columns</p>\n",
              "</div>\n",
              "      <button class=\"colab-df-convert\" onclick=\"convertToInteractive('df-e294dff2-2877-4da7-aa7d-b9cfc4a43761')\"\n",
              "              title=\"Convert this dataframe to an interactive table.\"\n",
              "              style=\"display:none;\">\n",
              "        \n",
              "  <svg xmlns=\"http://www.w3.org/2000/svg\" height=\"24px\"viewBox=\"0 0 24 24\"\n",
              "       width=\"24px\">\n",
              "    <path d=\"M0 0h24v24H0V0z\" fill=\"none\"/>\n",
              "    <path d=\"M18.56 5.44l.94 2.06.94-2.06 2.06-.94-2.06-.94-.94-2.06-.94 2.06-2.06.94zm-11 1L8.5 8.5l.94-2.06 2.06-.94-2.06-.94L8.5 2.5l-.94 2.06-2.06.94zm10 10l.94 2.06.94-2.06 2.06-.94-2.06-.94-.94-2.06-.94 2.06-2.06.94z\"/><path d=\"M17.41 7.96l-1.37-1.37c-.4-.4-.92-.59-1.43-.59-.52 0-1.04.2-1.43.59L10.3 9.45l-7.72 7.72c-.78.78-.78 2.05 0 2.83L4 21.41c.39.39.9.59 1.41.59.51 0 1.02-.2 1.41-.59l7.78-7.78 2.81-2.81c.8-.78.8-2.07 0-2.86zM5.41 20L4 18.59l7.72-7.72 1.47 1.35L5.41 20z\"/>\n",
              "  </svg>\n",
              "      </button>\n",
              "      \n",
              "  <style>\n",
              "    .colab-df-container {\n",
              "      display:flex;\n",
              "      flex-wrap:wrap;\n",
              "      gap: 12px;\n",
              "    }\n",
              "\n",
              "    .colab-df-convert {\n",
              "      background-color: #E8F0FE;\n",
              "      border: none;\n",
              "      border-radius: 50%;\n",
              "      cursor: pointer;\n",
              "      display: none;\n",
              "      fill: #1967D2;\n",
              "      height: 32px;\n",
              "      padding: 0 0 0 0;\n",
              "      width: 32px;\n",
              "    }\n",
              "\n",
              "    .colab-df-convert:hover {\n",
              "      background-color: #E2EBFA;\n",
              "      box-shadow: 0px 1px 2px rgba(60, 64, 67, 0.3), 0px 1px 3px 1px rgba(60, 64, 67, 0.15);\n",
              "      fill: #174EA6;\n",
              "    }\n",
              "\n",
              "    [theme=dark] .colab-df-convert {\n",
              "      background-color: #3B4455;\n",
              "      fill: #D2E3FC;\n",
              "    }\n",
              "\n",
              "    [theme=dark] .colab-df-convert:hover {\n",
              "      background-color: #434B5C;\n",
              "      box-shadow: 0px 1px 3px 1px rgba(0, 0, 0, 0.15);\n",
              "      filter: drop-shadow(0px 1px 2px rgba(0, 0, 0, 0.3));\n",
              "      fill: #FFFFFF;\n",
              "    }\n",
              "  </style>\n",
              "\n",
              "      <script>\n",
              "        const buttonEl =\n",
              "          document.querySelector('#df-e294dff2-2877-4da7-aa7d-b9cfc4a43761 button.colab-df-convert');\n",
              "        buttonEl.style.display =\n",
              "          google.colab.kernel.accessAllowed ? 'block' : 'none';\n",
              "\n",
              "        async function convertToInteractive(key) {\n",
              "          const element = document.querySelector('#df-e294dff2-2877-4da7-aa7d-b9cfc4a43761');\n",
              "          const dataTable =\n",
              "            await google.colab.kernel.invokeFunction('convertToInteractive',\n",
              "                                                     [key], {});\n",
              "          if (!dataTable) return;\n",
              "\n",
              "          const docLinkHtml = 'Like what you see? Visit the ' +\n",
              "            '<a target=\"_blank\" href=https://colab.research.google.com/notebooks/data_table.ipynb>data table notebook</a>'\n",
              "            + ' to learn more about interactive tables.';\n",
              "          element.innerHTML = '';\n",
              "          dataTable['output_type'] = 'display_data';\n",
              "          await google.colab.output.renderOutput(dataTable, element);\n",
              "          const docLink = document.createElement('div');\n",
              "          docLink.innerHTML = docLinkHtml;\n",
              "          element.appendChild(docLink);\n",
              "        }\n",
              "      </script>\n",
              "    </div>\n",
              "  </div>\n",
              "  "
            ]
          },
          "metadata": {},
          "execution_count": 197
        }
      ],
      "source": [
        "le2 = preprocessing.LabelEncoder()\n",
        "enc_label = fert_label.apply(le2.fit_transform)\n",
        "fert['Fertilizer'] = enc_label\n",
        "fert"
      ]
    },
    {
      "cell_type": "code",
      "execution_count": 198,
      "id": "f4dbfd7f",
      "metadata": {
        "execution": {
          "iopub.execute_input": "2023-01-26T02:57:49.918696Z",
          "iopub.status.busy": "2023-01-26T02:57:49.918294Z",
          "iopub.status.idle": "2023-01-26T02:57:49.925728Z",
          "shell.execute_reply": "2023-01-26T02:57:49.924790Z"
        },
        "papermill": {
          "duration": 0.033425,
          "end_time": "2023-01-26T02:57:49.932272",
          "exception": false,
          "start_time": "2023-01-26T02:57:49.898847",
          "status": "completed"
        },
        "tags": [],
        "colab": {
          "base_uri": "https://localhost:8080/"
        },
        "id": "f4dbfd7f",
        "outputId": "eabdd73c-2df3-4de7-8d72-3f4bd456825c"
      },
      "outputs": [
        {
          "output_type": "stream",
          "name": "stdout",
          "text": [
            "{0: '10-26-26', 1: '14-35-14', 2: '17-17-17', 3: '20-20', 4: '28-28', 5: 'DAP', 6: 'Urea'}\n"
          ]
        }
      ],
      "source": [
        "Fertilizer_Name = {}\n",
        "for i in range(len(fert[\"Fertilizer\"].unique())):\n",
        "    Fertilizer_Name[i] = le2.inverse_transform([i])[0]\n",
        "print(Fertilizer_Name)"
      ]
    },
    {
      "cell_type": "code",
      "execution_count": 199,
      "id": "c6dafe45",
      "metadata": {
        "execution": {
          "iopub.execute_input": "2023-01-26T02:57:49.974571Z",
          "iopub.status.busy": "2023-01-26T02:57:49.974109Z",
          "iopub.status.idle": "2023-01-26T02:57:49.993851Z",
          "shell.execute_reply": "2023-01-26T02:57:49.993059Z"
        },
        "papermill": {
          "duration": 0.042372,
          "end_time": "2023-01-26T02:57:49.996287",
          "exception": false,
          "start_time": "2023-01-26T02:57:49.953915",
          "status": "completed"
        },
        "tags": [],
        "colab": {
          "base_uri": "https://localhost:8080/",
          "height": 423
        },
        "id": "c6dafe45",
        "outputId": "e1d597cb-1dff-4679-f95a-aea52e547602"
      },
      "outputs": [
        {
          "output_type": "execute_result",
          "data": {
            "text/plain": [
              "    Temparature  Humidity   Moisture Soil Type  Crop Type  Nitrogen  \\\n",
              "0            26         52        38     Sandy      Maize        37   \n",
              "1            29         52        45     Loamy  Sugarcane        12   \n",
              "2            34         65        62     Black     Cotton         7   \n",
              "3            32         62        34       Red    Tobacco        22   \n",
              "4            28         54        46    Clayey      Paddy        35   \n",
              "..          ...        ...       ...       ...        ...       ...   \n",
              "94           25         50        32    Clayey     Pulses        24   \n",
              "95           30         60        27       Red    Tobacco         4   \n",
              "96           38         72        51     Loamy      Wheat        39   \n",
              "97           36         60        43     Sandy    Millets        15   \n",
              "98           29         58        57     Black  Sugarcane        12   \n",
              "\n",
              "    Potassium  Phosphorous  Fertilizer  \n",
              "0           0            0           6  \n",
              "1           0           36           5  \n",
              "2           9           30           1  \n",
              "3           0           20           4  \n",
              "4           0            0           6  \n",
              "..        ...          ...         ...  \n",
              "94          0           19           4  \n",
              "95         17           17           0  \n",
              "96          0            0           6  \n",
              "97          0           41           5  \n",
              "98          0           10           3  \n",
              "\n",
              "[99 rows x 9 columns]"
            ],
            "text/html": [
              "\n",
              "  <div id=\"df-10b0b440-cc23-458b-8e36-cc35de16cd48\">\n",
              "    <div class=\"colab-df-container\">\n",
              "      <div>\n",
              "<style scoped>\n",
              "    .dataframe tbody tr th:only-of-type {\n",
              "        vertical-align: middle;\n",
              "    }\n",
              "\n",
              "    .dataframe tbody tr th {\n",
              "        vertical-align: top;\n",
              "    }\n",
              "\n",
              "    .dataframe thead th {\n",
              "        text-align: right;\n",
              "    }\n",
              "</style>\n",
              "<table border=\"1\" class=\"dataframe\">\n",
              "  <thead>\n",
              "    <tr style=\"text-align: right;\">\n",
              "      <th></th>\n",
              "      <th>Temparature</th>\n",
              "      <th>Humidity</th>\n",
              "      <th>Moisture</th>\n",
              "      <th>Soil Type</th>\n",
              "      <th>Crop Type</th>\n",
              "      <th>Nitrogen</th>\n",
              "      <th>Potassium</th>\n",
              "      <th>Phosphorous</th>\n",
              "      <th>Fertilizer</th>\n",
              "    </tr>\n",
              "  </thead>\n",
              "  <tbody>\n",
              "    <tr>\n",
              "      <th>0</th>\n",
              "      <td>26</td>\n",
              "      <td>52</td>\n",
              "      <td>38</td>\n",
              "      <td>Sandy</td>\n",
              "      <td>Maize</td>\n",
              "      <td>37</td>\n",
              "      <td>0</td>\n",
              "      <td>0</td>\n",
              "      <td>6</td>\n",
              "    </tr>\n",
              "    <tr>\n",
              "      <th>1</th>\n",
              "      <td>29</td>\n",
              "      <td>52</td>\n",
              "      <td>45</td>\n",
              "      <td>Loamy</td>\n",
              "      <td>Sugarcane</td>\n",
              "      <td>12</td>\n",
              "      <td>0</td>\n",
              "      <td>36</td>\n",
              "      <td>5</td>\n",
              "    </tr>\n",
              "    <tr>\n",
              "      <th>2</th>\n",
              "      <td>34</td>\n",
              "      <td>65</td>\n",
              "      <td>62</td>\n",
              "      <td>Black</td>\n",
              "      <td>Cotton</td>\n",
              "      <td>7</td>\n",
              "      <td>9</td>\n",
              "      <td>30</td>\n",
              "      <td>1</td>\n",
              "    </tr>\n",
              "    <tr>\n",
              "      <th>3</th>\n",
              "      <td>32</td>\n",
              "      <td>62</td>\n",
              "      <td>34</td>\n",
              "      <td>Red</td>\n",
              "      <td>Tobacco</td>\n",
              "      <td>22</td>\n",
              "      <td>0</td>\n",
              "      <td>20</td>\n",
              "      <td>4</td>\n",
              "    </tr>\n",
              "    <tr>\n",
              "      <th>4</th>\n",
              "      <td>28</td>\n",
              "      <td>54</td>\n",
              "      <td>46</td>\n",
              "      <td>Clayey</td>\n",
              "      <td>Paddy</td>\n",
              "      <td>35</td>\n",
              "      <td>0</td>\n",
              "      <td>0</td>\n",
              "      <td>6</td>\n",
              "    </tr>\n",
              "    <tr>\n",
              "      <th>...</th>\n",
              "      <td>...</td>\n",
              "      <td>...</td>\n",
              "      <td>...</td>\n",
              "      <td>...</td>\n",
              "      <td>...</td>\n",
              "      <td>...</td>\n",
              "      <td>...</td>\n",
              "      <td>...</td>\n",
              "      <td>...</td>\n",
              "    </tr>\n",
              "    <tr>\n",
              "      <th>94</th>\n",
              "      <td>25</td>\n",
              "      <td>50</td>\n",
              "      <td>32</td>\n",
              "      <td>Clayey</td>\n",
              "      <td>Pulses</td>\n",
              "      <td>24</td>\n",
              "      <td>0</td>\n",
              "      <td>19</td>\n",
              "      <td>4</td>\n",
              "    </tr>\n",
              "    <tr>\n",
              "      <th>95</th>\n",
              "      <td>30</td>\n",
              "      <td>60</td>\n",
              "      <td>27</td>\n",
              "      <td>Red</td>\n",
              "      <td>Tobacco</td>\n",
              "      <td>4</td>\n",
              "      <td>17</td>\n",
              "      <td>17</td>\n",
              "      <td>0</td>\n",
              "    </tr>\n",
              "    <tr>\n",
              "      <th>96</th>\n",
              "      <td>38</td>\n",
              "      <td>72</td>\n",
              "      <td>51</td>\n",
              "      <td>Loamy</td>\n",
              "      <td>Wheat</td>\n",
              "      <td>39</td>\n",
              "      <td>0</td>\n",
              "      <td>0</td>\n",
              "      <td>6</td>\n",
              "    </tr>\n",
              "    <tr>\n",
              "      <th>97</th>\n",
              "      <td>36</td>\n",
              "      <td>60</td>\n",
              "      <td>43</td>\n",
              "      <td>Sandy</td>\n",
              "      <td>Millets</td>\n",
              "      <td>15</td>\n",
              "      <td>0</td>\n",
              "      <td>41</td>\n",
              "      <td>5</td>\n",
              "    </tr>\n",
              "    <tr>\n",
              "      <th>98</th>\n",
              "      <td>29</td>\n",
              "      <td>58</td>\n",
              "      <td>57</td>\n",
              "      <td>Black</td>\n",
              "      <td>Sugarcane</td>\n",
              "      <td>12</td>\n",
              "      <td>0</td>\n",
              "      <td>10</td>\n",
              "      <td>3</td>\n",
              "    </tr>\n",
              "  </tbody>\n",
              "</table>\n",
              "<p>99 rows × 9 columns</p>\n",
              "</div>\n",
              "      <button class=\"colab-df-convert\" onclick=\"convertToInteractive('df-10b0b440-cc23-458b-8e36-cc35de16cd48')\"\n",
              "              title=\"Convert this dataframe to an interactive table.\"\n",
              "              style=\"display:none;\">\n",
              "        \n",
              "  <svg xmlns=\"http://www.w3.org/2000/svg\" height=\"24px\"viewBox=\"0 0 24 24\"\n",
              "       width=\"24px\">\n",
              "    <path d=\"M0 0h24v24H0V0z\" fill=\"none\"/>\n",
              "    <path d=\"M18.56 5.44l.94 2.06.94-2.06 2.06-.94-2.06-.94-.94-2.06-.94 2.06-2.06.94zm-11 1L8.5 8.5l.94-2.06 2.06-.94-2.06-.94L8.5 2.5l-.94 2.06-2.06.94zm10 10l.94 2.06.94-2.06 2.06-.94-2.06-.94-.94-2.06-.94 2.06-2.06.94z\"/><path d=\"M17.41 7.96l-1.37-1.37c-.4-.4-.92-.59-1.43-.59-.52 0-1.04.2-1.43.59L10.3 9.45l-7.72 7.72c-.78.78-.78 2.05 0 2.83L4 21.41c.39.39.9.59 1.41.59.51 0 1.02-.2 1.41-.59l7.78-7.78 2.81-2.81c.8-.78.8-2.07 0-2.86zM5.41 20L4 18.59l7.72-7.72 1.47 1.35L5.41 20z\"/>\n",
              "  </svg>\n",
              "      </button>\n",
              "      \n",
              "  <style>\n",
              "    .colab-df-container {\n",
              "      display:flex;\n",
              "      flex-wrap:wrap;\n",
              "      gap: 12px;\n",
              "    }\n",
              "\n",
              "    .colab-df-convert {\n",
              "      background-color: #E8F0FE;\n",
              "      border: none;\n",
              "      border-radius: 50%;\n",
              "      cursor: pointer;\n",
              "      display: none;\n",
              "      fill: #1967D2;\n",
              "      height: 32px;\n",
              "      padding: 0 0 0 0;\n",
              "      width: 32px;\n",
              "    }\n",
              "\n",
              "    .colab-df-convert:hover {\n",
              "      background-color: #E2EBFA;\n",
              "      box-shadow: 0px 1px 2px rgba(60, 64, 67, 0.3), 0px 1px 3px 1px rgba(60, 64, 67, 0.15);\n",
              "      fill: #174EA6;\n",
              "    }\n",
              "\n",
              "    [theme=dark] .colab-df-convert {\n",
              "      background-color: #3B4455;\n",
              "      fill: #D2E3FC;\n",
              "    }\n",
              "\n",
              "    [theme=dark] .colab-df-convert:hover {\n",
              "      background-color: #434B5C;\n",
              "      box-shadow: 0px 1px 3px 1px rgba(0, 0, 0, 0.15);\n",
              "      filter: drop-shadow(0px 1px 2px rgba(0, 0, 0, 0.3));\n",
              "      fill: #FFFFFF;\n",
              "    }\n",
              "  </style>\n",
              "\n",
              "      <script>\n",
              "        const buttonEl =\n",
              "          document.querySelector('#df-10b0b440-cc23-458b-8e36-cc35de16cd48 button.colab-df-convert');\n",
              "        buttonEl.style.display =\n",
              "          google.colab.kernel.accessAllowed ? 'block' : 'none';\n",
              "\n",
              "        async function convertToInteractive(key) {\n",
              "          const element = document.querySelector('#df-10b0b440-cc23-458b-8e36-cc35de16cd48');\n",
              "          const dataTable =\n",
              "            await google.colab.kernel.invokeFunction('convertToInteractive',\n",
              "                                                     [key], {});\n",
              "          if (!dataTable) return;\n",
              "\n",
              "          const docLinkHtml = 'Like what you see? Visit the ' +\n",
              "            '<a target=\"_blank\" href=https://colab.research.google.com/notebooks/data_table.ipynb>data table notebook</a>'\n",
              "            + ' to learn more about interactive tables.';\n",
              "          element.innerHTML = '';\n",
              "          dataTable['output_type'] = 'display_data';\n",
              "          await google.colab.output.renderOutput(dataTable, element);\n",
              "          const docLink = document.createElement('div');\n",
              "          docLink.innerHTML = docLinkHtml;\n",
              "          element.appendChild(docLink);\n",
              "        }\n",
              "      </script>\n",
              "    </div>\n",
              "  </div>\n",
              "  "
            ]
          },
          "metadata": {},
          "execution_count": 199
        }
      ],
      "source": [
        "fert_multi = fert.drop(['Fertilizer Name'], axis = 1)\n",
        "fert_multi"
      ]
    },
    {
      "cell_type": "code",
      "execution_count": 200,
      "id": "916f895a",
      "metadata": {
        "execution": {
          "iopub.execute_input": "2023-01-26T02:57:50.036590Z",
          "iopub.status.busy": "2023-01-26T02:57:50.036153Z",
          "iopub.status.idle": "2023-01-26T02:57:50.047028Z",
          "shell.execute_reply": "2023-01-26T02:57:50.045514Z"
        },
        "papermill": {
          "duration": 0.035069,
          "end_time": "2023-01-26T02:57:50.051171",
          "exception": false,
          "start_time": "2023-01-26T02:57:50.016102",
          "status": "completed"
        },
        "tags": [],
        "colab": {
          "base_uri": "https://localhost:8080/"
        },
        "id": "916f895a",
        "outputId": "dab036c4-dfde-47e4-80e0-6cd1f198918f"
      },
      "outputs": [
        {
          "output_type": "stream",
          "name": "stdout",
          "text": [
            "X_train has shape: (99, 8) \n",
            "y_train has shape: (99, 1)\n"
          ]
        }
      ],
      "source": [
        "y_train_multi = fert_multi[['Fertilizer']]\n",
        "X_train_multi = fert_multi.drop(labels = ['Fertilizer'], axis = 1)\n",
        "\n",
        "print('X_train has shape:', X_train_multi.shape, '\\ny_train has shape:', y_train_multi.shape)"
      ]
    },
    {
      "cell_type": "code",
      "source": [
        "encode_soil = LabelEncoder()\n",
        "\n",
        "#fitting the label encoder\n",
        "X_train_multi['Soil Type'] = encode_soil.fit_transform(X_train_multi['Soil Type'])\n",
        "\n",
        "#creating the DataFrame\n",
        "Soil_Type = pd.DataFrame(zip(encode_soil.classes_,encode_soil.transform(encode_soil.classes_)),columns=['Original','Encoded'])\n",
        "Soil_Type = Soil_Type.set_index('Original')\n",
        "Soil_Type"
      ],
      "metadata": {
        "colab": {
          "base_uri": "https://localhost:8080/",
          "height": 237
        },
        "id": "1AJZm68pjoZJ",
        "outputId": "88c4e1d9-451b-4dc3-bf25-7b57b6d21dd4"
      },
      "id": "1AJZm68pjoZJ",
      "execution_count": 201,
      "outputs": [
        {
          "output_type": "execute_result",
          "data": {
            "text/plain": [
              "          Encoded\n",
              "Original         \n",
              "Black           0\n",
              "Clayey          1\n",
              "Loamy           2\n",
              "Red             3\n",
              "Sandy           4"
            ],
            "text/html": [
              "\n",
              "  <div id=\"df-31942e56-1e30-42da-a0ff-15e951d0e72e\">\n",
              "    <div class=\"colab-df-container\">\n",
              "      <div>\n",
              "<style scoped>\n",
              "    .dataframe tbody tr th:only-of-type {\n",
              "        vertical-align: middle;\n",
              "    }\n",
              "\n",
              "    .dataframe tbody tr th {\n",
              "        vertical-align: top;\n",
              "    }\n",
              "\n",
              "    .dataframe thead th {\n",
              "        text-align: right;\n",
              "    }\n",
              "</style>\n",
              "<table border=\"1\" class=\"dataframe\">\n",
              "  <thead>\n",
              "    <tr style=\"text-align: right;\">\n",
              "      <th></th>\n",
              "      <th>Encoded</th>\n",
              "    </tr>\n",
              "    <tr>\n",
              "      <th>Original</th>\n",
              "      <th></th>\n",
              "    </tr>\n",
              "  </thead>\n",
              "  <tbody>\n",
              "    <tr>\n",
              "      <th>Black</th>\n",
              "      <td>0</td>\n",
              "    </tr>\n",
              "    <tr>\n",
              "      <th>Clayey</th>\n",
              "      <td>1</td>\n",
              "    </tr>\n",
              "    <tr>\n",
              "      <th>Loamy</th>\n",
              "      <td>2</td>\n",
              "    </tr>\n",
              "    <tr>\n",
              "      <th>Red</th>\n",
              "      <td>3</td>\n",
              "    </tr>\n",
              "    <tr>\n",
              "      <th>Sandy</th>\n",
              "      <td>4</td>\n",
              "    </tr>\n",
              "  </tbody>\n",
              "</table>\n",
              "</div>\n",
              "      <button class=\"colab-df-convert\" onclick=\"convertToInteractive('df-31942e56-1e30-42da-a0ff-15e951d0e72e')\"\n",
              "              title=\"Convert this dataframe to an interactive table.\"\n",
              "              style=\"display:none;\">\n",
              "        \n",
              "  <svg xmlns=\"http://www.w3.org/2000/svg\" height=\"24px\"viewBox=\"0 0 24 24\"\n",
              "       width=\"24px\">\n",
              "    <path d=\"M0 0h24v24H0V0z\" fill=\"none\"/>\n",
              "    <path d=\"M18.56 5.44l.94 2.06.94-2.06 2.06-.94-2.06-.94-.94-2.06-.94 2.06-2.06.94zm-11 1L8.5 8.5l.94-2.06 2.06-.94-2.06-.94L8.5 2.5l-.94 2.06-2.06.94zm10 10l.94 2.06.94-2.06 2.06-.94-2.06-.94-.94-2.06-.94 2.06-2.06.94z\"/><path d=\"M17.41 7.96l-1.37-1.37c-.4-.4-.92-.59-1.43-.59-.52 0-1.04.2-1.43.59L10.3 9.45l-7.72 7.72c-.78.78-.78 2.05 0 2.83L4 21.41c.39.39.9.59 1.41.59.51 0 1.02-.2 1.41-.59l7.78-7.78 2.81-2.81c.8-.78.8-2.07 0-2.86zM5.41 20L4 18.59l7.72-7.72 1.47 1.35L5.41 20z\"/>\n",
              "  </svg>\n",
              "      </button>\n",
              "      \n",
              "  <style>\n",
              "    .colab-df-container {\n",
              "      display:flex;\n",
              "      flex-wrap:wrap;\n",
              "      gap: 12px;\n",
              "    }\n",
              "\n",
              "    .colab-df-convert {\n",
              "      background-color: #E8F0FE;\n",
              "      border: none;\n",
              "      border-radius: 50%;\n",
              "      cursor: pointer;\n",
              "      display: none;\n",
              "      fill: #1967D2;\n",
              "      height: 32px;\n",
              "      padding: 0 0 0 0;\n",
              "      width: 32px;\n",
              "    }\n",
              "\n",
              "    .colab-df-convert:hover {\n",
              "      background-color: #E2EBFA;\n",
              "      box-shadow: 0px 1px 2px rgba(60, 64, 67, 0.3), 0px 1px 3px 1px rgba(60, 64, 67, 0.15);\n",
              "      fill: #174EA6;\n",
              "    }\n",
              "\n",
              "    [theme=dark] .colab-df-convert {\n",
              "      background-color: #3B4455;\n",
              "      fill: #D2E3FC;\n",
              "    }\n",
              "\n",
              "    [theme=dark] .colab-df-convert:hover {\n",
              "      background-color: #434B5C;\n",
              "      box-shadow: 0px 1px 3px 1px rgba(0, 0, 0, 0.15);\n",
              "      filter: drop-shadow(0px 1px 2px rgba(0, 0, 0, 0.3));\n",
              "      fill: #FFFFFF;\n",
              "    }\n",
              "  </style>\n",
              "\n",
              "      <script>\n",
              "        const buttonEl =\n",
              "          document.querySelector('#df-31942e56-1e30-42da-a0ff-15e951d0e72e button.colab-df-convert');\n",
              "        buttonEl.style.display =\n",
              "          google.colab.kernel.accessAllowed ? 'block' : 'none';\n",
              "\n",
              "        async function convertToInteractive(key) {\n",
              "          const element = document.querySelector('#df-31942e56-1e30-42da-a0ff-15e951d0e72e');\n",
              "          const dataTable =\n",
              "            await google.colab.kernel.invokeFunction('convertToInteractive',\n",
              "                                                     [key], {});\n",
              "          if (!dataTable) return;\n",
              "\n",
              "          const docLinkHtml = 'Like what you see? Visit the ' +\n",
              "            '<a target=\"_blank\" href=https://colab.research.google.com/notebooks/data_table.ipynb>data table notebook</a>'\n",
              "            + ' to learn more about interactive tables.';\n",
              "          element.innerHTML = '';\n",
              "          dataTable['output_type'] = 'display_data';\n",
              "          await google.colab.output.renderOutput(dataTable, element);\n",
              "          const docLink = document.createElement('div');\n",
              "          docLink.innerHTML = docLinkHtml;\n",
              "          element.appendChild(docLink);\n",
              "        }\n",
              "      </script>\n",
              "    </div>\n",
              "  </div>\n",
              "  "
            ]
          },
          "metadata": {},
          "execution_count": 201
        }
      ]
    },
    {
      "cell_type": "code",
      "source": [
        "#encoding Crop Type variable\n",
        "encode_crop = LabelEncoder()\n",
        "\n",
        "#fitting the label encoder\n",
        "X_train_multi['Crop Type'] = encode_crop.fit_transform(X_train_multi['Crop Type'])\n",
        "\n",
        "#creating the DataFrame\n",
        "Crop_Type = pd.DataFrame(zip(encode_crop.classes_,encode_crop.transform(encode_crop.classes_)),columns=['Original','Encoded'])\n",
        "Crop_Type = Crop_Type.set_index('Original')\n",
        "Crop_Type"
      ],
      "metadata": {
        "colab": {
          "base_uri": "https://localhost:8080/",
          "height": 425
        },
        "id": "M5V0pGi0kHsk",
        "outputId": "f6d5a23e-bc18-42e6-c5e5-64dd35f8f34c"
      },
      "id": "M5V0pGi0kHsk",
      "execution_count": 202,
      "outputs": [
        {
          "output_type": "execute_result",
          "data": {
            "text/plain": [
              "             Encoded\n",
              "Original            \n",
              "Barley             0\n",
              "Cotton             1\n",
              "Ground Nuts        2\n",
              "Maize              3\n",
              "Millets            4\n",
              "Oil seeds          5\n",
              "Paddy              6\n",
              "Pulses             7\n",
              "Sugarcane          8\n",
              "Tobacco            9\n",
              "Wheat             10"
            ],
            "text/html": [
              "\n",
              "  <div id=\"df-377b597c-1dae-48df-abba-919a0e675e80\">\n",
              "    <div class=\"colab-df-container\">\n",
              "      <div>\n",
              "<style scoped>\n",
              "    .dataframe tbody tr th:only-of-type {\n",
              "        vertical-align: middle;\n",
              "    }\n",
              "\n",
              "    .dataframe tbody tr th {\n",
              "        vertical-align: top;\n",
              "    }\n",
              "\n",
              "    .dataframe thead th {\n",
              "        text-align: right;\n",
              "    }\n",
              "</style>\n",
              "<table border=\"1\" class=\"dataframe\">\n",
              "  <thead>\n",
              "    <tr style=\"text-align: right;\">\n",
              "      <th></th>\n",
              "      <th>Encoded</th>\n",
              "    </tr>\n",
              "    <tr>\n",
              "      <th>Original</th>\n",
              "      <th></th>\n",
              "    </tr>\n",
              "  </thead>\n",
              "  <tbody>\n",
              "    <tr>\n",
              "      <th>Barley</th>\n",
              "      <td>0</td>\n",
              "    </tr>\n",
              "    <tr>\n",
              "      <th>Cotton</th>\n",
              "      <td>1</td>\n",
              "    </tr>\n",
              "    <tr>\n",
              "      <th>Ground Nuts</th>\n",
              "      <td>2</td>\n",
              "    </tr>\n",
              "    <tr>\n",
              "      <th>Maize</th>\n",
              "      <td>3</td>\n",
              "    </tr>\n",
              "    <tr>\n",
              "      <th>Millets</th>\n",
              "      <td>4</td>\n",
              "    </tr>\n",
              "    <tr>\n",
              "      <th>Oil seeds</th>\n",
              "      <td>5</td>\n",
              "    </tr>\n",
              "    <tr>\n",
              "      <th>Paddy</th>\n",
              "      <td>6</td>\n",
              "    </tr>\n",
              "    <tr>\n",
              "      <th>Pulses</th>\n",
              "      <td>7</td>\n",
              "    </tr>\n",
              "    <tr>\n",
              "      <th>Sugarcane</th>\n",
              "      <td>8</td>\n",
              "    </tr>\n",
              "    <tr>\n",
              "      <th>Tobacco</th>\n",
              "      <td>9</td>\n",
              "    </tr>\n",
              "    <tr>\n",
              "      <th>Wheat</th>\n",
              "      <td>10</td>\n",
              "    </tr>\n",
              "  </tbody>\n",
              "</table>\n",
              "</div>\n",
              "      <button class=\"colab-df-convert\" onclick=\"convertToInteractive('df-377b597c-1dae-48df-abba-919a0e675e80')\"\n",
              "              title=\"Convert this dataframe to an interactive table.\"\n",
              "              style=\"display:none;\">\n",
              "        \n",
              "  <svg xmlns=\"http://www.w3.org/2000/svg\" height=\"24px\"viewBox=\"0 0 24 24\"\n",
              "       width=\"24px\">\n",
              "    <path d=\"M0 0h24v24H0V0z\" fill=\"none\"/>\n",
              "    <path d=\"M18.56 5.44l.94 2.06.94-2.06 2.06-.94-2.06-.94-.94-2.06-.94 2.06-2.06.94zm-11 1L8.5 8.5l.94-2.06 2.06-.94-2.06-.94L8.5 2.5l-.94 2.06-2.06.94zm10 10l.94 2.06.94-2.06 2.06-.94-2.06-.94-.94-2.06-.94 2.06-2.06.94z\"/><path d=\"M17.41 7.96l-1.37-1.37c-.4-.4-.92-.59-1.43-.59-.52 0-1.04.2-1.43.59L10.3 9.45l-7.72 7.72c-.78.78-.78 2.05 0 2.83L4 21.41c.39.39.9.59 1.41.59.51 0 1.02-.2 1.41-.59l7.78-7.78 2.81-2.81c.8-.78.8-2.07 0-2.86zM5.41 20L4 18.59l7.72-7.72 1.47 1.35L5.41 20z\"/>\n",
              "  </svg>\n",
              "      </button>\n",
              "      \n",
              "  <style>\n",
              "    .colab-df-container {\n",
              "      display:flex;\n",
              "      flex-wrap:wrap;\n",
              "      gap: 12px;\n",
              "    }\n",
              "\n",
              "    .colab-df-convert {\n",
              "      background-color: #E8F0FE;\n",
              "      border: none;\n",
              "      border-radius: 50%;\n",
              "      cursor: pointer;\n",
              "      display: none;\n",
              "      fill: #1967D2;\n",
              "      height: 32px;\n",
              "      padding: 0 0 0 0;\n",
              "      width: 32px;\n",
              "    }\n",
              "\n",
              "    .colab-df-convert:hover {\n",
              "      background-color: #E2EBFA;\n",
              "      box-shadow: 0px 1px 2px rgba(60, 64, 67, 0.3), 0px 1px 3px 1px rgba(60, 64, 67, 0.15);\n",
              "      fill: #174EA6;\n",
              "    }\n",
              "\n",
              "    [theme=dark] .colab-df-convert {\n",
              "      background-color: #3B4455;\n",
              "      fill: #D2E3FC;\n",
              "    }\n",
              "\n",
              "    [theme=dark] .colab-df-convert:hover {\n",
              "      background-color: #434B5C;\n",
              "      box-shadow: 0px 1px 3px 1px rgba(0, 0, 0, 0.15);\n",
              "      filter: drop-shadow(0px 1px 2px rgba(0, 0, 0, 0.3));\n",
              "      fill: #FFFFFF;\n",
              "    }\n",
              "  </style>\n",
              "\n",
              "      <script>\n",
              "        const buttonEl =\n",
              "          document.querySelector('#df-377b597c-1dae-48df-abba-919a0e675e80 button.colab-df-convert');\n",
              "        buttonEl.style.display =\n",
              "          google.colab.kernel.accessAllowed ? 'block' : 'none';\n",
              "\n",
              "        async function convertToInteractive(key) {\n",
              "          const element = document.querySelector('#df-377b597c-1dae-48df-abba-919a0e675e80');\n",
              "          const dataTable =\n",
              "            await google.colab.kernel.invokeFunction('convertToInteractive',\n",
              "                                                     [key], {});\n",
              "          if (!dataTable) return;\n",
              "\n",
              "          const docLinkHtml = 'Like what you see? Visit the ' +\n",
              "            '<a target=\"_blank\" href=https://colab.research.google.com/notebooks/data_table.ipynb>data table notebook</a>'\n",
              "            + ' to learn more about interactive tables.';\n",
              "          element.innerHTML = '';\n",
              "          dataTable['output_type'] = 'display_data';\n",
              "          await google.colab.output.renderOutput(dataTable, element);\n",
              "          const docLink = document.createElement('div');\n",
              "          docLink.innerHTML = docLinkHtml;\n",
              "          element.appendChild(docLink);\n",
              "        }\n",
              "      </script>\n",
              "    </div>\n",
              "  </div>\n",
              "  "
            ]
          },
          "metadata": {},
          "execution_count": 202
        }
      ]
    },
    {
      "cell_type": "code",
      "source": [
        "fert.head()"
      ],
      "metadata": {
        "colab": {
          "base_uri": "https://localhost:8080/",
          "height": 206
        },
        "id": "5K_D88ORkdj9",
        "outputId": "73b1ecbd-fcf9-420d-f096-8ced72a63da0"
      },
      "id": "5K_D88ORkdj9",
      "execution_count": 203,
      "outputs": [
        {
          "output_type": "execute_result",
          "data": {
            "text/plain": [
              "   Temparature  Humidity   Moisture Soil Type  Crop Type  Nitrogen  Potassium  \\\n",
              "0           26         52        38     Sandy      Maize        37          0   \n",
              "1           29         52        45     Loamy  Sugarcane        12          0   \n",
              "2           34         65        62     Black     Cotton         7          9   \n",
              "3           32         62        34       Red    Tobacco        22          0   \n",
              "4           28         54        46    Clayey      Paddy        35          0   \n",
              "\n",
              "   Phosphorous Fertilizer Name  Fertilizer  \n",
              "0            0            Urea           6  \n",
              "1           36             DAP           5  \n",
              "2           30        14-35-14           1  \n",
              "3           20           28-28           4  \n",
              "4            0            Urea           6  "
            ],
            "text/html": [
              "\n",
              "  <div id=\"df-a5b6c109-8bfb-47de-8b12-071804ad5572\">\n",
              "    <div class=\"colab-df-container\">\n",
              "      <div>\n",
              "<style scoped>\n",
              "    .dataframe tbody tr th:only-of-type {\n",
              "        vertical-align: middle;\n",
              "    }\n",
              "\n",
              "    .dataframe tbody tr th {\n",
              "        vertical-align: top;\n",
              "    }\n",
              "\n",
              "    .dataframe thead th {\n",
              "        text-align: right;\n",
              "    }\n",
              "</style>\n",
              "<table border=\"1\" class=\"dataframe\">\n",
              "  <thead>\n",
              "    <tr style=\"text-align: right;\">\n",
              "      <th></th>\n",
              "      <th>Temparature</th>\n",
              "      <th>Humidity</th>\n",
              "      <th>Moisture</th>\n",
              "      <th>Soil Type</th>\n",
              "      <th>Crop Type</th>\n",
              "      <th>Nitrogen</th>\n",
              "      <th>Potassium</th>\n",
              "      <th>Phosphorous</th>\n",
              "      <th>Fertilizer Name</th>\n",
              "      <th>Fertilizer</th>\n",
              "    </tr>\n",
              "  </thead>\n",
              "  <tbody>\n",
              "    <tr>\n",
              "      <th>0</th>\n",
              "      <td>26</td>\n",
              "      <td>52</td>\n",
              "      <td>38</td>\n",
              "      <td>Sandy</td>\n",
              "      <td>Maize</td>\n",
              "      <td>37</td>\n",
              "      <td>0</td>\n",
              "      <td>0</td>\n",
              "      <td>Urea</td>\n",
              "      <td>6</td>\n",
              "    </tr>\n",
              "    <tr>\n",
              "      <th>1</th>\n",
              "      <td>29</td>\n",
              "      <td>52</td>\n",
              "      <td>45</td>\n",
              "      <td>Loamy</td>\n",
              "      <td>Sugarcane</td>\n",
              "      <td>12</td>\n",
              "      <td>0</td>\n",
              "      <td>36</td>\n",
              "      <td>DAP</td>\n",
              "      <td>5</td>\n",
              "    </tr>\n",
              "    <tr>\n",
              "      <th>2</th>\n",
              "      <td>34</td>\n",
              "      <td>65</td>\n",
              "      <td>62</td>\n",
              "      <td>Black</td>\n",
              "      <td>Cotton</td>\n",
              "      <td>7</td>\n",
              "      <td>9</td>\n",
              "      <td>30</td>\n",
              "      <td>14-35-14</td>\n",
              "      <td>1</td>\n",
              "    </tr>\n",
              "    <tr>\n",
              "      <th>3</th>\n",
              "      <td>32</td>\n",
              "      <td>62</td>\n",
              "      <td>34</td>\n",
              "      <td>Red</td>\n",
              "      <td>Tobacco</td>\n",
              "      <td>22</td>\n",
              "      <td>0</td>\n",
              "      <td>20</td>\n",
              "      <td>28-28</td>\n",
              "      <td>4</td>\n",
              "    </tr>\n",
              "    <tr>\n",
              "      <th>4</th>\n",
              "      <td>28</td>\n",
              "      <td>54</td>\n",
              "      <td>46</td>\n",
              "      <td>Clayey</td>\n",
              "      <td>Paddy</td>\n",
              "      <td>35</td>\n",
              "      <td>0</td>\n",
              "      <td>0</td>\n",
              "      <td>Urea</td>\n",
              "      <td>6</td>\n",
              "    </tr>\n",
              "  </tbody>\n",
              "</table>\n",
              "</div>\n",
              "      <button class=\"colab-df-convert\" onclick=\"convertToInteractive('df-a5b6c109-8bfb-47de-8b12-071804ad5572')\"\n",
              "              title=\"Convert this dataframe to an interactive table.\"\n",
              "              style=\"display:none;\">\n",
              "        \n",
              "  <svg xmlns=\"http://www.w3.org/2000/svg\" height=\"24px\"viewBox=\"0 0 24 24\"\n",
              "       width=\"24px\">\n",
              "    <path d=\"M0 0h24v24H0V0z\" fill=\"none\"/>\n",
              "    <path d=\"M18.56 5.44l.94 2.06.94-2.06 2.06-.94-2.06-.94-.94-2.06-.94 2.06-2.06.94zm-11 1L8.5 8.5l.94-2.06 2.06-.94-2.06-.94L8.5 2.5l-.94 2.06-2.06.94zm10 10l.94 2.06.94-2.06 2.06-.94-2.06-.94-.94-2.06-.94 2.06-2.06.94z\"/><path d=\"M17.41 7.96l-1.37-1.37c-.4-.4-.92-.59-1.43-.59-.52 0-1.04.2-1.43.59L10.3 9.45l-7.72 7.72c-.78.78-.78 2.05 0 2.83L4 21.41c.39.39.9.59 1.41.59.51 0 1.02-.2 1.41-.59l7.78-7.78 2.81-2.81c.8-.78.8-2.07 0-2.86zM5.41 20L4 18.59l7.72-7.72 1.47 1.35L5.41 20z\"/>\n",
              "  </svg>\n",
              "      </button>\n",
              "      \n",
              "  <style>\n",
              "    .colab-df-container {\n",
              "      display:flex;\n",
              "      flex-wrap:wrap;\n",
              "      gap: 12px;\n",
              "    }\n",
              "\n",
              "    .colab-df-convert {\n",
              "      background-color: #E8F0FE;\n",
              "      border: none;\n",
              "      border-radius: 50%;\n",
              "      cursor: pointer;\n",
              "      display: none;\n",
              "      fill: #1967D2;\n",
              "      height: 32px;\n",
              "      padding: 0 0 0 0;\n",
              "      width: 32px;\n",
              "    }\n",
              "\n",
              "    .colab-df-convert:hover {\n",
              "      background-color: #E2EBFA;\n",
              "      box-shadow: 0px 1px 2px rgba(60, 64, 67, 0.3), 0px 1px 3px 1px rgba(60, 64, 67, 0.15);\n",
              "      fill: #174EA6;\n",
              "    }\n",
              "\n",
              "    [theme=dark] .colab-df-convert {\n",
              "      background-color: #3B4455;\n",
              "      fill: #D2E3FC;\n",
              "    }\n",
              "\n",
              "    [theme=dark] .colab-df-convert:hover {\n",
              "      background-color: #434B5C;\n",
              "      box-shadow: 0px 1px 3px 1px rgba(0, 0, 0, 0.15);\n",
              "      filter: drop-shadow(0px 1px 2px rgba(0, 0, 0, 0.3));\n",
              "      fill: #FFFFFF;\n",
              "    }\n",
              "  </style>\n",
              "\n",
              "      <script>\n",
              "        const buttonEl =\n",
              "          document.querySelector('#df-a5b6c109-8bfb-47de-8b12-071804ad5572 button.colab-df-convert');\n",
              "        buttonEl.style.display =\n",
              "          google.colab.kernel.accessAllowed ? 'block' : 'none';\n",
              "\n",
              "        async function convertToInteractive(key) {\n",
              "          const element = document.querySelector('#df-a5b6c109-8bfb-47de-8b12-071804ad5572');\n",
              "          const dataTable =\n",
              "            await google.colab.kernel.invokeFunction('convertToInteractive',\n",
              "                                                     [key], {});\n",
              "          if (!dataTable) return;\n",
              "\n",
              "          const docLinkHtml = 'Like what you see? Visit the ' +\n",
              "            '<a target=\"_blank\" href=https://colab.research.google.com/notebooks/data_table.ipynb>data table notebook</a>'\n",
              "            + ' to learn more about interactive tables.';\n",
              "          element.innerHTML = '';\n",
              "          dataTable['output_type'] = 'display_data';\n",
              "          await google.colab.output.renderOutput(dataTable, element);\n",
              "          const docLink = document.createElement('div');\n",
              "          docLink.innerHTML = docLinkHtml;\n",
              "          element.appendChild(docLink);\n",
              "        }\n",
              "      </script>\n",
              "    </div>\n",
              "  </div>\n",
              "  "
            ]
          },
          "metadata": {},
          "execution_count": 203
        }
      ]
    },
    {
      "cell_type": "code",
      "execution_count": 206,
      "id": "85482995",
      "metadata": {
        "execution": {
          "iopub.execute_input": "2023-01-26T02:57:50.091562Z",
          "iopub.status.busy": "2023-01-26T02:57:50.091123Z",
          "iopub.status.idle": "2023-01-26T02:57:50.115640Z",
          "shell.execute_reply": "2023-01-26T02:57:50.114536Z"
        },
        "papermill": {
          "duration": 0.047319,
          "end_time": "2023-01-26T02:57:50.117951",
          "exception": false,
          "start_time": "2023-01-26T02:57:50.070632",
          "status": "completed"
        },
        "tags": [],
        "colab": {
          "base_uri": "https://localhost:8080/"
        },
        "id": "85482995",
        "outputId": "dd0b8e92-d06e-4930-914f-d48c3469b2dc"
      },
      "outputs": [
        {
          "output_type": "execute_result",
          "data": {
            "text/plain": [
              "(154, 8)"
            ]
          },
          "metadata": {},
          "execution_count": 206
        }
      ],
      "source": [
        "smote = SMOTE()\n",
        "X_train_multi, y_train_multi = smote.fit_resample(X_train_multi, y_train_multi)\n",
        "X_train_multi.shape"
      ]
    },
    {
      "cell_type": "code",
      "execution_count": 207,
      "id": "a57589ce",
      "metadata": {
        "execution": {
          "iopub.execute_input": "2023-01-26T02:57:50.150561Z",
          "iopub.status.busy": "2023-01-26T02:57:50.150274Z",
          "iopub.status.idle": "2023-01-26T02:57:50.156155Z",
          "shell.execute_reply": "2023-01-26T02:57:50.155080Z"
        },
        "papermill": {
          "duration": 0.022373,
          "end_time": "2023-01-26T02:57:50.158235",
          "exception": false,
          "start_time": "2023-01-26T02:57:50.135862",
          "status": "completed"
        },
        "tags": [],
        "colab": {
          "base_uri": "https://localhost:8080/"
        },
        "id": "a57589ce",
        "outputId": "f60e5738-bc83-4995-c5de-a85f45c2df16"
      },
      "outputs": [
        {
          "output_type": "execute_result",
          "data": {
            "text/plain": [
              "(154, 1)"
            ]
          },
          "metadata": {},
          "execution_count": 207
        }
      ],
      "source": [
        "y_train_multi.shape"
      ]
    },
    {
      "cell_type": "code",
      "execution_count": 208,
      "id": "1ca20b12",
      "metadata": {
        "execution": {
          "iopub.execute_input": "2023-01-26T02:57:50.187715Z",
          "iopub.status.busy": "2023-01-26T02:57:50.186073Z",
          "iopub.status.idle": "2023-01-26T02:57:50.193633Z",
          "shell.execute_reply": "2023-01-26T02:57:50.192713Z"
        },
        "papermill": {
          "duration": 0.024278,
          "end_time": "2023-01-26T02:57:50.195978",
          "exception": false,
          "start_time": "2023-01-26T02:57:50.171700",
          "status": "completed"
        },
        "tags": [],
        "id": "1ca20b12"
      },
      "outputs": [],
      "source": [
        "X_train, X_test, y_train, y_test = train_test_split(X_train_multi, y_train_multi, test_size = 0.2, random_state = 42, shuffle = True)"
      ]
    },
    {
      "cell_type": "code",
      "execution_count": 209,
      "id": "e4c8d6b7",
      "metadata": {
        "execution": {
          "iopub.execute_input": "2023-01-26T02:57:50.366181Z",
          "iopub.status.busy": "2023-01-26T02:57:50.365312Z",
          "iopub.status.idle": "2023-01-26T02:57:50.372288Z",
          "shell.execute_reply": "2023-01-26T02:57:50.371059Z"
        },
        "papermill": {
          "duration": 0.026014,
          "end_time": "2023-01-26T02:57:50.374987",
          "exception": false,
          "start_time": "2023-01-26T02:57:50.348973",
          "status": "completed"
        },
        "tags": [],
        "colab": {
          "base_uri": "https://localhost:8080/"
        },
        "id": "e4c8d6b7",
        "outputId": "db0a50b5-d1ca-4edc-d6b1-7e170651fd14"
      },
      "outputs": [
        {
          "output_type": "stream",
          "name": "stdout",
          "text": [
            "X_train shape: (123, 8)\n",
            "y_train shape: (123, 1)\n",
            "X_test shape: (31, 8)\n",
            "y_test shape: (31, 1)\n"
          ]
        }
      ],
      "source": [
        "print('X_train shape:', X_train.shape)\n",
        "print('y_train shape:', y_train.shape)\n",
        "print('X_test shape:', X_test.shape)\n",
        "print('y_test shape:', y_test.shape)"
      ]
    },
    {
      "cell_type": "code",
      "execution_count": 210,
      "id": "2c433235",
      "metadata": {
        "execution": {
          "iopub.execute_input": "2023-01-26T02:57:50.407478Z",
          "iopub.status.busy": "2023-01-26T02:57:50.406773Z",
          "iopub.status.idle": "2023-01-26T02:57:50.417698Z",
          "shell.execute_reply": "2023-01-26T02:57:50.416746Z"
        },
        "papermill": {
          "duration": 0.02924,
          "end_time": "2023-01-26T02:57:50.420034",
          "exception": false,
          "start_time": "2023-01-26T02:57:50.390794",
          "status": "completed"
        },
        "tags": [],
        "id": "2c433235"
      },
      "outputs": [],
      "source": [
        "rs = RobustScaler()\n",
        "rs.fit(X_train)\n",
        "X_train_scaled = rs.transform(X_train)\n",
        "X_test_scaled = rs.transform(X_test)"
      ]
    },
    {
      "cell_type": "code",
      "execution_count": 211,
      "id": "68f37bc4",
      "metadata": {
        "execution": {
          "iopub.execute_input": "2023-01-26T02:57:50.450925Z",
          "iopub.status.busy": "2023-01-26T02:57:50.450247Z",
          "iopub.status.idle": "2023-01-26T02:57:50.455667Z",
          "shell.execute_reply": "2023-01-26T02:57:50.454665Z"
        },
        "papermill": {
          "duration": 0.023044,
          "end_time": "2023-01-26T02:57:50.457809",
          "exception": false,
          "start_time": "2023-01-26T02:57:50.434765",
          "status": "completed"
        },
        "tags": [],
        "id": "68f37bc4"
      },
      "outputs": [],
      "source": [
        "from sklearn.preprocessing import LabelEncoder\n",
        "le = LabelEncoder()\n",
        "y_train_encoded = le.fit(y_train)\n",
        "y_train_encoded = le.transform(y_train)\n",
        "y_test_encoded = le.transform(y_test)"
      ]
    },
    {
      "cell_type": "code",
      "execution_count": 212,
      "id": "38af8fb9",
      "metadata": {
        "execution": {
          "iopub.execute_input": "2023-01-26T02:57:50.488710Z",
          "iopub.status.busy": "2023-01-26T02:57:50.487783Z",
          "iopub.status.idle": "2023-01-26T02:57:50.494681Z",
          "shell.execute_reply": "2023-01-26T02:57:50.493635Z"
        },
        "papermill": {
          "duration": 0.024232,
          "end_time": "2023-01-26T02:57:50.496871",
          "exception": false,
          "start_time": "2023-01-26T02:57:50.472639",
          "status": "completed"
        },
        "tags": [],
        "colab": {
          "base_uri": "https://localhost:8080/"
        },
        "id": "38af8fb9",
        "outputId": "52b1c9d3-33e5-4c5d-bb79-cbe1f8d965e3"
      },
      "outputs": [
        {
          "output_type": "execute_result",
          "data": {
            "text/plain": [
              "array([1, 3, 1, 2, 4, 6, 5, 0, 6, 2, 0, 4, 4, 6, 0, 0, 1, 6, 6, 3, 0, 2,\n",
              "       6, 3, 5, 6, 5, 5, 6, 1, 5, 1, 3, 6, 5, 4, 5, 3, 1, 4, 6, 0, 5, 5,\n",
              "       4, 2, 4, 2, 2, 6, 1, 3, 0, 4, 3, 1, 5, 2, 3, 0, 1, 6, 1, 3, 4, 2,\n",
              "       6, 6, 4, 0, 0, 3, 3, 3, 5, 4, 4, 5, 2, 4, 4, 2, 4, 2, 3, 2, 0, 1,\n",
              "       0, 1, 2, 0, 4, 2, 3, 2, 3, 5, 2, 6, 0, 2, 3, 4, 2, 5, 3, 5, 6, 2,\n",
              "       0, 0, 1, 6, 5, 1, 5, 3, 6, 0, 5, 6, 0])"
            ]
          },
          "metadata": {},
          "execution_count": 212
        }
      ],
      "source": [
        "y_train_encoded"
      ]
    },
    {
      "cell_type": "code",
      "execution_count": 213,
      "id": "d6df0b97",
      "metadata": {
        "execution": {
          "iopub.execute_input": "2023-01-26T02:57:50.527267Z",
          "iopub.status.busy": "2023-01-26T02:57:50.526379Z",
          "iopub.status.idle": "2023-01-26T02:57:50.532821Z",
          "shell.execute_reply": "2023-01-26T02:57:50.531842Z"
        },
        "papermill": {
          "duration": 0.023616,
          "end_time": "2023-01-26T02:57:50.534875",
          "exception": false,
          "start_time": "2023-01-26T02:57:50.511259",
          "status": "completed"
        },
        "tags": [],
        "colab": {
          "base_uri": "https://localhost:8080/"
        },
        "id": "d6df0b97",
        "outputId": "76312824-61be-4107-e4e5-63706a9fa205"
      },
      "outputs": [
        {
          "output_type": "execute_result",
          "data": {
            "text/plain": [
              "array([2, 4, 5, 0, 0, 5, 6, 1, 1, 4, 1, 3, 5, 4, 0, 1, 1, 6, 1, 1, 3, 4,\n",
              "       2, 1, 2, 4, 6, 5, 0, 3, 3])"
            ]
          },
          "metadata": {},
          "execution_count": 213
        }
      ],
      "source": [
        "y_test_encoded"
      ]
    },
    {
      "cell_type": "markdown",
      "id": "c59861ea",
      "metadata": {
        "id": "c59861ea"
      },
      "source": [
        "# Logistic Regression"
      ]
    },
    {
      "cell_type": "code",
      "execution_count": 214,
      "id": "018555aa",
      "metadata": {
        "execution": {
          "iopub.execute_input": "2023-01-26T02:57:50.564999Z",
          "iopub.status.busy": "2023-01-26T02:57:50.564158Z",
          "iopub.status.idle": "2023-01-26T02:57:50.588041Z",
          "shell.execute_reply": "2023-01-26T02:57:50.586520Z"
        },
        "papermill": {
          "duration": 0.040652,
          "end_time": "2023-01-26T02:57:50.590049",
          "exception": false,
          "start_time": "2023-01-26T02:57:50.549397",
          "status": "completed"
        },
        "tags": [],
        "colab": {
          "base_uri": "https://localhost:8080/"
        },
        "id": "018555aa",
        "outputId": "878f683f-c4c3-477c-8b26-a64a26fa8185"
      },
      "outputs": [
        {
          "output_type": "stream",
          "name": "stdout",
          "text": [
            "Training accuracy:  99.1869918699187\n"
          ]
        }
      ],
      "source": [
        "from sklearn.linear_model import LogisticRegression\n",
        "LR = LogisticRegression()\n",
        "LR.fit(X_train_scaled, y_train_encoded)\n",
        "print('Training accuracy: ', LR.score(X_train_scaled, y_train_encoded) * 100)"
      ]
    },
    {
      "cell_type": "code",
      "execution_count": 215,
      "id": "cb136ceb",
      "metadata": {
        "execution": {
          "iopub.execute_input": "2023-01-26T02:57:50.620912Z",
          "iopub.status.busy": "2023-01-26T02:57:50.619491Z",
          "iopub.status.idle": "2023-01-26T02:57:50.626265Z",
          "shell.execute_reply": "2023-01-26T02:57:50.625345Z"
        },
        "papermill": {
          "duration": 0.023699,
          "end_time": "2023-01-26T02:57:50.628217",
          "exception": false,
          "start_time": "2023-01-26T02:57:50.604518",
          "status": "completed"
        },
        "tags": [],
        "colab": {
          "base_uri": "https://localhost:8080/"
        },
        "id": "cb136ceb",
        "outputId": "98bb5a46-0529-438c-e5c6-67bf9f934528"
      },
      "outputs": [
        {
          "output_type": "execute_result",
          "data": {
            "text/plain": [
              "array([2, 4, 5, 0, 0, 5, 6, 1, 1, 4, 1, 3, 5, 4, 0, 0, 1, 6, 1, 1, 3, 4,\n",
              "       2, 1, 2, 4, 6, 5, 0, 3, 3])"
            ]
          },
          "metadata": {},
          "execution_count": 215
        }
      ],
      "source": [
        "LR_prediction = LR.predict(X_test_scaled)\n",
        "LR_prediction"
      ]
    },
    {
      "cell_type": "code",
      "execution_count": 216,
      "id": "2e20d11e",
      "metadata": {
        "execution": {
          "iopub.execute_input": "2023-01-26T02:57:51.091998Z",
          "iopub.status.busy": "2023-01-26T02:57:51.091087Z",
          "iopub.status.idle": "2023-01-26T02:57:51.101269Z",
          "shell.execute_reply": "2023-01-26T02:57:51.099686Z"
        },
        "papermill": {
          "duration": 0.028843,
          "end_time": "2023-01-26T02:57:51.103738",
          "exception": false,
          "start_time": "2023-01-26T02:57:51.074895",
          "status": "completed"
        },
        "tags": [],
        "colab": {
          "base_uri": "https://localhost:8080/"
        },
        "id": "2e20d11e",
        "outputId": "d6b8961b-4160-470a-c3e5-261cd17d6d9f"
      },
      "outputs": [
        {
          "output_type": "stream",
          "name": "stdout",
          "text": [
            "Classification Report               precision    recall  f1-score   support\n",
            "\n",
            "           0       0.80      1.00      0.89         4\n",
            "           1       1.00      0.88      0.93         8\n",
            "           2       1.00      1.00      1.00         3\n",
            "           3       1.00      1.00      1.00         4\n",
            "           4       1.00      1.00      1.00         5\n",
            "           5       1.00      1.00      1.00         4\n",
            "           6       1.00      1.00      1.00         3\n",
            "\n",
            "    accuracy                           0.97        31\n",
            "   macro avg       0.97      0.98      0.97        31\n",
            "weighted avg       0.97      0.97      0.97        31\n",
            "\n"
          ]
        }
      ],
      "source": [
        "print(\"Classification Report\", classification_report(y_test_encoded, LR_prediction))"
      ]
    },
    {
      "cell_type": "markdown",
      "id": "513a3548",
      "metadata": {
        "papermill": {
          "duration": 0.014497,
          "end_time": "2023-01-26T02:57:51.133996",
          "exception": false,
          "start_time": "2023-01-26T02:57:51.119499",
          "status": "completed"
        },
        "tags": [],
        "id": "513a3548"
      },
      "source": [
        "### saving trained Logistic Regression model"
      ]
    },
    {
      "cell_type": "code",
      "execution_count": 217,
      "id": "c427a208",
      "metadata": {
        "execution": {
          "iopub.execute_input": "2023-01-26T02:57:51.164950Z",
          "iopub.status.busy": "2023-01-26T02:57:51.164140Z",
          "iopub.status.idle": "2023-01-26T02:57:51.169583Z",
          "shell.execute_reply": "2023-01-26T02:57:51.168662Z"
        },
        "papermill": {
          "duration": 0.023117,
          "end_time": "2023-01-26T02:57:51.171630",
          "exception": false,
          "start_time": "2023-01-26T02:57:51.148513",
          "status": "completed"
        },
        "tags": [],
        "id": "c427a208"
      },
      "outputs": [],
      "source": [
        "LR_pkl_filename = 'FS(LogisticRegression).pkl'\n",
        "LR_Model_pkl = open(LR_pkl_filename, 'wb')\n",
        "pickle.dump(LR, LR_Model_pkl)\n",
        "LR_Model_pkl.close()"
      ]
    },
    {
      "cell_type": "markdown",
      "id": "ea7640bd",
      "metadata": {
        "id": "ea7640bd"
      },
      "source": [
        "# Random Forest"
      ]
    },
    {
      "cell_type": "code",
      "execution_count": 218,
      "id": "d22b82d3",
      "metadata": {
        "execution": {
          "iopub.execute_input": "2023-01-26T02:57:51.202007Z",
          "iopub.status.busy": "2023-01-26T02:57:51.201131Z",
          "iopub.status.idle": "2023-01-26T02:57:51.345487Z",
          "shell.execute_reply": "2023-01-26T02:57:51.344210Z"
        },
        "papermill": {
          "duration": 0.161532,
          "end_time": "2023-01-26T02:57:51.347475",
          "exception": false,
          "start_time": "2023-01-26T02:57:51.185943",
          "status": "completed"
        },
        "tags": [],
        "colab": {
          "base_uri": "https://localhost:8080/"
        },
        "id": "d22b82d3",
        "outputId": "da389a33-4725-4da4-a984-6711b5cdcf9a"
      },
      "outputs": [
        {
          "output_type": "stream",
          "name": "stdout",
          "text": [
            "Training accuracy:  100.0\n"
          ]
        }
      ],
      "source": [
        "from sklearn.ensemble import RandomForestClassifier\n",
        "RF = RandomForestClassifier()\n",
        "RF.fit(X_train_scaled, y_train_encoded)\n",
        "print('Training accuracy: ', RF.score(X_train_scaled,y_train_encoded) * 100)"
      ]
    },
    {
      "cell_type": "code",
      "execution_count": 219,
      "id": "53d33a63",
      "metadata": {
        "execution": {
          "iopub.execute_input": "2023-01-26T02:57:51.378190Z",
          "iopub.status.busy": "2023-01-26T02:57:51.377929Z",
          "iopub.status.idle": "2023-01-26T02:57:51.397464Z",
          "shell.execute_reply": "2023-01-26T02:57:51.396278Z"
        },
        "papermill": {
          "duration": 0.037981,
          "end_time": "2023-01-26T02:57:51.400152",
          "exception": false,
          "start_time": "2023-01-26T02:57:51.362171",
          "status": "completed"
        },
        "tags": [],
        "colab": {
          "base_uri": "https://localhost:8080/"
        },
        "id": "53d33a63",
        "outputId": "e5d16147-8c2a-499c-de63-894e80015af0"
      },
      "outputs": [
        {
          "output_type": "execute_result",
          "data": {
            "text/plain": [
              "array([2, 4, 5, 0, 0, 5, 6, 1, 1, 4, 1, 3, 5, 4, 0, 1, 1, 6, 1, 1, 3, 4,\n",
              "       2, 1, 2, 4, 6, 5, 0, 3, 3])"
            ]
          },
          "metadata": {},
          "execution_count": 219
        }
      ],
      "source": [
        "RF_prediction = RF.predict(X_test_scaled)\n",
        "RF_prediction"
      ]
    },
    {
      "cell_type": "code",
      "execution_count": 220,
      "id": "dca82e92",
      "metadata": {
        "execution": {
          "iopub.execute_input": "2023-01-26T02:57:51.866736Z",
          "iopub.status.busy": "2023-01-26T02:57:51.866233Z",
          "iopub.status.idle": "2023-01-26T02:57:51.878298Z",
          "shell.execute_reply": "2023-01-26T02:57:51.877086Z"
        },
        "papermill": {
          "duration": 0.032182,
          "end_time": "2023-01-26T02:57:51.881455",
          "exception": false,
          "start_time": "2023-01-26T02:57:51.849273",
          "status": "completed"
        },
        "tags": [],
        "colab": {
          "base_uri": "https://localhost:8080/"
        },
        "id": "dca82e92",
        "outputId": "dbbd7828-9f2b-458e-d25b-143709614d3c"
      },
      "outputs": [
        {
          "output_type": "stream",
          "name": "stdout",
          "text": [
            "Classification Report               precision    recall  f1-score   support\n",
            "\n",
            "           0       1.00      1.00      1.00         4\n",
            "           1       1.00      1.00      1.00         8\n",
            "           2       1.00      1.00      1.00         3\n",
            "           3       1.00      1.00      1.00         4\n",
            "           4       1.00      1.00      1.00         5\n",
            "           5       1.00      1.00      1.00         4\n",
            "           6       1.00      1.00      1.00         3\n",
            "\n",
            "    accuracy                           1.00        31\n",
            "   macro avg       1.00      1.00      1.00        31\n",
            "weighted avg       1.00      1.00      1.00        31\n",
            "\n"
          ]
        }
      ],
      "source": [
        "print(\"Classification Report\", classification_report(y_test_encoded, RF_prediction))"
      ]
    },
    {
      "cell_type": "markdown",
      "id": "f3bacfaf",
      "metadata": {
        "papermill": {
          "duration": 0.015131,
          "end_time": "2023-01-26T02:57:51.912388",
          "exception": false,
          "start_time": "2023-01-26T02:57:51.897257",
          "status": "completed"
        },
        "tags": [],
        "id": "f3bacfaf"
      },
      "source": [
        "### saving trained Random Forest model"
      ]
    },
    {
      "cell_type": "code",
      "execution_count": 221,
      "id": "b2c41abc",
      "metadata": {
        "execution": {
          "iopub.execute_input": "2023-01-26T02:57:51.944852Z",
          "iopub.status.busy": "2023-01-26T02:57:51.944555Z",
          "iopub.status.idle": "2023-01-26T02:57:51.956601Z",
          "shell.execute_reply": "2023-01-26T02:57:51.955671Z"
        },
        "papermill": {
          "duration": 0.031549,
          "end_time": "2023-01-26T02:57:51.959253",
          "exception": false,
          "start_time": "2023-01-26T02:57:51.927704",
          "status": "completed"
        },
        "tags": [],
        "id": "b2c41abc"
      },
      "outputs": [],
      "source": [
        "RF_pkl_filename = 'FS(RandomForest).pkl'\n",
        "RF_Model_pkl = open(RF_pkl_filename, 'wb')\n",
        "pickle.dump(RF, RF_Model_pkl)\n",
        "RF_Model_pkl.close()"
      ]
    },
    {
      "cell_type": "markdown",
      "id": "e7233de2",
      "metadata": {
        "id": "e7233de2"
      },
      "source": [
        "### test 1"
      ]
    },
    {
      "cell_type": "code",
      "execution_count": 224,
      "id": "7956cd9a",
      "metadata": {
        "execution": {
          "iopub.execute_input": "2023-01-26T02:57:52.021880Z",
          "iopub.status.busy": "2023-01-26T02:57:52.021603Z",
          "iopub.status.idle": "2023-01-26T02:57:52.027336Z",
          "shell.execute_reply": "2023-01-26T02:57:52.026242Z"
        },
        "papermill": {
          "duration": 0.02584,
          "end_time": "2023-01-26T02:57:52.031342",
          "exception": false,
          "start_time": "2023-01-26T02:57:52.005502",
          "status": "completed"
        },
        "tags": [],
        "colab": {
          "base_uri": "https://localhost:8080/"
        },
        "id": "7956cd9a",
        "outputId": "0d7e429d-51fd-45fe-e92e-be2225b22308"
      },
      "outputs": [
        {
          "output_type": "stream",
          "name": "stdout",
          "text": [
            "DAP\n"
          ]
        }
      ],
      "source": [
        "data = np.array([[34,67,62,0,1,7,0,30]])\n",
        "prediction = LR.predict(data)\n",
        "print(Fertilizer_Name[prediction[0]])"
      ]
    },
    {
      "cell_type": "code",
      "execution_count": 225,
      "id": "8b9c1af1",
      "metadata": {
        "execution": {
          "iopub.execute_input": "2023-01-26T02:57:52.064437Z",
          "iopub.status.busy": "2023-01-26T02:57:52.064184Z",
          "iopub.status.idle": "2023-01-26T02:57:52.084963Z",
          "shell.execute_reply": "2023-01-26T02:57:52.083872Z"
        },
        "papermill": {
          "duration": 0.039316,
          "end_time": "2023-01-26T02:57:52.087778",
          "exception": false,
          "start_time": "2023-01-26T02:57:52.048462",
          "status": "completed"
        },
        "tags": [],
        "colab": {
          "base_uri": "https://localhost:8080/"
        },
        "id": "8b9c1af1",
        "outputId": "545d8235-4b19-473b-df10-ed8832480bf1"
      },
      "outputs": [
        {
          "output_type": "stream",
          "name": "stdout",
          "text": [
            "10-26-26\n"
          ]
        }
      ],
      "source": [
        "data = np.array([[34,67,62,0,1,14,14,14]])\n",
        "prediction = RF.predict(data)\n",
        "print(Fertilizer_Name[prediction[0]])"
      ]
    },
    {
      "cell_type": "markdown",
      "id": "1a75c8b7",
      "metadata": {
        "papermill": {
          "duration": 0.015798,
          "end_time": "2023-01-26T02:57:52.120971",
          "exception": false,
          "start_time": "2023-01-26T02:57:52.105173",
          "status": "completed"
        },
        "tags": [],
        "id": "1a75c8b7"
      },
      "source": [
        "### test2"
      ]
    },
    {
      "cell_type": "code",
      "execution_count": 226,
      "id": "eb60f9e6",
      "metadata": {
        "execution": {
          "iopub.execute_input": "2023-01-26T02:57:52.153275Z",
          "iopub.status.busy": "2023-01-26T02:57:52.152485Z",
          "iopub.status.idle": "2023-01-26T02:57:52.159842Z",
          "shell.execute_reply": "2023-01-26T02:57:52.158706Z"
        },
        "papermill": {
          "duration": 0.026065,
          "end_time": "2023-01-26T02:57:52.162522",
          "exception": false,
          "start_time": "2023-01-26T02:57:52.136457",
          "status": "completed"
        },
        "tags": [],
        "colab": {
          "base_uri": "https://localhost:8080/",
          "height": 36
        },
        "id": "eb60f9e6",
        "outputId": "a63d9a5c-5387-4f23-9924-64e1dae05a32"
      },
      "outputs": [
        {
          "output_type": "execute_result",
          "data": {
            "text/plain": [
              "'14-35-14'"
            ],
            "application/vnd.google.colaboratory.intrinsic+json": {
              "type": "string"
            }
          },
          "metadata": {},
          "execution_count": 226
        }
      ],
      "source": [
        "testLR=np.array(X_test)\n",
        "prediction = LR.predict(testLR)\n",
        "Fertilizer_Name[prediction[4]]"
      ]
    },
    {
      "cell_type": "code",
      "execution_count": 227,
      "id": "8f01dcb5",
      "metadata": {
        "execution": {
          "iopub.execute_input": "2023-01-26T02:57:52.194298Z",
          "iopub.status.busy": "2023-01-26T02:57:52.194044Z",
          "iopub.status.idle": "2023-01-26T02:57:52.213000Z",
          "shell.execute_reply": "2023-01-26T02:57:52.211982Z"
        },
        "papermill": {
          "duration": 0.036853,
          "end_time": "2023-01-26T02:57:52.215079",
          "exception": false,
          "start_time": "2023-01-26T02:57:52.178226",
          "status": "completed"
        },
        "tags": [],
        "colab": {
          "base_uri": "https://localhost:8080/",
          "height": 36
        },
        "id": "8f01dcb5",
        "outputId": "2cd95f9e-1754-4b35-b0cb-25b827fe2bbb"
      },
      "outputs": [
        {
          "output_type": "execute_result",
          "data": {
            "text/plain": [
              "'10-26-26'"
            ],
            "application/vnd.google.colaboratory.intrinsic+json": {
              "type": "string"
            }
          },
          "metadata": {},
          "execution_count": 227
        }
      ],
      "source": [
        "prediction = RF.predict(testLR)\n",
        "Fertilizer_Name[prediction[4]]"
      ]
    },
    {
      "cell_type": "code",
      "execution_count": 228,
      "id": "dd6b1883",
      "metadata": {
        "execution": {
          "iopub.execute_input": "2023-01-26T02:57:52.246996Z",
          "iopub.status.busy": "2023-01-26T02:57:52.246108Z",
          "iopub.status.idle": "2023-01-26T02:57:52.252752Z",
          "shell.execute_reply": "2023-01-26T02:57:52.251826Z"
        },
        "papermill": {
          "duration": 0.024741,
          "end_time": "2023-01-26T02:57:52.254745",
          "exception": false,
          "start_time": "2023-01-26T02:57:52.230004",
          "status": "completed"
        },
        "tags": [],
        "colab": {
          "base_uri": "https://localhost:8080/",
          "height": 36
        },
        "id": "dd6b1883",
        "outputId": "268b9aed-a923-42d1-a8a7-a11dcf31affa"
      },
      "outputs": [
        {
          "output_type": "execute_result",
          "data": {
            "text/plain": [
              "'10-26-26'"
            ],
            "application/vnd.google.colaboratory.intrinsic+json": {
              "type": "string"
            }
          },
          "metadata": {},
          "execution_count": 228
        }
      ],
      "source": [
        "test=np.array(y_test)\n",
        "Fertilizer_Name[test[4][0]]"
      ]
    },
    {
      "cell_type": "markdown",
      "id": "f35ddf7d",
      "metadata": {
        "papermill": {
          "duration": 0.015261,
          "end_time": "2023-01-26T02:57:52.285572",
          "exception": false,
          "start_time": "2023-01-26T02:57:52.270311",
          "status": "completed"
        },
        "tags": [],
        "id": "f35ddf7d"
      },
      "source": [
        "### test3"
      ]
    },
    {
      "cell_type": "code",
      "execution_count": 230,
      "id": "d2095abc",
      "metadata": {
        "execution": {
          "iopub.execute_input": "2023-01-26T02:57:52.318100Z",
          "iopub.status.busy": "2023-01-26T02:57:52.317307Z",
          "iopub.status.idle": "2023-01-26T02:57:52.324229Z",
          "shell.execute_reply": "2023-01-26T02:57:52.322716Z"
        },
        "papermill": {
          "duration": 0.026148,
          "end_time": "2023-01-26T02:57:52.327113",
          "exception": false,
          "start_time": "2023-01-26T02:57:52.300965",
          "status": "completed"
        },
        "tags": [],
        "colab": {
          "base_uri": "https://localhost:8080/"
        },
        "id": "d2095abc",
        "outputId": "2adf1c54-b7b9-4e22-8566-a399d0583cad"
      },
      "outputs": [
        {
          "output_type": "stream",
          "name": "stdout",
          "text": [
            "DAP\n"
          ]
        }
      ],
      "source": [
        "data = np.array([[34,67,62,0,1,7,0,30]])\n",
        "prediction = LR.predict(data)\n",
        "print(Fertilizer_Name[prediction[0]])"
      ]
    },
    {
      "cell_type": "code",
      "execution_count": 231,
      "id": "24a9be7e",
      "metadata": {
        "execution": {
          "iopub.execute_input": "2023-01-26T02:57:52.361402Z",
          "iopub.status.busy": "2023-01-26T02:57:52.360479Z",
          "iopub.status.idle": "2023-01-26T02:57:52.377832Z",
          "shell.execute_reply": "2023-01-26T02:57:52.376298Z"
        },
        "papermill": {
          "duration": 0.035967,
          "end_time": "2023-01-26T02:57:52.380142",
          "exception": false,
          "start_time": "2023-01-26T02:57:52.344175",
          "status": "completed"
        },
        "tags": [],
        "colab": {
          "base_uri": "https://localhost:8080/"
        },
        "id": "24a9be7e",
        "outputId": "6b417c72-0cdf-4b04-d7bc-994631faae18"
      },
      "outputs": [
        {
          "output_type": "stream",
          "name": "stdout",
          "text": [
            "10-26-26\n"
          ]
        }
      ],
      "source": [
        "data = np.array([[34,67,62,0,1,14,14,14]])\n",
        "prediction = RF.predict(data)\n",
        "print(Fertilizer_Name[prediction[0]])"
      ]
    }
  ],
  "metadata": {
    "kernelspec": {
      "display_name": "Python 3",
      "language": "python",
      "name": "python3"
    },
    "language_info": {
      "codemirror_mode": {
        "name": "ipython",
        "version": 3
      },
      "file_extension": ".py",
      "mimetype": "text/x-python",
      "name": "python",
      "nbconvert_exporter": "python",
      "pygments_lexer": "ipython3",
      "version": "3.9.5"
    },
    "papermill": {
      "default_parameters": {},
      "duration": 14.506105,
      "end_time": "2023-01-26T02:57:53.015697",
      "environment_variables": {},
      "exception": null,
      "input_path": "__notebook__.ipynb",
      "output_path": "__notebook__.ipynb",
      "parameters": {},
      "start_time": "2023-01-26T02:57:38.509592",
      "version": "2.3.4"
    },
    "vscode": {
      "interpreter": {
        "hash": "97c168e9bd736017503c74358fff7ff9aacde3d5d57325e1d379923bab8720c8"
      }
    },
    "colab": {
      "provenance": []
    }
  },
  "nbformat": 4,
  "nbformat_minor": 5
}