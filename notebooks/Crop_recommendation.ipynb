{
 "cells": [
  {
   "cell_type": "code",
   "execution_count": 1,
   "id": "3f48a528",
   "metadata": {},
   "outputs": [],
   "source": [
    "# pip install scikit-learn"
   ]
  },
  {
   "cell_type": "code",
   "execution_count": 2,
   "id": "8da191bd",
   "metadata": {},
   "outputs": [],
   "source": [
    "# Importing libraries\n",
    "from __future__ import print_function\n",
    "import pandas as pd\n",
    "import numpy as np\n",
    "import matplotlib.pyplot as plt\n",
    "import seaborn as sns\n",
    "from sklearn.metrics import classification_report\n",
    "from sklearn import metrics\n",
    "from sklearn import tree\n",
    "import warnings\n",
    "warnings.filterwarnings('ignore')"
   ]
  },
  {
   "cell_type": "code",
   "execution_count": 3,
   "id": "84cd5d3c",
   "metadata": {},
   "outputs": [
    {
     "data": {
      "text/html": [
       "<div>\n",
       "<style scoped>\n",
       "    .dataframe tbody tr th:only-of-type {\n",
       "        vertical-align: middle;\n",
       "    }\n",
       "\n",
       "    .dataframe tbody tr th {\n",
       "        vertical-align: top;\n",
       "    }\n",
       "\n",
       "    .dataframe thead th {\n",
       "        text-align: right;\n",
       "    }\n",
       "</style>\n",
       "<table border=\"1\" class=\"dataframe\">\n",
       "  <thead>\n",
       "    <tr style=\"text-align: right;\">\n",
       "      <th></th>\n",
       "      <th>N</th>\n",
       "      <th>P</th>\n",
       "      <th>K</th>\n",
       "      <th>Ph</th>\n",
       "      <th>Temperature(C)</th>\n",
       "      <th>Rainfall(cm)</th>\n",
       "      <th>Humidity</th>\n",
       "      <th>Crop</th>\n",
       "    </tr>\n",
       "  </thead>\n",
       "  <tbody>\n",
       "    <tr>\n",
       "      <th>0</th>\n",
       "      <td>18</td>\n",
       "      <td>62</td>\n",
       "      <td>19</td>\n",
       "      <td>7.3</td>\n",
       "      <td>29</td>\n",
       "      <td>98</td>\n",
       "      <td>61</td>\n",
       "      <td>pigeonpeas</td>\n",
       "    </tr>\n",
       "    <tr>\n",
       "      <th>1</th>\n",
       "      <td>36</td>\n",
       "      <td>60</td>\n",
       "      <td>78</td>\n",
       "      <td>7.4</td>\n",
       "      <td>22</td>\n",
       "      <td>57</td>\n",
       "      <td>62</td>\n",
       "      <td>chickpea</td>\n",
       "    </tr>\n",
       "    <tr>\n",
       "      <th>2</th>\n",
       "      <td>103</td>\n",
       "      <td>14</td>\n",
       "      <td>51</td>\n",
       "      <td>6.6</td>\n",
       "      <td>20</td>\n",
       "      <td>50</td>\n",
       "      <td>76</td>\n",
       "      <td>muskmelon</td>\n",
       "    </tr>\n",
       "    <tr>\n",
       "      <th>3</th>\n",
       "      <td>76</td>\n",
       "      <td>43</td>\n",
       "      <td>38</td>\n",
       "      <td>6.6</td>\n",
       "      <td>22</td>\n",
       "      <td>148</td>\n",
       "      <td>72</td>\n",
       "      <td>rice</td>\n",
       "    </tr>\n",
       "    <tr>\n",
       "      <th>4</th>\n",
       "      <td>32</td>\n",
       "      <td>60</td>\n",
       "      <td>80</td>\n",
       "      <td>7.1</td>\n",
       "      <td>24</td>\n",
       "      <td>58</td>\n",
       "      <td>64</td>\n",
       "      <td>chickpea</td>\n",
       "    </tr>\n",
       "  </tbody>\n",
       "</table>\n",
       "</div>"
      ],
      "text/plain": [
       "     N   P   K   Ph  Temperature(C)  Rainfall(cm)  Humidity        Crop\n",
       "0   18  62  19  7.3              29            98        61  pigeonpeas\n",
       "1   36  60  78  7.4              22            57        62    chickpea\n",
       "2  103  14  51  6.6              20            50        76   muskmelon\n",
       "3   76  43  38  6.6              22           148        72        rice\n",
       "4   32  60  80  7.1              24            58        64    chickpea"
      ]
     },
     "execution_count": 3,
     "metadata": {},
     "output_type": "execute_result"
    }
   ],
   "source": [
    "df = pd.read_csv('../dataset/crop_data.csv')\n",
    "df.head()"
   ]
  },
  {
   "cell_type": "code",
   "execution_count": 4,
   "id": "5bfacdce",
   "metadata": {},
   "outputs": [
    {
     "data": {
      "text/plain": [
       "Index(['N', 'P', 'K', 'Ph', 'Temperature(C)', 'Rainfall(cm)', 'Humidity',\n",
       "       'Crop'],\n",
       "      dtype='object')"
      ]
     },
     "execution_count": 4,
     "metadata": {},
     "output_type": "execute_result"
    }
   ],
   "source": [
    "df.columns"
   ]
  },
  {
   "cell_type": "code",
   "execution_count": 5,
   "id": "58089526",
   "metadata": {},
   "outputs": [
    {
     "data": {
      "text/plain": [
       "array(['pigeonpeas', 'chickpea', 'muskmelon', 'rice', 'grapes', 'banana',\n",
       "       'kidneybeans', 'lentil', 'watermelon', 'cotton', 'apple', 'jute',\n",
       "       'mango', 'coffee', 'maize', 'mothbeans', 'mungbean', 'orange',\n",
       "       'coconut', 'papaya', 'blackgram', 'pomegranate'], dtype=object)"
      ]
     },
     "execution_count": 5,
     "metadata": {},
     "output_type": "execute_result"
    }
   ],
   "source": [
    "df['Crop'].unique()"
   ]
  },
  {
   "cell_type": "code",
   "execution_count": 6,
   "id": "c546f209",
   "metadata": {},
   "outputs": [
    {
     "data": {
      "text/plain": [
       "N                   int64\n",
       "P                   int64\n",
       "K                   int64\n",
       "Ph                float64\n",
       "Temperature(C)      int64\n",
       "Rainfall(cm)        int64\n",
       "Humidity            int64\n",
       "Crop               object\n",
       "dtype: object"
      ]
     },
     "execution_count": 6,
     "metadata": {},
     "output_type": "execute_result"
    }
   ],
   "source": [
    "df.dtypes"
   ]
  },
  {
   "cell_type": "code",
   "execution_count": 7,
   "id": "3f098b42",
   "metadata": {},
   "outputs": [
    {
     "data": {
      "text/plain": [
       "pigeonpeas     1000\n",
       "chickpea       1000\n",
       "blackgram      1000\n",
       "papaya         1000\n",
       "coconut        1000\n",
       "orange         1000\n",
       "mungbean       1000\n",
       "mothbeans      1000\n",
       "maize          1000\n",
       "coffee         1000\n",
       "mango          1000\n",
       "jute           1000\n",
       "apple          1000\n",
       "cotton         1000\n",
       "watermelon     1000\n",
       "lentil         1000\n",
       "kidneybeans    1000\n",
       "banana         1000\n",
       "grapes         1000\n",
       "rice           1000\n",
       "muskmelon      1000\n",
       "pomegranate    1000\n",
       "Name: Crop, dtype: int64"
      ]
     },
     "execution_count": 7,
     "metadata": {},
     "output_type": "execute_result"
    }
   ],
   "source": [
    "df['Crop'].value_counts()"
   ]
  },
  {
   "cell_type": "code",
   "execution_count": 8,
   "id": "f4a46c71",
   "metadata": {},
   "outputs": [
    {
     "data": {
      "text/plain": [
       "<AxesSubplot: >"
      ]
     },
     "execution_count": 8,
     "metadata": {},
     "output_type": "execute_result"
    },
    {
     "data": {
      "image/png": "[encoded data removed]",
      "text/plain": [
       "<Figure size 640x480 with 2 Axes>"
      ]
     },
     "metadata": {},
     "output_type": "display_data"
    }
   ],
   "source": [
    "sns.heatmap(df.corr(), annot = True)"
   ]
  },
  {
   "cell_type": "markdown",
   "id": "116fe149",
   "metadata": {},
   "source": [
    "### Separating Features and Target labels"
   ]
  },
  {
   "cell_type": "code",
   "execution_count": 9,
   "id": "39543d4d",
   "metadata": {},
   "outputs": [],
   "source": [
    "features = df[['N', 'P', 'K', 'Ph', 'Temperature(C)', 'Rainfall(cm)', 'Humidity']]\n",
    "target = df['Crop']\n",
    "labels = df['Crop']"
   ]
  },
  {
   "cell_type": "code",
   "execution_count": 10,
   "id": "34bac88d",
   "metadata": {},
   "outputs": [],
   "source": [
    "# Intializing empty lists to append all models names and corresponding name\n",
    "acc = []\n",
    "model = []"
   ]
  },
  {
   "cell_type": "code",
   "execution_count": 11,
   "id": "11a21f07",
   "metadata": {},
   "outputs": [],
   "source": [
    "# Splitting into traing and test data set\n",
    "from sklearn.model_selection import train_test_split\n",
    "Xtrain, Xtest, Ytrain, Ytest = train_test_split(features, target, test_size = 0.2, random_state = 2)"
   ]
  },
  {
   "cell_type": "markdown",
   "id": "5681be20",
   "metadata": {},
   "source": [
    "# DECISION TREE"
   ]
  },
  {
   "cell_type": "code",
   "execution_count": 12,
   "id": "d6a31fd8",
   "metadata": {},
   "outputs": [
    {
     "name": "stdout",
     "output_type": "stream",
     "text": [
      "DecisionTrees's Accuracy is:  77.5909090909091\n",
      "              precision    recall  f1-score   support\n",
      "\n",
      "       apple       0.94      1.00      0.97       219\n",
      "      banana       1.00      1.00      1.00       175\n",
      "   blackgram       0.99      1.00      0.99       199\n",
      "    chickpea       1.00      1.00      1.00       194\n",
      "     coconut       0.00      0.00      0.00       214\n",
      "      coffee       1.00      1.00      1.00       182\n",
      "      cotton       1.00      1.00      1.00       186\n",
      "      grapes       1.00      0.92      0.96       183\n",
      "        jute       1.00      0.53      0.70       225\n",
      " kidneybeans       0.00      0.00      0.00       196\n",
      "      lentil       0.37      1.00      0.54       171\n",
      "       maize       1.00      1.00      1.00       229\n",
      "       mango       0.48      1.00      0.65       197\n",
      "   mothbeans       1.00      0.26      0.41       189\n",
      "    mungbean       0.60      1.00      0.75       210\n",
      "   muskmelon       0.49      0.37      0.42       212\n",
      "      orange       1.00      1.00      1.00       223\n",
      "      papaya       1.00      1.00      1.00       188\n",
      "  pigeonpeas       1.00      0.48      0.65       200\n",
      " pomegranate       1.00      1.00      1.00       209\n",
      "        rice       0.66      1.00      0.79       200\n",
      "  watermelon       0.47      0.60      0.53       199\n",
      "\n",
      "    accuracy                           0.78      4400\n",
      "   macro avg       0.77      0.78      0.74      4400\n",
      "weighted avg       0.77      0.78      0.74      4400\n",
      "\n"
     ]
    }
   ],
   "source": [
    "from sklearn.tree import DecisionTreeClassifier\n",
    "\n",
    "DecisionTree = DecisionTreeClassifier(criterion=\"entropy\", random_state = 2, max_depth = 5)\n",
    "\n",
    "DecisionTree.fit(Xtrain, Ytrain)\n",
    "\n",
    "predicted_values = DecisionTree.predict(Xtest)\n",
    "x = metrics.accuracy_score(Ytest, predicted_values)\n",
    "acc.append(x)\n",
    "model.append('Decision Tree')\n",
    "print(\"DecisionTrees's Accuracy is: \", x * 100)\n",
    "\n",
    "print(classification_report(Ytest, predicted_values))"
   ]
  },
  {
   "cell_type": "code",
   "execution_count": 13,
   "id": "c6a8e25d",
   "metadata": {},
   "outputs": [],
   "source": [
    "from sklearn.model_selection import cross_val_score"
   ]
  },
  {
   "cell_type": "code",
   "execution_count": 14,
   "id": "7a445089",
   "metadata": {},
   "outputs": [
    {
     "data": {
      "text/plain": [
       "array([0.82090909, 0.81590909, 0.81272727, 0.81727273, 0.81727273])"
      ]
     },
     "execution_count": 14,
     "metadata": {},
     "output_type": "execute_result"
    }
   ],
   "source": [
    "# Cross validation score (Decision Tree)\n",
    "score = cross_val_score(DecisionTree, features, target, cv = 5)\n",
    "score"
   ]
  },
  {
   "cell_type": "markdown",
   "id": "aa713377",
   "metadata": {},
   "source": [
    "### Saving Trained Decision Tree model"
   ]
  },
  {
   "cell_type": "code",
   "execution_count": 15,
   "id": "deba1cb5",
   "metadata": {},
   "outputs": [],
   "source": [
    "import pickle\n",
    "# Dump the trained Decision Tree classifier with Pickle\n",
    "DT_pkl_filename = '../models/CR(DecisionTree).pkl'\n",
    "# Open the file to save as pkl file\n",
    "DT_Model_pkl = open(DT_pkl_filename, 'wb')\n",
    "pickle.dump(DecisionTree, DT_Model_pkl)\n",
    "# Close the pickle instances\n",
    "DT_Model_pkl.close()"
   ]
  },
  {
   "cell_type": "markdown",
   "id": "7bc21ec6",
   "metadata": {},
   "source": [
    "# Gaussian Naive Bayes"
   ]
  },
  {
   "cell_type": "code",
   "execution_count": 16,
   "id": "a1b5d43d",
   "metadata": {},
   "outputs": [
    {
     "name": "stdout",
     "output_type": "stream",
     "text": [
      "Naive Bayes's Accuracy is:  82.06818181818181\n",
      "              precision    recall  f1-score   support\n",
      "\n",
      "       apple       0.99      0.98      0.99       219\n",
      "      banana       1.00      1.00      1.00       175\n",
      "   blackgram       0.97      0.95      0.96       199\n",
      "    chickpea       1.00      1.00      1.00       194\n",
      "     coconut       0.95      0.99      0.97       214\n",
      "      coffee       1.00      1.00      1.00       182\n",
      "      cotton       1.00      1.00      1.00       186\n",
      "      grapes       0.98      0.99      0.98       183\n",
      "        jute       0.78      0.67      0.72       225\n",
      " kidneybeans       0.44      0.35      0.39       196\n",
      "      lentil       0.35      0.42      0.38       171\n",
      "       maize       1.00      1.00      1.00       229\n",
      "       mango       0.99      0.95      0.97       197\n",
      "   mothbeans       0.64      0.47      0.54       189\n",
      "    mungbean       0.62      0.77      0.68       210\n",
      "   muskmelon       0.52      0.46      0.49       212\n",
      "      orange       1.00      1.00      1.00       223\n",
      "      papaya       1.00      1.00      1.00       188\n",
      "  pigeonpeas       0.65      0.69      0.67       200\n",
      " pomegranate       1.00      1.00      1.00       209\n",
      "        rice       0.68      0.79      0.73       200\n",
      "  watermelon       0.48      0.54      0.51       199\n",
      "\n",
      "    accuracy                           0.82      4400\n",
      "   macro avg       0.82      0.82      0.82      4400\n",
      "weighted avg       0.82      0.82      0.82      4400\n",
      "\n"
     ]
    }
   ],
   "source": [
    "from sklearn.naive_bayes import GaussianNB\n",
    "\n",
    "NaiveBayes = GaussianNB()\n",
    "\n",
    "NaiveBayes.fit(Xtrain, Ytrain)\n",
    "\n",
    "predicted_values = NaiveBayes.predict(Xtest)\n",
    "x = metrics.accuracy_score(Ytest, predicted_values)\n",
    "acc.append(x)\n",
    "model.append('Naive Bayes')\n",
    "print(\"Naive Bayes's Accuracy is: \", x * 100)\n",
    "\n",
    "print(classification_report(Ytest, predicted_values))"
   ]
  },
  {
   "cell_type": "code",
   "execution_count": 17,
   "id": "9cdf7f9f",
   "metadata": {},
   "outputs": [
    {
     "data": {
      "text/plain": [
       "array([0.82431818, 0.81818182, 0.825     , 0.81477273, 0.82386364])"
      ]
     },
     "execution_count": 17,
     "metadata": {},
     "output_type": "execute_result"
    }
   ],
   "source": [
    "# Cross validation score (Gaussian Naive Bayes)\n",
    "score = cross_val_score(NaiveBayes, features, target, cv = 5)\n",
    "score"
   ]
  },
  {
   "cell_type": "markdown",
   "id": "292e99ec",
   "metadata": {},
   "source": [
    "### Saving trained Gaussian Naive Bayes"
   ]
  },
  {
   "cell_type": "code",
   "execution_count": 18,
   "id": "3c222b41",
   "metadata": {},
   "outputs": [],
   "source": [
    "import pickle\n",
    "# Dump the trained Naive Bayes classifier with Pickle\n",
    "NB_pkl_filename = '../models/CR(NaiveBayes).pkl'\n",
    "# Open the file to save as pkl file\n",
    "NB_Model_pkl = open(NB_pkl_filename, 'wb')\n",
    "pickle.dump(NaiveBayes, NB_Model_pkl)\n",
    "# Close the pickle instances\n",
    "NB_Model_pkl.close()"
   ]
  },
  {
   "cell_type": "markdown",
   "id": "33c6bb49",
   "metadata": {},
   "source": [
    "# Support Vector Machine (SVM)"
   ]
  },
  {
   "cell_type": "code",
   "execution_count": 19,
   "id": "e8b90f33",
   "metadata": {},
   "outputs": [
    {
     "name": "stdout",
     "output_type": "stream",
     "text": [
      "SVM's Accuracy is:  82.38636363636364\n",
      "              precision    recall  f1-score   support\n",
      "\n",
      "       apple       1.00      0.96      0.98       219\n",
      "      banana       1.00      1.00      1.00       175\n",
      "   blackgram       0.97      0.96      0.97       199\n",
      "    chickpea       1.00      1.00      1.00       194\n",
      "     coconut       0.95      0.97      0.96       214\n",
      "      coffee       1.00      1.00      1.00       182\n",
      "      cotton       1.00      1.00      1.00       186\n",
      "      grapes       0.96      0.99      0.98       183\n",
      "        jute       0.83      0.62      0.71       225\n",
      " kidneybeans       0.46      0.35      0.40       196\n",
      "      lentil       0.36      0.56      0.44       171\n",
      "       maize       1.00      1.00      1.00       229\n",
      "       mango       0.96      0.94      0.95       197\n",
      "   mothbeans       0.74      0.38      0.50       189\n",
      "    mungbean       0.61      0.88      0.72       210\n",
      "   muskmelon       0.54      0.34      0.42       212\n",
      "      orange       1.00      1.00      1.00       223\n",
      "      papaya       1.00      1.00      1.00       188\n",
      "  pigeonpeas       0.79      0.60      0.68       200\n",
      " pomegranate       1.00      1.00      1.00       209\n",
      "        rice       0.67      0.86      0.75       200\n",
      "  watermelon       0.50      0.69      0.58       199\n",
      "\n",
      "    accuracy                           0.82      4400\n",
      "   macro avg       0.83      0.82      0.82      4400\n",
      "weighted avg       0.84      0.82      0.82      4400\n",
      "\n"
     ]
    }
   ],
   "source": [
    "from sklearn.svm import SVC\n",
    "# data normalization with sklearn\n",
    "from sklearn.preprocessing import MinMaxScaler\n",
    "# fit scaler on training data\n",
    "norm = MinMaxScaler().fit(Xtrain)\n",
    "X_train_norm = norm.transform(Xtrain)\n",
    "# transform testing dataabs\n",
    "X_test_norm = norm.transform(Xtest)\n",
    "SVM = SVC(kernel = 'poly', degree = 3, C = 1)\n",
    "SVM.fit(X_train_norm, Ytrain)\n",
    "predicted_values = SVM.predict(X_test_norm)\n",
    "x = metrics.accuracy_score(Ytest, predicted_values)\n",
    "acc.append(x)\n",
    "model.append('SVM')\n",
    "print(\"SVM's Accuracy is: \", x * 100)\n",
    "\n",
    "print(classification_report(Ytest,predicted_values))"
   ]
  },
  {
   "cell_type": "code",
   "execution_count": 20,
   "id": "5bdd9443",
   "metadata": {},
   "outputs": [
    {
     "data": {
      "text/plain": [
       "array([0.79681818, 0.79409091, 0.79590909, 0.79772727, 0.79454545])"
      ]
     },
     "execution_count": 20,
     "metadata": {},
     "output_type": "execute_result"
    }
   ],
   "source": [
    "# Cross validation score (SVM)\n",
    "score = cross_val_score(SVM, features, target, cv = 5)\n",
    "score"
   ]
  },
  {
   "cell_type": "markdown",
   "id": "095163c7",
   "metadata": {},
   "source": [
    "### Saving trained SVM Model"
   ]
  },
  {
   "cell_type": "code",
   "execution_count": 21,
   "id": "56562dd6",
   "metadata": {},
   "outputs": [],
   "source": [
    "import pickle\n",
    "# Dump the trained SVM classifier with Pickle\n",
    "SVM_pkl_filename = '../models/CR(SVM).pkl'\n",
    "# Open the file to save as pkl file\n",
    "SVM_Model_pkl = open(SVM_pkl_filename, 'wb')\n",
    "pickle.dump(SVM, SVM_Model_pkl)\n",
    "# Close the pickle instances\n",
    "SVM_Model_pkl.close()"
   ]
  },
  {
   "cell_type": "markdown",
   "id": "8b49b671",
   "metadata": {},
   "source": [
    "# Logistic Regression"
   ]
  },
  {
   "cell_type": "code",
   "execution_count": 22,
   "id": "c2ffc053",
   "metadata": {},
   "outputs": [
    {
     "name": "stdout",
     "output_type": "stream",
     "text": [
      "Logistic Regression's Accuracy is:  79.61363636363636\n",
      "              precision    recall  f1-score   support\n",
      "\n",
      "       apple       0.99      0.97      0.98       219\n",
      "      banana       1.00      1.00      1.00       175\n",
      "   blackgram       0.96      0.96      0.96       199\n",
      "    chickpea       1.00      1.00      1.00       194\n",
      "     coconut       0.96      0.95      0.96       214\n",
      "      coffee       1.00      1.00      1.00       182\n",
      "      cotton       0.99      1.00      1.00       186\n",
      "      grapes       0.97      0.99      0.98       183\n",
      "        jute       0.73      0.70      0.72       225\n",
      " kidneybeans       0.35      0.21      0.27       196\n",
      "      lentil       0.30      0.32      0.31       171\n",
      "       maize       0.99      0.99      0.99       229\n",
      "       mango       0.93      0.92      0.93       197\n",
      "   mothbeans       0.57      0.55      0.56       189\n",
      "    mungbean       0.60      0.60      0.60       210\n",
      "   muskmelon       0.53      0.60      0.57       212\n",
      "      orange       1.00      1.00      1.00       223\n",
      "      papaya       1.00      1.00      1.00       188\n",
      "  pigeonpeas       0.41      0.54      0.46       200\n",
      " pomegranate       0.97      1.00      0.99       209\n",
      "        rice       0.68      0.71      0.69       200\n",
      "  watermelon       0.51      0.43      0.47       199\n",
      "\n",
      "    accuracy                           0.80      4400\n",
      "   macro avg       0.79      0.79      0.79      4400\n",
      "weighted avg       0.79      0.80      0.79      4400\n",
      "\n"
     ]
    }
   ],
   "source": [
    "from sklearn.linear_model import LogisticRegression\n",
    "\n",
    "LogReg = LogisticRegression(random_state = 2)\n",
    "\n",
    "LogReg.fit(Xtrain, Ytrain)\n",
    "\n",
    "predicted_values = LogReg.predict(Xtest)\n",
    "\n",
    "x = metrics.accuracy_score(Ytest, predicted_values)\n",
    "acc.append(x)\n",
    "model.append('Logistic Regression')\n",
    "print(\"Logistic Regression's Accuracy is: \", x * 100)\n",
    "\n",
    "print(classification_report(Ytest,predicted_values))"
   ]
  },
  {
   "cell_type": "code",
   "execution_count": 23,
   "id": "823f75f1",
   "metadata": {},
   "outputs": [
    {
     "data": {
      "text/plain": [
       "array([0.78795455, 0.78590909, 0.78863636, 0.78477273, 0.79181818])"
      ]
     },
     "execution_count": 23,
     "metadata": {},
     "output_type": "execute_result"
    }
   ],
   "source": [
    "# Cross validation score (Logistic Regression)\n",
    "score = cross_val_score(LogReg, features, target, cv = 5)\n",
    "score"
   ]
  },
  {
   "cell_type": "markdown",
   "id": "97dd6a03",
   "metadata": {},
   "source": [
    "### Saving Trained LR model"
   ]
  },
  {
   "cell_type": "code",
   "execution_count": 24,
   "id": "3f3aaa56",
   "metadata": {},
   "outputs": [],
   "source": [
    "import pickle\n",
    "# Dump the trained Logistic Regression classifier with Pickle\n",
    "LR_pkl_filename = '../models/CR(LogisticRegression).pkl'\n",
    "# Open the file to save as pkl file\n",
    "LR_Model_pkl = open(LR_pkl_filename, 'wb')\n",
    "pickle.dump(LogReg, LR_Model_pkl)\n",
    "# Close the pickle instances\n",
    "# LR_Model_pkl.close()"
   ]
  },
  {
   "cell_type": "markdown",
   "id": "36f53816",
   "metadata": {},
   "source": [
    "# Random Forest"
   ]
  },
  {
   "cell_type": "code",
   "execution_count": 25,
   "id": "ed463cb8",
   "metadata": {},
   "outputs": [
    {
     "name": "stdout",
     "output_type": "stream",
     "text": [
      "RF's Accuracy is:  83.3409090909091\n",
      "              precision    recall  f1-score   support\n",
      "\n",
      "       apple       1.00      0.99      0.99       219\n",
      "      banana       1.00      1.00      1.00       175\n",
      "   blackgram       0.99      0.99      0.99       199\n",
      "    chickpea       1.00      1.00      1.00       194\n",
      "     coconut       0.98      0.98      0.98       214\n",
      "      coffee       1.00      1.00      1.00       182\n",
      "      cotton       1.00      1.00      1.00       186\n",
      "      grapes       0.99      0.99      0.99       183\n",
      "        jute       0.77      0.76      0.76       225\n",
      " kidneybeans       0.47      0.51      0.49       196\n",
      "      lentil       0.42      0.51      0.46       171\n",
      "       maize       1.00      1.00      1.00       229\n",
      "       mango       0.98      0.97      0.98       197\n",
      "   mothbeans       0.59      0.53      0.56       189\n",
      "    mungbean       0.61      0.66      0.64       210\n",
      "   muskmelon       0.51      0.55      0.53       212\n",
      "      orange       1.00      1.00      1.00       223\n",
      "      papaya       1.00      1.00      1.00       188\n",
      "  pigeonpeas       0.91      0.66      0.76       200\n",
      " pomegranate       1.00      1.00      1.00       209\n",
      "        rice       0.73      0.74      0.74       200\n",
      "  watermelon       0.48      0.44      0.46       199\n",
      "\n",
      "    accuracy                           0.83      4400\n",
      "   macro avg       0.84      0.83      0.83      4400\n",
      "weighted avg       0.84      0.83      0.83      4400\n",
      "\n"
     ]
    }
   ],
   "source": [
    "from sklearn.ensemble import RandomForestClassifier\n",
    "\n",
    "RF = RandomForestClassifier(n_estimators = 20, random_state = 0)\n",
    "RF.fit(Xtrain, Ytrain)\n",
    "\n",
    "predicted_values = RF.predict(Xtest)\n",
    "\n",
    "x = metrics.accuracy_score(Ytest, predicted_values)\n",
    "acc.append(x)\n",
    "model.append('RF')\n",
    "print(\"RF's Accuracy is: \", x * 100)\n",
    "\n",
    "print(classification_report(Ytest, predicted_values))"
   ]
  },
  {
   "cell_type": "code",
   "execution_count": 26,
   "id": "377a6046",
   "metadata": {},
   "outputs": [
    {
     "data": {
      "text/plain": [
       "array([0.83227273, 0.82977273, 0.81863636, 0.82431818, 0.82636364])"
      ]
     },
     "execution_count": 26,
     "metadata": {},
     "output_type": "execute_result"
    }
   ],
   "source": [
    "# Cross validation score (Random Forest)\n",
    "score = cross_val_score(RF, features, target, cv = 5)\n",
    "score"
   ]
  },
  {
   "cell_type": "markdown",
   "id": "a0bae5e9",
   "metadata": {},
   "source": [
    "### Saving trained Random Forest model"
   ]
  },
  {
   "cell_type": "code",
   "execution_count": 27,
   "id": "546328c9",
   "metadata": {},
   "outputs": [],
   "source": [
    "import pickle\n",
    "# Dump the trained Random Forest classifier with Pickle\n",
    "RF_pkl_filename = '../models/CR(RandomForest).pkl'\n",
    "# Open the file to save as pkl file\n",
    "RF_Model_pkl = open(RF_pkl_filename, 'wb')\n",
    "pickle.dump(RF, RF_Model_pkl)\n",
    "# Close the pickle instances\n",
    "# RF_Model_pkl.close()"
   ]
  },
  {
   "cell_type": "markdown",
   "id": "f269473a",
   "metadata": {},
   "source": [
    "# XGBoost"
   ]
  },
  {
   "cell_type": "code",
   "execution_count": 28,
   "id": "456ad99e",
   "metadata": {},
   "outputs": [],
   "source": [
    "# pip install xgboost"
   ]
  },
  {
   "cell_type": "code",
   "execution_count": 30,
   "id": "0e78d85a",
   "metadata": {},
   "outputs": [
    {
     "name": "stdout",
     "output_type": "stream",
     "text": [
      "XGBoost's Accuracy is:  82.45454545454545\n",
      "              precision    recall  f1-score   support\n",
      "\n",
      "       apple       0.99      0.98      0.98       219\n",
      "      banana       1.00      1.00      1.00       175\n",
      "   blackgram       0.99      1.00      0.99       199\n",
      "    chickpea       1.00      1.00      1.00       194\n",
      "     coconut       0.96      0.98      0.97       214\n",
      "      coffee       1.00      1.00      1.00       182\n",
      "      cotton       1.00      1.00      1.00       186\n",
      "      grapes       0.97      0.99      0.98       183\n",
      "        jute       0.77      0.72      0.74       225\n",
      " kidneybeans       0.47      0.42      0.45       196\n",
      "      lentil       0.40      0.51      0.45       171\n",
      "       maize       1.00      1.00      1.00       229\n",
      "       mango       0.98      0.96      0.97       197\n",
      "   mothbeans       0.60      0.55      0.57       189\n",
      "    mungbean       0.62      0.67      0.64       210\n",
      "   muskmelon       0.47      0.42      0.44       212\n",
      "      orange       1.00      1.00      1.00       223\n",
      "      papaya       1.00      1.00      1.00       188\n",
      "  pigeonpeas       0.81      0.67      0.73       200\n",
      " pomegranate       1.00      1.00      1.00       209\n",
      "        rice       0.71      0.76      0.73       200\n",
      "  watermelon       0.44      0.49      0.47       199\n",
      "\n",
      "    accuracy                           0.82      4400\n",
      "   macro avg       0.83      0.82      0.82      4400\n",
      "weighted avg       0.83      0.82      0.83      4400\n",
      "\n"
     ]
    }
   ],
   "source": [
    "import xgboost as xgb\n",
    "from sklearn.preprocessing import LabelEncoder\n",
    "\n",
    "# encode class labels as integers\n",
    "le = LabelEncoder()\n",
    "Ytrain_int = le.fit_transform(Ytrain)\n",
    "Ytest_int = le.transform(Ytest)\n",
    "\n",
    "XB = xgb.XGBClassifier()\n",
    "XB.fit(Xtrain, Ytrain_int)\n",
    "\n",
    "# Make predictions on test data\n",
    "predicted_values_int = XB.predict(Xtest)\n",
    "\n",
    "# Convert integer predictions back to string labels\n",
    "predicted_values = le.inverse_transform(predicted_values_int)\n",
    "\n",
    "x = metrics.accuracy_score(Ytest, predicted_values)\n",
    "acc.append(x)\n",
    "model.append('XGBoost')\n",
    "print(\"XGBoost's Accuracy is: \", x * 100)\n",
    "\n",
    "print(classification_report(Ytest, predicted_values))"
   ]
  },
  {
   "cell_type": "markdown",
   "id": "77d9baec",
   "metadata": {},
   "source": [
    "### Saving trained XGBoost model"
   ]
  },
  {
   "cell_type": "code",
   "execution_count": 36,
   "id": "4ab8188b",
   "metadata": {},
   "outputs": [],
   "source": [
    "import pickle\n",
    "# Dump the trained Random Forest classifier with Pickle\n",
    "XB_pkl_filename = '../models/CR(XGBoost).pkl'\n",
    "# Open the file to save as pkl file\n",
    "XB_Model_pkl = open(XB_pkl_filename, 'wb')\n",
    "pickle.dump(XB, XB_Model_pkl)\n",
    "# Close the pickle instances\n",
    "XB_Model_pkl.close()"
   ]
  },
  {
   "cell_type": "markdown",
   "id": "f217bdb1",
   "metadata": {},
   "source": [
    "# Accuracy Comparision"
   ]
  },
  {
   "cell_type": "code",
   "execution_count": 31,
   "id": "2a767747",
   "metadata": {},
   "outputs": [
    {
     "data": {
      "text/plain": [
       "<AxesSubplot: title={'center': 'Accuracy Comparison'}, xlabel='Accuracy', ylabel='Algorithm'>"
      ]
     },
     "execution_count": 31,
     "metadata": {},
     "output_type": "execute_result"
    },
    {
     "data": {
      "image/png": "[encoded data removed]",
      "text/plain": [
       "<Figure size 1000x500 with 1 Axes>"
      ]
     },
     "metadata": {},
     "output_type": "display_data"
    }
   ],
   "source": [
    "plt.figure(figsize = [10, 5], dpi = 100)\n",
    "plt.title('Accuracy Comparison')\n",
    "plt.xlabel('Accuracy')\n",
    "plt.ylabel('Algorithm')\n",
    "sns.barplot(x = acc, y = model, palette = 'dark')"
   ]
  },
  {
   "cell_type": "code",
   "execution_count": 32,
   "id": "2a7368e3",
   "metadata": {},
   "outputs": [
    {
     "name": "stdout",
     "output_type": "stream",
     "text": [
      "Decision Tree --> 0.7759090909090909\n",
      "Naive Bayes --> 0.8206818181818182\n",
      "SVM --> 0.8238636363636364\n",
      "Logistic Regression --> 0.7961363636363636\n",
      "RF --> 0.8334090909090909\n",
      "XGBoost --> 0.8245454545454546\n"
     ]
    }
   ],
   "source": [
    "accuracy_models = dict(zip(model, acc))\n",
    "for k, v in accuracy_models.items():\n",
    "    print (k, '-->', v)"
   ]
  },
  {
   "cell_type": "markdown",
   "id": "d06dab1c",
   "metadata": {},
   "source": [
    "### Making a Prediction"
   ]
  },
  {
   "cell_type": "code",
   "execution_count": 33,
   "id": "35fefd93",
   "metadata": {},
   "outputs": [
    {
     "name": "stdout",
     "output_type": "stream",
     "text": [
      "['coffee']\n"
     ]
    }
   ],
   "source": [
    "# Will be using RF\n",
    "data = np.array([[104,18, 30, 23.603016, 60.3, 6.7, 140.91]])\n",
    "prediction = RF.predict(data)\n",
    "print(prediction)"
   ]
  },
  {
   "cell_type": "code",
   "execution_count": 34,
   "id": "6224be35",
   "metadata": {},
   "outputs": [
    {
     "name": "stdout",
     "output_type": "stream",
     "text": [
      "['banana']\n"
     ]
    }
   ],
   "source": [
    "data = np.array([[83, 45, 60, 28, 70.3, 7.0, 150.9]])\n",
    "prediction = RF.predict(data)\n",
    "print(prediction)"
   ]
  }
 ],
 "metadata": {
  "kernelspec": {
   "display_name": "Python 3",
   "language": "python",
   "name": "python3"
  },
  "language_info": {
   "codemirror_mode": {
    "name": "ipython",
    "version": 3
   },
   "file_extension": ".py",
   "mimetype": "text/x-python",
   "name": "python",
   "nbconvert_exporter": "python",
   "pygments_lexer": "ipython3",
   "version": "3.8.10"
  },
  "vscode": {
   "interpreter": {
    "hash": "b7c9782be52bf9eae117f2b5020b8dbad6760ab9ba18b38ae581dcc4663e7b66"
   }
  }
 },
 "nbformat": 4,
 "nbformat_minor": 5
}
