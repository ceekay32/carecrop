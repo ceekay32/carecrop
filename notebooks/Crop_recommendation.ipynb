{
 "cells": [
  {
   "cell_type": "code",
   "execution_count": 1,
   "id": "3f48a528",
   "metadata": {},
   "outputs": [
    {
     "name": "stdout",
     "output_type": "stream",
     "text": [
      "Requirement already satisfied: scikit-learn in c:\\users\\utsav\\anaconda3\\lib\\site-packages (1.2.1)\n",
      "Requirement already satisfied: numpy>=1.17.3 in c:\\users\\utsav\\appdata\\roaming\\python\\python39\\site-packages (from scikit-learn) (1.23.3)\n",
      "Requirement already satisfied: threadpoolctl>=2.0.0 in c:\\users\\utsav\\anaconda3\\lib\\site-packages (from scikit-learn) (3.1.0)\n",
      "Requirement already satisfied: joblib>=1.1.1 in c:\\users\\utsav\\anaconda3\\lib\\site-packages (from scikit-learn) (1.2.0)\n",
      "Requirement already satisfied: scipy>=1.3.2 in c:\\users\\utsav\\anaconda3\\lib\\site-packages (from scikit-learn) (1.10.0)\n",
      "Note: you may need to restart the kernel to use updated packages.\n"
     ]
    },
    {
     "name": "stderr",
     "output_type": "stream",
     "text": [
      "WARNING: Ignoring invalid distribution -otebook (c:\\users\\utsav\\appdata\\roaming\\python\\python39\\site-packages)\n",
      "WARNING: Ignoring invalid distribution -otebook (c:\\users\\utsav\\appdata\\roaming\\python\\python39\\site-packages)\n",
      "WARNING: Ignoring invalid distribution -otebook (c:\\users\\utsav\\appdata\\roaming\\python\\python39\\site-packages)\n",
      "WARNING: Ignoring invalid distribution -otebook (c:\\users\\utsav\\appdata\\roaming\\python\\python39\\site-packages)\n",
      "WARNING: Ignoring invalid distribution -otebook (c:\\users\\utsav\\appdata\\roaming\\python\\python39\\site-packages)\n",
      "WARNING: Ignoring invalid distribution -otebook (c:\\users\\utsav\\appdata\\roaming\\python\\python39\\site-packages)\n"
     ]
    }
   ],
   "source": [
    "pip install scikit-learn"
   ]
  },
  {
   "cell_type": "code",
   "execution_count": 2,
   "id": "8da191bd",
   "metadata": {},
   "outputs": [],
   "source": [
    "# Importing libraries\n",
    "from __future__ import print_function\n",
    "import pandas as pd\n",
    "import numpy as np\n",
    "import matplotlib.pyplot as plt\n",
    "import seaborn as sns\n",
    "from sklearn.metrics import classification_report\n",
    "from sklearn import metrics\n",
    "from sklearn import tree\n",
    "import warnings\n",
    "warnings.filterwarnings('ignore')"
   ]
  },
  {
   "cell_type": "code",
   "execution_count": 3,
   "id": "84cd5d3c",
   "metadata": {},
   "outputs": [
    {
     "data": {
      "text/html": [
       "<div>\n",
       "<style scoped>\n",
       "    .dataframe tbody tr th:only-of-type {\n",
       "        vertical-align: middle;\n",
       "    }\n",
       "\n",
       "    .dataframe tbody tr th {\n",
       "        vertical-align: top;\n",
       "    }\n",
       "\n",
       "    .dataframe thead th {\n",
       "        text-align: right;\n",
       "    }\n",
       "</style>\n",
       "<table border=\"1\" class=\"dataframe\">\n",
       "  <thead>\n",
       "    <tr style=\"text-align: right;\">\n",
       "      <th></th>\n",
       "      <th>N</th>\n",
       "      <th>P</th>\n",
       "      <th>K</th>\n",
       "      <th>Ph</th>\n",
       "      <th>Temperature(C)</th>\n",
       "      <th>Rainfall(cm)</th>\n",
       "      <th>Humidity</th>\n",
       "      <th>Crop</th>\n",
       "    </tr>\n",
       "  </thead>\n",
       "  <tbody>\n",
       "    <tr>\n",
       "      <th>0</th>\n",
       "      <td>25</td>\n",
       "      <td>20</td>\n",
       "      <td>34</td>\n",
       "      <td>7.2</td>\n",
       "      <td>33</td>\n",
       "      <td>169</td>\n",
       "      <td>74</td>\n",
       "      <td>coconut</td>\n",
       "    </tr>\n",
       "    <tr>\n",
       "      <th>1</th>\n",
       "      <td>28</td>\n",
       "      <td>63</td>\n",
       "      <td>20</td>\n",
       "      <td>6.8</td>\n",
       "      <td>21</td>\n",
       "      <td>56</td>\n",
       "      <td>65</td>\n",
       "      <td>lentil</td>\n",
       "    </tr>\n",
       "    <tr>\n",
       "      <th>2</th>\n",
       "      <td>31</td>\n",
       "      <td>8</td>\n",
       "      <td>33</td>\n",
       "      <td>7.4</td>\n",
       "      <td>29</td>\n",
       "      <td>177</td>\n",
       "      <td>77</td>\n",
       "      <td>coconut</td>\n",
       "    </tr>\n",
       "    <tr>\n",
       "      <th>3</th>\n",
       "      <td>12</td>\n",
       "      <td>38</td>\n",
       "      <td>26</td>\n",
       "      <td>6.0</td>\n",
       "      <td>35</td>\n",
       "      <td>121</td>\n",
       "      <td>80</td>\n",
       "      <td>mango</td>\n",
       "    </tr>\n",
       "    <tr>\n",
       "      <th>4</th>\n",
       "      <td>79</td>\n",
       "      <td>46</td>\n",
       "      <td>39</td>\n",
       "      <td>5.7</td>\n",
       "      <td>28</td>\n",
       "      <td>133</td>\n",
       "      <td>71</td>\n",
       "      <td>rice</td>\n",
       "    </tr>\n",
       "  </tbody>\n",
       "</table>\n",
       "</div>"
      ],
      "text/plain": [
       "    N   P   K   Ph  Temperature(C)  Rainfall(cm)  Humidity     Crop\n",
       "0  25  20  34  7.2              33           169        74  coconut\n",
       "1  28  63  20  6.8              21            56        65   lentil\n",
       "2  31   8  33  7.4              29           177        77  coconut\n",
       "3  12  38  26  6.0              35           121        80    mango\n",
       "4  79  46  39  5.7              28           133        71     rice"
      ]
     },
     "execution_count": 3,
     "metadata": {},
     "output_type": "execute_result"
    }
   ],
   "source": [
    "df=pd.read_csv('../dataset/crop_data.csv')\n",
    "df.head()"
   ]
  },
  {
   "cell_type": "code",
   "execution_count": 4,
   "id": "5bfacdce",
   "metadata": {},
   "outputs": [
    {
     "data": {
      "text/plain": [
       "Index(['N', 'P', 'K', 'Ph', 'Temperature(C)', 'Rainfall(cm)', 'Humidity',\n",
       "       'Crop'],\n",
       "      dtype='object')"
      ]
     },
     "execution_count": 4,
     "metadata": {},
     "output_type": "execute_result"
    }
   ],
   "source": [
    "df.columns"
   ]
  },
  {
   "cell_type": "code",
   "execution_count": 5,
   "id": "58089526",
   "metadata": {},
   "outputs": [
    {
     "data": {
      "text/plain": [
       "array(['coconut', 'lentil', 'mango', 'rice', 'pigeonpeas', 'apple',\n",
       "       'pomegranate', 'maize', 'orange', 'papaya', 'blackgram',\n",
       "       'mungbean', 'mothbeans', 'banana', 'cotton', 'chickpea', 'grapes',\n",
       "       'muskmelon', 'kidneybeans', 'watermelon'], dtype=object)"
      ]
     },
     "execution_count": 5,
     "metadata": {},
     "output_type": "execute_result"
    }
   ],
   "source": [
    "df['Crop'].unique()"
   ]
  },
  {
   "cell_type": "code",
   "execution_count": 6,
   "id": "c546f209",
   "metadata": {},
   "outputs": [
    {
     "data": {
      "text/plain": [
       "N                   int64\n",
       "P                   int64\n",
       "K                   int64\n",
       "Ph                float64\n",
       "Temperature(C)      int64\n",
       "Rainfall(cm)        int64\n",
       "Humidity            int64\n",
       "Crop               object\n",
       "dtype: object"
      ]
     },
     "execution_count": 6,
     "metadata": {},
     "output_type": "execute_result"
    }
   ],
   "source": [
    "df.dtypes"
   ]
  },
  {
   "cell_type": "code",
   "execution_count": 7,
   "id": "3f098b42",
   "metadata": {},
   "outputs": [
    {
     "data": {
      "text/plain": [
       "coconut        1000\n",
       "lentil         1000\n",
       "kidneybeans    1000\n",
       "muskmelon      1000\n",
       "grapes         1000\n",
       "chickpea       1000\n",
       "cotton         1000\n",
       "banana         1000\n",
       "mothbeans      1000\n",
       "mungbean       1000\n",
       "blackgram      1000\n",
       "papaya         1000\n",
       "orange         1000\n",
       "maize          1000\n",
       "pomegranate    1000\n",
       "apple          1000\n",
       "pigeonpeas     1000\n",
       "rice           1000\n",
       "mango          1000\n",
       "watermelon     1000\n",
       "Name: Crop, dtype: int64"
      ]
     },
     "execution_count": 7,
     "metadata": {},
     "output_type": "execute_result"
    }
   ],
   "source": [
    "df['Crop'].value_counts()"
   ]
  },
  {
   "cell_type": "code",
   "execution_count": 8,
   "id": "f4a46c71",
   "metadata": {},
   "outputs": [
    {
     "data": {
      "text/plain": [
       "<AxesSubplot: >"
      ]
     },
     "execution_count": 8,
     "metadata": {},
     "output_type": "execute_result"
    },
    {
     "data": {
      "image/png": "[encoded data removed]",
      "text/plain": [
       "<Figure size 640x480 with 2 Axes>"
      ]
     },
     "metadata": {},
     "output_type": "display_data"
    }
   ],
   "source": [
    "sns.heatmap(df.corr(),annot=True)"
   ]
  },
  {
   "cell_type": "markdown",
   "id": "116fe149",
   "metadata": {},
   "source": [
    "### Separating Features and Target labels"
   ]
  },
  {
   "cell_type": "code",
   "execution_count": 9,
   "id": "39543d4d",
   "metadata": {},
   "outputs": [],
   "source": [
    "features = df[['N', 'P', 'K', 'Ph', 'Temperature(C)', 'Rainfall(cm)', 'Humidity']]\n",
    "target = df['Crop']\n",
    "\n",
    "labels = df['Crop']"
   ]
  },
  {
   "cell_type": "code",
   "execution_count": 10,
   "id": "34bac88d",
   "metadata": {},
   "outputs": [],
   "source": [
    "# Intializing empty lists to append all models names and corresponding name\n",
    "acc=[]\n",
    "model=[]"
   ]
  },
  {
   "cell_type": "code",
   "execution_count": 11,
   "id": "11a21f07",
   "metadata": {},
   "outputs": [],
   "source": [
    "# Splitting into traing and test data set\n",
    "from sklearn.model_selection import train_test_split\n",
    "Xtrain, Xtest, Ytrain, Ytest = train_test_split(features,target,test_size = 0.2,random_state =2)"
   ]
  },
  {
   "cell_type": "markdown",
   "id": "5681be20",
   "metadata": {},
   "source": [
    "# DECISION TREE"
   ]
  },
  {
   "cell_type": "code",
   "execution_count": 12,
   "id": "d6a31fd8",
   "metadata": {},
   "outputs": [
    {
     "name": "stdout",
     "output_type": "stream",
     "text": [
      "DecisionTrees's Accuracy is:  72.625\n",
      "              precision    recall  f1-score   support\n",
      "\n",
      "       apple       0.91      1.00      0.95       211\n",
      "      banana       1.00      0.98      0.99       190\n",
      "   blackgram       1.00      0.45      0.62       191\n",
      "    chickpea       1.00      1.00      1.00       198\n",
      "     coconut       0.71      1.00      0.83       215\n",
      "      cotton       1.00      1.00      1.00       206\n",
      "      grapes       1.00      0.90      0.95       201\n",
      " kidneybeans       0.23      1.00      0.38       191\n",
      "      lentil       0.00      0.00      0.00       209\n",
      "       maize       1.00      1.00      1.00       189\n",
      "       mango       1.00      0.54      0.70       194\n",
      "   mothbeans       0.00      0.00      0.00       202\n",
      "    mungbean       0.52      0.74      0.61       220\n",
      "   muskmelon       0.49      0.73      0.59       187\n",
      "      orange       1.00      1.00      1.00       212\n",
      "      papaya       0.94      1.00      0.97       190\n",
      "  pigeonpeas       0.00      0.00      0.00       206\n",
      " pomegranate       1.00      1.00      1.00       216\n",
      "        rice       0.98      0.95      0.96       177\n",
      "  watermelon       0.51      0.28      0.36       195\n",
      "\n",
      "    accuracy                           0.73      4000\n",
      "   macro avg       0.72      0.73      0.70      4000\n",
      "weighted avg       0.71      0.73      0.69      4000\n",
      "\n"
     ]
    }
   ],
   "source": [
    "from sklearn.tree import DecisionTreeClassifier\n",
    "\n",
    "DecisionTree = DecisionTreeClassifier(criterion=\"entropy\",random_state=2,max_depth=5)\n",
    "\n",
    "DecisionTree.fit(Xtrain,Ytrain)\n",
    "\n",
    "predicted_values = DecisionTree.predict(Xtest)\n",
    "x = metrics.accuracy_score(Ytest, predicted_values)\n",
    "acc.append(x)\n",
    "model.append('Decision Tree')\n",
    "print(\"DecisionTrees's Accuracy is: \", x*100)\n",
    "\n",
    "print(classification_report(Ytest,predicted_values))"
   ]
  },
  {
   "cell_type": "code",
   "execution_count": 13,
   "id": "c6a8e25d",
   "metadata": {},
   "outputs": [],
   "source": [
    "from sklearn.model_selection import cross_val_score"
   ]
  },
  {
   "cell_type": "code",
   "execution_count": 14,
   "id": "7a445089",
   "metadata": {},
   "outputs": [
    {
     "data": {
      "text/plain": [
       "array([0.7365 , 0.73075, 0.73225, 0.726  , 0.7325 ])"
      ]
     },
     "execution_count": 14,
     "metadata": {},
     "output_type": "execute_result"
    }
   ],
   "source": [
    "# Cross validation score (Decision Tree)\n",
    "score = cross_val_score(DecisionTree, features, target, cv=5)\n",
    "score"
   ]
  },
  {
   "cell_type": "markdown",
   "id": "aa713377",
   "metadata": {},
   "source": [
    "### Saving Trained Decision Tree model"
   ]
  },
  {
   "cell_type": "code",
   "execution_count": 15,
   "id": "deba1cb5",
   "metadata": {},
   "outputs": [],
   "source": [
    "import pickle\n",
    "# Dump the trained Decision Tree classifier with Pickle\n",
    "DT_pkl_filename = '../models/DecisionTree.pkl'\n",
    "# Open the file to save as pkl file\n",
    "DT_Model_pkl = open(DT_pkl_filename, 'wb')\n",
    "pickle.dump(DecisionTree, DT_Model_pkl)\n",
    "# Close the pickle instances\n",
    "DT_Model_pkl.close()"
   ]
  },
  {
   "cell_type": "markdown",
   "id": "7bc21ec6",
   "metadata": {},
   "source": [
    "# Gaussian Naive Bayes"
   ]
  },
  {
   "cell_type": "code",
   "execution_count": 16,
   "id": "a1b5d43d",
   "metadata": {},
   "outputs": [
    {
     "name": "stdout",
     "output_type": "stream",
     "text": [
      "Naive Bayes's Accuracy is:  0.773\n",
      "              precision    recall  f1-score   support\n",
      "\n",
      "       apple       0.98      0.98      0.98       211\n",
      "      banana       1.00      1.00      1.00       190\n",
      "   blackgram       0.55      0.65      0.60       191\n",
      "    chickpea       1.00      1.00      1.00       198\n",
      "     coconut       0.77      0.81      0.79       215\n",
      "      cotton       1.00      1.00      1.00       206\n",
      "      grapes       0.98      0.98      0.98       201\n",
      " kidneybeans       0.37      0.53      0.43       191\n",
      "      lentil       0.42      0.25      0.32       209\n",
      "       maize       1.00      1.00      1.00       189\n",
      "       mango       0.78      0.73      0.75       194\n",
      "   mothbeans       0.60      0.40      0.48       202\n",
      "    mungbean       0.57      0.66      0.61       220\n",
      "   muskmelon       0.47      0.50      0.48       187\n",
      "      orange       1.00      1.00      1.00       212\n",
      "      papaya       0.99      1.00      0.99       190\n",
      "  pigeonpeas       0.54      0.53      0.54       206\n",
      " pomegranate       1.00      1.00      1.00       216\n",
      "        rice       1.00      0.99      0.99       177\n",
      "  watermelon       0.49      0.46      0.47       195\n",
      "\n",
      "    accuracy                           0.77      4000\n",
      "   macro avg       0.78      0.77      0.77      4000\n",
      "weighted avg       0.78      0.77      0.77      4000\n",
      "\n"
     ]
    }
   ],
   "source": [
    "from sklearn.naive_bayes import GaussianNB\n",
    "\n",
    "NaiveBayes = GaussianNB()\n",
    "\n",
    "NaiveBayes.fit(Xtrain,Ytrain)\n",
    "\n",
    "predicted_values = NaiveBayes.predict(Xtest)\n",
    "x = metrics.accuracy_score(Ytest, predicted_values)\n",
    "acc.append(x)\n",
    "model.append('Naive Bayes')\n",
    "print(\"Naive Bayes's Accuracy is: \", x)\n",
    "\n",
    "print(classification_report(Ytest,predicted_values))"
   ]
  },
  {
   "cell_type": "code",
   "execution_count": 17,
   "id": "9cdf7f9f",
   "metadata": {},
   "outputs": [
    {
     "data": {
      "text/plain": [
       "array([0.78   , 0.775  , 0.77225, 0.766  , 0.779  ])"
      ]
     },
     "execution_count": 17,
     "metadata": {},
     "output_type": "execute_result"
    }
   ],
   "source": [
    "# Cross validation score (Gaussian Naive Bayes)\n",
    "score = cross_val_score(NaiveBayes, features, target, cv=5)\n",
    "score"
   ]
  },
  {
   "cell_type": "markdown",
   "id": "292e99ec",
   "metadata": {},
   "source": [
    "### Saving trained Gaussian Naive Bayes"
   ]
  },
  {
   "cell_type": "code",
   "execution_count": 18,
   "id": "3c222b41",
   "metadata": {},
   "outputs": [],
   "source": [
    "import pickle\n",
    "# Dump the trained Naive Bayes classifier with Pickle\n",
    "NB_pkl_filename = '../models/NaiveBayes.pkl'\n",
    "# Open the file to save as pkl file\n",
    "NB_Model_pkl = open(NB_pkl_filename, 'wb')\n",
    "pickle.dump(NaiveBayes, NB_Model_pkl)\n",
    "# Close the pickle instances\n",
    "NB_Model_pkl.close()"
   ]
  },
  {
   "cell_type": "markdown",
   "id": "33c6bb49",
   "metadata": {},
   "source": [
    "# Support Vector Machine (SVM)"
   ]
  },
  {
   "cell_type": "code",
   "execution_count": 19,
   "id": "e8b90f33",
   "metadata": {},
   "outputs": [
    {
     "name": "stdout",
     "output_type": "stream",
     "text": [
      "SVM's Accuracy is:  0.773\n",
      "              precision    recall  f1-score   support\n",
      "\n",
      "       apple       0.98      0.99      0.98       211\n",
      "      banana       1.00      1.00      1.00       190\n",
      "   blackgram       0.59      0.66      0.62       191\n",
      "    chickpea       1.00      1.00      1.00       198\n",
      "     coconut       0.76      0.79      0.77       215\n",
      "      cotton       1.00      1.00      1.00       206\n",
      "      grapes       0.98      0.98      0.98       201\n",
      " kidneybeans       0.34      0.65      0.45       191\n",
      "      lentil       0.39      0.16      0.22       209\n",
      "       maize       1.00      1.00      1.00       189\n",
      "       mango       0.76      0.72      0.74       194\n",
      "   mothbeans       0.77      0.32      0.45       202\n",
      "    mungbean       0.57      0.79      0.66       220\n",
      "   muskmelon       0.46      0.51      0.48       187\n",
      "      orange       1.00      1.00      1.00       212\n",
      "      papaya       0.99      0.99      0.99       190\n",
      "  pigeonpeas       0.63      0.50      0.55       206\n",
      " pomegranate       1.00      1.00      1.00       216\n",
      "        rice       0.99      0.99      0.99       177\n",
      "  watermelon       0.47      0.43      0.45       195\n",
      "\n",
      "    accuracy                           0.77      4000\n",
      "   macro avg       0.78      0.77      0.77      4000\n",
      "weighted avg       0.78      0.77      0.77      4000\n",
      "\n"
     ]
    }
   ],
   "source": [
    "from sklearn.svm import SVC\n",
    "# data normalization with sklearn\n",
    "from sklearn.preprocessing import MinMaxScaler\n",
    "# fit scaler on training data\n",
    "norm = MinMaxScaler().fit(Xtrain)\n",
    "X_train_norm = norm.transform(Xtrain)\n",
    "# transform testing dataabs\n",
    "X_test_norm = norm.transform(Xtest)\n",
    "SVM = SVC(kernel='poly', degree=3, C=1)\n",
    "SVM.fit(X_train_norm,Ytrain)\n",
    "predicted_values = SVM.predict(X_test_norm)\n",
    "x = metrics.accuracy_score(Ytest, predicted_values)\n",
    "acc.append(x)\n",
    "model.append('SVM')\n",
    "print(\"SVM's Accuracy is: \", x)\n",
    "\n",
    "print(classification_report(Ytest,predicted_values))"
   ]
  },
  {
   "cell_type": "code",
   "execution_count": 20,
   "id": "5bdd9443",
   "metadata": {},
   "outputs": [
    {
     "data": {
      "text/plain": [
       "array([0.754 , 0.743 , 0.7425, 0.7415, 0.749 ])"
      ]
     },
     "execution_count": 20,
     "metadata": {},
     "output_type": "execute_result"
    }
   ],
   "source": [
    "# Cross validation score (SVM)\n",
    "score = cross_val_score(SVM, features, target, cv=5)\n",
    "score"
   ]
  },
  {
   "cell_type": "markdown",
   "id": "095163c7",
   "metadata": {},
   "source": [
    "### Saving trained SVM Model"
   ]
  },
  {
   "cell_type": "code",
   "execution_count": 21,
   "id": "56562dd6",
   "metadata": {},
   "outputs": [],
   "source": [
    "import pickle\n",
    "# Dump the trained SVM classifier with Pickle\n",
    "SVM_pkl_filename = '../models/SVM.pkl'\n",
    "# Open the file to save as pkl file\n",
    "SVM_Model_pkl = open(SVM_pkl_filename, 'wb')\n",
    "pickle.dump(SVM, SVM_Model_pkl)\n",
    "# Close the pickle instances\n",
    "SVM_Model_pkl.close()"
   ]
  },
  {
   "cell_type": "markdown",
   "id": "8b49b671",
   "metadata": {},
   "source": [
    "# Logistic Regression"
   ]
  },
  {
   "cell_type": "code",
   "execution_count": 22,
   "id": "c2ffc053",
   "metadata": {},
   "outputs": [
    {
     "name": "stdout",
     "output_type": "stream",
     "text": [
      "Logistic Regression's Accuracy is:  0.7195\n",
      "              precision    recall  f1-score   support\n",
      "\n",
      "       apple       0.97      0.95      0.96       211\n",
      "      banana       1.00      1.00      1.00       190\n",
      "   blackgram       0.45      0.63      0.53       191\n",
      "    chickpea       0.99      1.00      1.00       198\n",
      "     coconut       0.74      0.80      0.77       215\n",
      "      cotton       0.91      0.90      0.91       206\n",
      "      grapes       0.96      0.97      0.96       201\n",
      " kidneybeans       0.29      0.27      0.28       191\n",
      "      lentil       0.35      0.31      0.33       209\n",
      "       maize       0.87      0.88      0.88       189\n",
      "       mango       0.72      0.68      0.70       194\n",
      "   mothbeans       0.47      0.61      0.53       202\n",
      "    mungbean       0.43      0.24      0.30       220\n",
      "   muskmelon       0.48      0.55      0.51       187\n",
      "      orange       0.99      0.98      0.98       212\n",
      "      papaya       0.98      0.97      0.97       190\n",
      "  pigeonpeas       0.32      0.32      0.32       206\n",
      " pomegranate       0.99      1.00      0.99       216\n",
      "        rice       0.96      0.96      0.96       177\n",
      "  watermelon       0.49      0.41      0.45       195\n",
      "\n",
      "    accuracy                           0.72      4000\n",
      "   macro avg       0.72      0.72      0.72      4000\n",
      "weighted avg       0.72      0.72      0.72      4000\n",
      "\n"
     ]
    }
   ],
   "source": [
    "from sklearn.linear_model import LogisticRegression\n",
    "\n",
    "LogReg = LogisticRegression(random_state=2)\n",
    "\n",
    "LogReg.fit(Xtrain,Ytrain)\n",
    "\n",
    "predicted_values = LogReg.predict(Xtest)\n",
    "\n",
    "x = metrics.accuracy_score(Ytest, predicted_values)\n",
    "acc.append(x)\n",
    "model.append('Logistic Regression')\n",
    "print(\"Logistic Regression's Accuracy is: \", x)\n",
    "\n",
    "print(classification_report(Ytest,predicted_values))"
   ]
  },
  {
   "cell_type": "code",
   "execution_count": 23,
   "id": "823f75f1",
   "metadata": {},
   "outputs": [
    {
     "data": {
      "text/plain": [
       "array([0.7325 , 0.73425, 0.729  , 0.7255 , 0.7285 ])"
      ]
     },
     "execution_count": 23,
     "metadata": {},
     "output_type": "execute_result"
    }
   ],
   "source": [
    "# Cross validation score (Logistic Regression)\n",
    "score = cross_val_score(LogReg,features,target,cv=5)\n",
    "score"
   ]
  },
  {
   "cell_type": "markdown",
   "id": "97dd6a03",
   "metadata": {},
   "source": [
    "### Saving Trained LR model"
   ]
  },
  {
   "cell_type": "code",
   "execution_count": 24,
   "id": "3f3aaa56",
   "metadata": {},
   "outputs": [],
   "source": [
    "import pickle\n",
    "# Dump the trained Logistic Regression classifier with Pickle\n",
    "LR_pkl_filename = '../models/LogisticRegression.pkl'\n",
    "# Open the file to save as pkl file\n",
    "LR_Model_pkl = open(LR_pkl_filename, 'wb')\n",
    "pickle.dump(LogReg, LR_Model_pkl)\n",
    "# Close the pickle instances\n",
    "LR_Model_pkl.close()"
   ]
  },
  {
   "cell_type": "markdown",
   "id": "36f53816",
   "metadata": {},
   "source": [
    "# Random Forest"
   ]
  },
  {
   "cell_type": "code",
   "execution_count": 25,
   "id": "ed463cb8",
   "metadata": {},
   "outputs": [
    {
     "name": "stdout",
     "output_type": "stream",
     "text": [
      "RF's Accuracy is:  0.78\n",
      "              precision    recall  f1-score   support\n",
      "\n",
      "       apple       0.98      0.98      0.98       211\n",
      "      banana       1.00      1.00      1.00       190\n",
      "   blackgram       0.65      0.68      0.66       191\n",
      "    chickpea       1.00      1.00      1.00       198\n",
      "     coconut       0.77      0.89      0.82       215\n",
      "      cotton       1.00      1.00      1.00       206\n",
      "      grapes       0.98      0.98      0.98       201\n",
      " kidneybeans       0.35      0.48      0.40       191\n",
      "      lentil       0.39      0.42      0.40       209\n",
      "       maize       1.00      1.00      1.00       189\n",
      "       mango       0.85      0.70      0.77       194\n",
      "   mothbeans       0.54      0.43      0.48       202\n",
      "    mungbean       0.56      0.57      0.57       220\n",
      "   muskmelon       0.49      0.60      0.54       187\n",
      "      orange       1.00      1.00      1.00       212\n",
      "      papaya       0.99      1.00      1.00       190\n",
      "  pigeonpeas       0.67      0.49      0.57       206\n",
      " pomegranate       1.00      1.00      1.00       216\n",
      "        rice       1.00      0.99      1.00       177\n",
      "  watermelon       0.52      0.41      0.45       195\n",
      "\n",
      "    accuracy                           0.78      4000\n",
      "   macro avg       0.79      0.78      0.78      4000\n",
      "weighted avg       0.79      0.78      0.78      4000\n",
      "\n"
     ]
    }
   ],
   "source": [
    "from sklearn.ensemble import RandomForestClassifier\n",
    "\n",
    "RF = RandomForestClassifier(n_estimators=20, random_state=0)\n",
    "RF.fit(Xtrain,Ytrain)\n",
    "\n",
    "predicted_values = RF.predict(Xtest)\n",
    "\n",
    "x = metrics.accuracy_score(Ytest, predicted_values)\n",
    "acc.append(x)\n",
    "model.append('RF')\n",
    "print(\"RF's Accuracy is: \", x)\n",
    "\n",
    "print(classification_report(Ytest,predicted_values))"
   ]
  },
  {
   "cell_type": "code",
   "execution_count": 26,
   "id": "377a6046",
   "metadata": {},
   "outputs": [
    {
     "data": {
      "text/plain": [
       "array([0.794  , 0.77925, 0.7795 , 0.7775 , 0.79025])"
      ]
     },
     "execution_count": 26,
     "metadata": {},
     "output_type": "execute_result"
    }
   ],
   "source": [
    "# Cross validation score (Random Forest)\n",
    "score = cross_val_score(RF,features,target,cv=5)\n",
    "score"
   ]
  },
  {
   "cell_type": "markdown",
   "id": "a0bae5e9",
   "metadata": {},
   "source": [
    "### Saving trained Random Forest model"
   ]
  },
  {
   "cell_type": "code",
   "execution_count": 27,
   "id": "546328c9",
   "metadata": {},
   "outputs": [],
   "source": [
    "import pickle\n",
    "# Dump the trained Random Forest classifier with Pickle\n",
    "RF_pkl_filename = '../models/RandomForest.pkl'\n",
    "# Open the file to save as pkl file\n",
    "RF_Model_pkl = open(RF_pkl_filename, 'wb')\n",
    "pickle.dump(RF, RF_Model_pkl)\n",
    "# Close the pickle instances\n",
    "RF_Model_pkl.close()"
   ]
  },
  {
   "cell_type": "markdown",
   "id": "f269473a",
   "metadata": {},
   "source": [
    "# XGBoost"
   ]
  },
  {
   "cell_type": "code",
   "execution_count": 29,
   "id": "456ad99e",
   "metadata": {},
   "outputs": [
    {
     "name": "stdout",
     "output_type": "stream",
     "text": [
      "Collecting xgboost\n",
      "  Downloading xgboost-1.7.3-py3-none-win_amd64.whl (89.1 MB)\n",
      "     ---------------------------------------- 89.1/89.1 MB 2.4 MB/s eta 0:00:00\n",
      "Requirement already satisfied: scipy in c:\\users\\utsav\\anaconda3\\lib\\site-packages (from xgboost) (1.10.0)\n",
      "Requirement already satisfied: numpy in c:\\users\\utsav\\appdata\\roaming\\python\\python39\\site-packages (from xgboost) (1.23.3)\n",
      "Installing collected packages: xgboost\n",
      "Successfully installed xgboost-1.7.3\n",
      "Note: you may need to restart the kernel to use updated packages.\n"
     ]
    },
    {
     "name": "stderr",
     "output_type": "stream",
     "text": [
      "WARNING: Ignoring invalid distribution -otebook (c:\\users\\utsav\\appdata\\roaming\\python\\python39\\site-packages)\n",
      "WARNING: Ignoring invalid distribution -otebook (c:\\users\\utsav\\appdata\\roaming\\python\\python39\\site-packages)\n",
      "WARNING: Ignoring invalid distribution -otebook (c:\\users\\utsav\\appdata\\roaming\\python\\python39\\site-packages)\n",
      "WARNING: Ignoring invalid distribution -otebook (c:\\users\\utsav\\appdata\\roaming\\python\\python39\\site-packages)\n",
      "WARNING: Ignoring invalid distribution -otebook (c:\\users\\utsav\\appdata\\roaming\\python\\python39\\site-packages)\n",
      "WARNING: Ignoring invalid distribution -otebook (c:\\users\\utsav\\appdata\\roaming\\python\\python39\\site-packages)\n"
     ]
    }
   ],
   "source": [
    "pip install xgboost"
   ]
  },
  {
   "cell_type": "code",
   "execution_count": 30,
   "id": "0e78d85a",
   "metadata": {},
   "outputs": [
    {
     "ename": "ValueError",
     "evalue": "Invalid classes inferred from unique values of `y`.  Expected: [ 0  1  2  3  4  5  6  7  8  9 10 11 12 13 14 15 16 17 18 19], got ['apple' 'banana' 'blackgram' 'chickpea' 'coconut' 'cotton' 'grapes'\n 'kidneybeans' 'lentil' 'maize' 'mango' 'mothbeans' 'mungbean' 'muskmelon'\n 'orange' 'papaya' 'pigeonpeas' 'pomegranate' 'rice' 'watermelon']",
     "output_type": "error",
     "traceback": [
      "\u001b[1;31m---------------------------------------------------------------------------\u001b[0m",
      "\u001b[1;31mValueError\u001b[0m                                Traceback (most recent call last)",
      "Cell \u001b[1;32mIn [30], line 3\u001b[0m\n\u001b[0;32m      1\u001b[0m \u001b[38;5;28;01mimport\u001b[39;00m \u001b[38;5;21;01mxgboost\u001b[39;00m \u001b[38;5;28;01mas\u001b[39;00m \u001b[38;5;21;01mxgb\u001b[39;00m\n\u001b[0;32m      2\u001b[0m XB \u001b[38;5;241m=\u001b[39m xgb\u001b[38;5;241m.\u001b[39mXGBClassifier()\n\u001b[1;32m----> 3\u001b[0m \u001b[43mXB\u001b[49m\u001b[38;5;241;43m.\u001b[39;49m\u001b[43mfit\u001b[49m\u001b[43m(\u001b[49m\u001b[43mXtrain\u001b[49m\u001b[43m,\u001b[49m\u001b[43mYtrain\u001b[49m\u001b[43m)\u001b[49m\n\u001b[0;32m      5\u001b[0m predicted_values \u001b[38;5;241m=\u001b[39m XB\u001b[38;5;241m.\u001b[39mpredict(Xtest)\n\u001b[0;32m      7\u001b[0m x \u001b[38;5;241m=\u001b[39m metrics\u001b[38;5;241m.\u001b[39maccuracy_score(Ytest, predicted_values)\n",
      "File \u001b[1;32m~\\anaconda3\\lib\\site-packages\\xgboost\\core.py:620\u001b[0m, in \u001b[0;36mrequire_keyword_args.<locals>.throw_if.<locals>.inner_f\u001b[1;34m(*args, **kwargs)\u001b[0m\n\u001b[0;32m    618\u001b[0m \u001b[38;5;28;01mfor\u001b[39;00m k, arg \u001b[38;5;129;01min\u001b[39;00m \u001b[38;5;28mzip\u001b[39m(sig\u001b[38;5;241m.\u001b[39mparameters, args):\n\u001b[0;32m    619\u001b[0m     kwargs[k] \u001b[38;5;241m=\u001b[39m arg\n\u001b[1;32m--> 620\u001b[0m \u001b[38;5;28;01mreturn\u001b[39;00m func(\u001b[38;5;241m*\u001b[39m\u001b[38;5;241m*\u001b[39mkwargs)\n",
      "File \u001b[1;32m~\\anaconda3\\lib\\site-packages\\xgboost\\sklearn.py:1440\u001b[0m, in \u001b[0;36mXGBClassifier.fit\u001b[1;34m(self, X, y, sample_weight, base_margin, eval_set, eval_metric, early_stopping_rounds, verbose, xgb_model, sample_weight_eval_set, base_margin_eval_set, feature_weights, callbacks)\u001b[0m\n\u001b[0;32m   1435\u001b[0m     expected_classes \u001b[38;5;241m=\u001b[39m np\u001b[38;5;241m.\u001b[39marange(\u001b[38;5;28mself\u001b[39m\u001b[38;5;241m.\u001b[39mn_classes_)\n\u001b[0;32m   1436\u001b[0m \u001b[38;5;28;01mif\u001b[39;00m (\n\u001b[0;32m   1437\u001b[0m     \u001b[38;5;28mself\u001b[39m\u001b[38;5;241m.\u001b[39mclasses_\u001b[38;5;241m.\u001b[39mshape \u001b[38;5;241m!=\u001b[39m expected_classes\u001b[38;5;241m.\u001b[39mshape\n\u001b[0;32m   1438\u001b[0m     \u001b[38;5;129;01mor\u001b[39;00m \u001b[38;5;129;01mnot\u001b[39;00m (\u001b[38;5;28mself\u001b[39m\u001b[38;5;241m.\u001b[39mclasses_ \u001b[38;5;241m==\u001b[39m expected_classes)\u001b[38;5;241m.\u001b[39mall()\n\u001b[0;32m   1439\u001b[0m ):\n\u001b[1;32m-> 1440\u001b[0m     \u001b[38;5;28;01mraise\u001b[39;00m \u001b[38;5;167;01mValueError\u001b[39;00m(\n\u001b[0;32m   1441\u001b[0m         \u001b[38;5;124mf\u001b[39m\u001b[38;5;124m\"\u001b[39m\u001b[38;5;124mInvalid classes inferred from unique values of `y`.  \u001b[39m\u001b[38;5;124m\"\u001b[39m\n\u001b[0;32m   1442\u001b[0m         \u001b[38;5;124mf\u001b[39m\u001b[38;5;124m\"\u001b[39m\u001b[38;5;124mExpected: \u001b[39m\u001b[38;5;132;01m{\u001b[39;00mexpected_classes\u001b[38;5;132;01m}\u001b[39;00m\u001b[38;5;124m, got \u001b[39m\u001b[38;5;132;01m{\u001b[39;00m\u001b[38;5;28mself\u001b[39m\u001b[38;5;241m.\u001b[39mclasses_\u001b[38;5;132;01m}\u001b[39;00m\u001b[38;5;124m\"\u001b[39m\n\u001b[0;32m   1443\u001b[0m     )\n\u001b[0;32m   1445\u001b[0m params \u001b[38;5;241m=\u001b[39m \u001b[38;5;28mself\u001b[39m\u001b[38;5;241m.\u001b[39mget_xgb_params()\n\u001b[0;32m   1447\u001b[0m \u001b[38;5;28;01mif\u001b[39;00m callable(\u001b[38;5;28mself\u001b[39m\u001b[38;5;241m.\u001b[39mobjective):\n",
      "\u001b[1;31mValueError\u001b[0m: Invalid classes inferred from unique values of `y`.  Expected: [ 0  1  2  3  4  5  6  7  8  9 10 11 12 13 14 15 16 17 18 19], got ['apple' 'banana' 'blackgram' 'chickpea' 'coconut' 'cotton' 'grapes'\n 'kidneybeans' 'lentil' 'maize' 'mango' 'mothbeans' 'mungbean' 'muskmelon'\n 'orange' 'papaya' 'pigeonpeas' 'pomegranate' 'rice' 'watermelon']"
     ]
    }
   ],
   "source": [
    "import xgboost as xgb\n",
    "XB = xgb.XGBClassifier()\n",
    "XB.fit(Xtrain,Ytrain)\n",
    "\n",
    "predicted_values = XB.predict(Xtest)\n",
    "\n",
    "x = metrics.accuracy_score(Ytest, predicted_values)\n",
    "acc.append(x)\n",
    "model.append('XGBoost')\n",
    "print(\"XGBoost's Accuracy is: \", x)\n",
    "\n",
    "print(classification_report(Ytest,predicted_values))"
   ]
  },
  {
   "cell_type": "markdown",
   "id": "f217bdb1",
   "metadata": {},
   "source": [
    "# Accuracy Comparision"
   ]
  },
  {
   "cell_type": "code",
   "execution_count": 31,
   "id": "2a767747",
   "metadata": {},
   "outputs": [
    {
     "data": {
      "text/plain": [
       "<AxesSubplot: title={'center': 'Accuracy Comparison'}, xlabel='Accuracy', ylabel='Algorithm'>"
      ]
     },
     "execution_count": 31,
     "metadata": {},
     "output_type": "execute_result"
    },
    {
     "data": {
      "image/png": "[encoded data removed]",
      "text/plain": [
       "<Figure size 1000x500 with 1 Axes>"
      ]
     },
     "metadata": {},
     "output_type": "display_data"
    }
   ],
   "source": [
    "plt.figure(figsize=[10,5],dpi = 100)\n",
    "plt.title('Accuracy Comparison')\n",
    "plt.xlabel('Accuracy')\n",
    "plt.ylabel('Algorithm')\n",
    "sns.barplot(x = acc,y = model,palette='dark')"
   ]
  },
  {
   "cell_type": "code",
   "execution_count": 32,
   "id": "2a7368e3",
   "metadata": {},
   "outputs": [
    {
     "name": "stdout",
     "output_type": "stream",
     "text": [
      "Decision Tree --> 0.72625\n",
      "Naive Bayes --> 0.773\n",
      "SVM --> 0.773\n",
      "Logistic Regression --> 0.7195\n",
      "RF --> 0.78\n"
     ]
    }
   ],
   "source": [
    "accuracy_models = dict(zip(model, acc))\n",
    "for k, v in accuracy_models.items():\n",
    "    print (k, '-->', v)"
   ]
  },
  {
   "cell_type": "markdown",
   "id": "d06dab1c",
   "metadata": {},
   "source": [
    "### Making a Prediction"
   ]
  },
  {
   "cell_type": "code",
   "execution_count": 33,
   "id": "35fefd93",
   "metadata": {},
   "outputs": [
    {
     "name": "stdout",
     "output_type": "stream",
     "text": [
      "['cotton']\n"
     ]
    }
   ],
   "source": [
    "# Will be using RF\n",
    "data = np.array([[104,18, 30, 23.603016, 60.3, 6.7, 140.91]])\n",
    "prediction = RF.predict(data)\n",
    "print(prediction)"
   ]
  },
  {
   "cell_type": "code",
   "execution_count": 34,
   "id": "6224be35",
   "metadata": {},
   "outputs": [
    {
     "name": "stdout",
     "output_type": "stream",
     "text": [
      "['rice']\n"
     ]
    }
   ],
   "source": [
    "data = np.array([[83, 45, 60, 28, 70.3, 7.0, 150.9]])\n",
    "prediction = RF.predict(data)\n",
    "print(prediction)"
   ]
  }
 ],
 "metadata": {
  "kernelspec": {
   "display_name": "Python 3 (ipykernel)",
   "language": "python",
   "name": "python3"
  },
  "language_info": {
   "codemirror_mode": {
    "name": "ipython",
    "version": 3
   },
   "file_extension": ".py",
   "mimetype": "text/x-python",
   "name": "python",
   "nbconvert_exporter": "python",
   "pygments_lexer": "ipython3",
   "version": "3.9.12"
  },
  "vscode": {
   "interpreter": {
    "hash": "2a8dfe095fce2b5e88c64a2c3ee084c8e0e0d70b23e7b95b1cfb538be294c5c8"
   }
  }
 },
 "nbformat": 4,
 "nbformat_minor": 5
}
