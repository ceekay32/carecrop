{
 "cells": [
  {
   "cell_type": "code",
   "execution_count": 1,
   "metadata": {
    "colab": {
     "base_uri": "https://localhost:8080/"
    },
    "id": "MDboAUYilIqm",
    "outputId": "ecb06ab3-dc6b-4ec3-e62d-6217822bda57"
   },
   "outputs": [],
   "source": [
    "# !pip install pandas"
   ]
  },
  {
   "cell_type": "code",
   "execution_count": 2,
   "metadata": {
    "id": "gtOorv-ulNXz"
   },
   "outputs": [],
   "source": [
    "import pandas as pd\n",
    "import random"
   ]
  },
  {
   "cell_type": "code",
   "execution_count": 3,
   "metadata": {
    "colab": {
     "base_uri": "https://localhost:8080/",
     "height": 49
    },
    "id": "hnk8aXpeoYDX",
    "outputId": "0a98b1b1-d4ea-48ea-ee79-f0d91c565677"
   },
   "outputs": [
    {
     "data": {
      "text/html": [
       "<div>\n",
       "<style scoped>\n",
       "    .dataframe tbody tr th:only-of-type {\n",
       "        vertical-align: middle;\n",
       "    }\n",
       "\n",
       "    .dataframe tbody tr th {\n",
       "        vertical-align: top;\n",
       "    }\n",
       "\n",
       "    .dataframe thead th {\n",
       "        text-align: right;\n",
       "    }\n",
       "</style>\n",
       "<table border=\"1\" class=\"dataframe\">\n",
       "  <thead>\n",
       "    <tr style=\"text-align: right;\">\n",
       "      <th></th>\n",
       "      <th>N</th>\n",
       "      <th>P</th>\n",
       "      <th>K</th>\n",
       "      <th>Ph</th>\n",
       "      <th>Temperature(C)</th>\n",
       "      <th>Rainfall(cm)</th>\n",
       "      <th>Humidity</th>\n",
       "      <th>Crop</th>\n",
       "    </tr>\n",
       "  </thead>\n",
       "  <tbody>\n",
       "  </tbody>\n",
       "</table>\n",
       "</div>"
      ],
      "text/plain": [
       "Empty DataFrame\n",
       "Columns: [N, P, K, Ph, Temperature(C), Rainfall(cm), Humidity, Crop]\n",
       "Index: []"
      ]
     },
     "execution_count": 3,
     "metadata": {},
     "output_type": "execute_result"
    }
   ],
   "source": [
    "df = pd.DataFrame(columns=['N', 'P', 'K', 'Ph', 'Temperature(C)', 'Rainfall(cm)', 'Humidity', 'Crop'])\n",
    "df"
   ]
  },
  {
   "cell_type": "code",
   "execution_count": 4,
   "metadata": {
    "id": "CJZZviZelTIc"
   },
   "outputs": [],
   "source": [
    "data = pd.DataFrame()\n",
    "\n",
    "def newrows(crop):\n",
    "  N = []\n",
    "  P = []\n",
    "  K = []\n",
    "  ph = []\n",
    "  temp = []\n",
    "  rain = []\n",
    "  humidity = []\n",
    "  \n",
    "  for i in range(1000):\n",
    "    rN = crop[\"N\"] + random.randint(-10, 10)\n",
    "    rP = crop[\"P\"] + random.randint(-5, 5)\n",
    "    rK = crop[\"K\"] + random.randint(-2, 2)\n",
    "    rPh = round(random.uniform(crop[\"phS\"], crop[\"phE\"]), 1)\n",
    "    rTemp = random.randint(crop[\"tempS\"], crop[\"tempE\"])\n",
    "    rRain = random.randint(crop[\"rainS\"], crop[\"rainE\"])\n",
    "    rHumid = random.randint(crop[\"HumidS\"], crop[\"HumidE\"])\n",
    "    N.append(rN)\n",
    "    P.append(rP)\n",
    "    K.append(rK)\n",
    "    ph.append(rPh)\n",
    "    temp.append(rTemp)\n",
    "    rain.append(rRain)\n",
    "    humidity.append(rHumid)\n",
    "\n",
    "\n",
    "  data = pd.DataFrame({'N': N, 'P': P, 'K': K,'Ph': ph, 'Temperature(C)': temp, 'Rainfall(cm)': rain, 'Humidity': humidity, 'Crop': crop[\"Name\"]})\n",
    "  \n",
    "  return data"
   ]
  },
  {
   "cell_type": "code",
   "execution_count": 5,
   "metadata": {
    "colab": {
     "base_uri": "https://localhost:8080/",
     "height": 49
    },
    "id": "8oZGUkzimzId",
    "outputId": "722ea3e7-ff18-4d26-a2d7-24392fcef642"
   },
   "outputs": [
    {
     "data": {
      "text/html": [
       "<div>\n",
       "<style scoped>\n",
       "    .dataframe tbody tr th:only-of-type {\n",
       "        vertical-align: middle;\n",
       "    }\n",
       "\n",
       "    .dataframe tbody tr th {\n",
       "        vertical-align: top;\n",
       "    }\n",
       "\n",
       "    .dataframe thead th {\n",
       "        text-align: right;\n",
       "    }\n",
       "</style>\n",
       "<table border=\"1\" class=\"dataframe\">\n",
       "  <thead>\n",
       "    <tr style=\"text-align: right;\">\n",
       "      <th></th>\n",
       "      <th>N</th>\n",
       "      <th>P</th>\n",
       "      <th>K</th>\n",
       "      <th>Ph</th>\n",
       "      <th>Temperature(C)</th>\n",
       "      <th>Rainfall(cm)</th>\n",
       "      <th>Humidity</th>\n",
       "      <th>Crop</th>\n",
       "    </tr>\n",
       "  </thead>\n",
       "  <tbody>\n",
       "  </tbody>\n",
       "</table>\n",
       "</div>"
      ],
      "text/plain": [
       "Empty DataFrame\n",
       "Columns: [N, P, K, Ph, Temperature(C), Rainfall(cm), Humidity, Crop]\n",
       "Index: []"
      ]
     },
     "execution_count": 5,
     "metadata": {},
     "output_type": "execute_result"
    }
   ],
   "source": [
    "df.head()"
   ]
  },
  {
   "cell_type": "code",
   "execution_count": 6,
   "metadata": {
    "id": "u0hmQlV-7nhK"
   },
   "outputs": [],
   "source": [
    "crop_list = pd.read_csv(\"../dataset/crops_info.csv\")"
   ]
  },
  {
   "cell_type": "code",
   "execution_count": 7,
   "metadata": {
    "colab": {
     "base_uri": "https://localhost:8080/",
     "height": 206
    },
    "id": "sjvs4Zdk8LaU",
    "outputId": "d4e61300-b3e5-4f26-a97a-d61ce74aefbd"
   },
   "outputs": [
    {
     "data": {
      "text/html": [
       "<div>\n",
       "<style scoped>\n",
       "    .dataframe tbody tr th:only-of-type {\n",
       "        vertical-align: middle;\n",
       "    }\n",
       "\n",
       "    .dataframe tbody tr th {\n",
       "        vertical-align: top;\n",
       "    }\n",
       "\n",
       "    .dataframe thead th {\n",
       "        text-align: right;\n",
       "    }\n",
       "</style>\n",
       "<table border=\"1\" class=\"dataframe\">\n",
       "  <thead>\n",
       "    <tr style=\"text-align: right;\">\n",
       "      <th></th>\n",
       "      <th>Name</th>\n",
       "      <th>N</th>\n",
       "      <th>P</th>\n",
       "      <th>K</th>\n",
       "      <th>phS</th>\n",
       "      <th>phE</th>\n",
       "      <th>tempS</th>\n",
       "      <th>tempE</th>\n",
       "      <th>rainS</th>\n",
       "      <th>rainE</th>\n",
       "      <th>HumidS</th>\n",
       "      <th>HumidE</th>\n",
       "    </tr>\n",
       "  </thead>\n",
       "  <tbody>\n",
       "    <tr>\n",
       "      <th>0</th>\n",
       "      <td>rice</td>\n",
       "      <td>80</td>\n",
       "      <td>40</td>\n",
       "      <td>40</td>\n",
       "      <td>5.5</td>\n",
       "      <td>7.0</td>\n",
       "      <td>21</td>\n",
       "      <td>35</td>\n",
       "      <td>100</td>\n",
       "      <td>150</td>\n",
       "      <td>70</td>\n",
       "      <td>80</td>\n",
       "    </tr>\n",
       "    <tr>\n",
       "      <th>1</th>\n",
       "      <td>maize</td>\n",
       "      <td>80</td>\n",
       "      <td>40</td>\n",
       "      <td>20</td>\n",
       "      <td>6.0</td>\n",
       "      <td>7.5</td>\n",
       "      <td>20</td>\n",
       "      <td>30</td>\n",
       "      <td>50</td>\n",
       "      <td>100</td>\n",
       "      <td>50</td>\n",
       "      <td>60</td>\n",
       "    </tr>\n",
       "    <tr>\n",
       "      <th>2</th>\n",
       "      <td>chickpea</td>\n",
       "      <td>40</td>\n",
       "      <td>60</td>\n",
       "      <td>80</td>\n",
       "      <td>6.0</td>\n",
       "      <td>7.5</td>\n",
       "      <td>20</td>\n",
       "      <td>30</td>\n",
       "      <td>25</td>\n",
       "      <td>100</td>\n",
       "      <td>60</td>\n",
       "      <td>70</td>\n",
       "    </tr>\n",
       "    <tr>\n",
       "      <th>3</th>\n",
       "      <td>kidneybeans</td>\n",
       "      <td>20</td>\n",
       "      <td>60</td>\n",
       "      <td>20</td>\n",
       "      <td>6.0</td>\n",
       "      <td>7.0</td>\n",
       "      <td>20</td>\n",
       "      <td>30</td>\n",
       "      <td>50</td>\n",
       "      <td>100</td>\n",
       "      <td>60</td>\n",
       "      <td>70</td>\n",
       "    </tr>\n",
       "    <tr>\n",
       "      <th>4</th>\n",
       "      <td>pigeonpeas</td>\n",
       "      <td>20</td>\n",
       "      <td>60</td>\n",
       "      <td>20</td>\n",
       "      <td>5.5</td>\n",
       "      <td>7.5</td>\n",
       "      <td>20</td>\n",
       "      <td>35</td>\n",
       "      <td>50</td>\n",
       "      <td>100</td>\n",
       "      <td>60</td>\n",
       "      <td>70</td>\n",
       "    </tr>\n",
       "  </tbody>\n",
       "</table>\n",
       "</div>"
      ],
      "text/plain": [
       "          Name   N   P   K  phS  phE  tempS  tempE  rainS  rainE  HumidS  \\\n",
       "0         rice  80  40  40  5.5  7.0     21     35    100    150      70   \n",
       "1        maize  80  40  20  6.0  7.5     20     30     50    100      50   \n",
       "2     chickpea  40  60  80  6.0  7.5     20     30     25    100      60   \n",
       "3  kidneybeans  20  60  20  6.0  7.0     20     30     50    100      60   \n",
       "4   pigeonpeas  20  60  20  5.5  7.5     20     35     50    100      60   \n",
       "\n",
       "   HumidE  \n",
       "0      80  \n",
       "1      60  \n",
       "2      70  \n",
       "3      70  \n",
       "4      70  "
      ]
     },
     "execution_count": 7,
     "metadata": {},
     "output_type": "execute_result"
    }
   ],
   "source": [
    "crop_list.head()"
   ]
  },
  {
   "cell_type": "code",
   "execution_count": 8,
   "metadata": {
    "colab": {
     "base_uri": "https://localhost:8080/",
     "height": 363
    },
    "id": "GxaGVY_DsTdc",
    "outputId": "4c4c2b26-51b7-4a3a-c068-031ea264445f"
   },
   "outputs": [],
   "source": [
    "df = pd.DataFrame()\n",
    "\n",
    "for ind, row in crop_list.iterrows():\n",
    "  crop = row.to_dict()\n",
    "  d = newrows(crop)\n",
    "  df = pd.concat([df, d], ignore_index = True)"
   ]
  },
  {
   "cell_type": "code",
   "execution_count": 9,
   "metadata": {
    "colab": {
     "base_uri": "https://localhost:8080/",
     "height": 206
    },
    "id": "cy1lEL4JGVbU",
    "outputId": "e1c2c104-3a29-442d-e4e6-d39fc791f077"
   },
   "outputs": [
    {
     "data": {
      "text/html": [
       "<div>\n",
       "<style scoped>\n",
       "    .dataframe tbody tr th:only-of-type {\n",
       "        vertical-align: middle;\n",
       "    }\n",
       "\n",
       "    .dataframe tbody tr th {\n",
       "        vertical-align: top;\n",
       "    }\n",
       "\n",
       "    .dataframe thead th {\n",
       "        text-align: right;\n",
       "    }\n",
       "</style>\n",
       "<table border=\"1\" class=\"dataframe\">\n",
       "  <thead>\n",
       "    <tr style=\"text-align: right;\">\n",
       "      <th></th>\n",
       "      <th>N</th>\n",
       "      <th>P</th>\n",
       "      <th>K</th>\n",
       "      <th>Ph</th>\n",
       "      <th>Temperature(C)</th>\n",
       "      <th>Rainfall(mm)</th>\n",
       "      <th>Humidity</th>\n",
       "      <th>Crop</th>\n",
       "    </tr>\n",
       "  </thead>\n",
       "  <tbody>\n",
       "    <tr>\n",
       "      <th>4868</th>\n",
       "      <td>18</td>\n",
       "      <td>62</td>\n",
       "      <td>19</td>\n",
       "      <td>7.3</td>\n",
       "      <td>29</td>\n",
       "      <td>98</td>\n",
       "      <td>61</td>\n",
       "      <td>pigeonpeas</td>\n",
       "    </tr>\n",
       "    <tr>\n",
       "      <th>2344</th>\n",
       "      <td>36</td>\n",
       "      <td>60</td>\n",
       "      <td>78</td>\n",
       "      <td>7.4</td>\n",
       "      <td>22</td>\n",
       "      <td>57</td>\n",
       "      <td>62</td>\n",
       "      <td>chickpea</td>\n",
       "    </tr>\n",
       "    <tr>\n",
       "      <th>14421</th>\n",
       "      <td>103</td>\n",
       "      <td>14</td>\n",
       "      <td>51</td>\n",
       "      <td>6.6</td>\n",
       "      <td>20</td>\n",
       "      <td>50</td>\n",
       "      <td>76</td>\n",
       "      <td>muskmelon</td>\n",
       "    </tr>\n",
       "    <tr>\n",
       "      <th>100</th>\n",
       "      <td>76</td>\n",
       "      <td>43</td>\n",
       "      <td>38</td>\n",
       "      <td>6.6</td>\n",
       "      <td>22</td>\n",
       "      <td>148</td>\n",
       "      <td>72</td>\n",
       "      <td>rice</td>\n",
       "    </tr>\n",
       "    <tr>\n",
       "      <th>2514</th>\n",
       "      <td>32</td>\n",
       "      <td>60</td>\n",
       "      <td>80</td>\n",
       "      <td>7.1</td>\n",
       "      <td>24</td>\n",
       "      <td>58</td>\n",
       "      <td>64</td>\n",
       "      <td>chickpea</td>\n",
       "    </tr>\n",
       "  </tbody>\n",
       "</table>\n",
       "</div>"
      ],
      "text/plain": [
       "         N   P   K   Ph  Temperature(C)  Rainfall(mm)  Humidity        Crop\n",
       "4868    18  62  19  7.3              29            98        61  pigeonpeas\n",
       "2344    36  60  78  7.4              22            57        62    chickpea\n",
       "14421  103  14  51  6.6              20            50        76   muskmelon\n",
       "100     76  43  38  6.6              22           148        72        rice\n",
       "2514    32  60  80  7.1              24            58        64    chickpea"
      ]
     },
     "execution_count": 9,
     "metadata": {},
     "output_type": "execute_result"
    }
   ],
   "source": [
    "df_shuffled = df.sample(frac = 1)\n",
    "df_shuffled.head()"
   ]
  },
  {
   "cell_type": "code",
   "execution_count": 10,
   "metadata": {
    "colab": {
     "base_uri": "https://localhost:8080/",
     "height": 206
    },
    "id": "SKnUUA04RLdJ",
    "outputId": "395e20a3-c92a-40f0-8d6e-df9cd4e7ba52"
   },
   "outputs": [
    {
     "data": {
      "text/html": [
       "<div>\n",
       "<style scoped>\n",
       "    .dataframe tbody tr th:only-of-type {\n",
       "        vertical-align: middle;\n",
       "    }\n",
       "\n",
       "    .dataframe tbody tr th {\n",
       "        vertical-align: top;\n",
       "    }\n",
       "\n",
       "    .dataframe thead th {\n",
       "        text-align: right;\n",
       "    }\n",
       "</style>\n",
       "<table border=\"1\" class=\"dataframe\">\n",
       "  <thead>\n",
       "    <tr style=\"text-align: right;\">\n",
       "      <th></th>\n",
       "      <th>N</th>\n",
       "      <th>P</th>\n",
       "      <th>K</th>\n",
       "      <th>Ph</th>\n",
       "      <th>Temperature(C)</th>\n",
       "      <th>Rainfall(mm)</th>\n",
       "      <th>Humidity</th>\n",
       "      <th>Crop</th>\n",
       "    </tr>\n",
       "  </thead>\n",
       "  <tbody>\n",
       "    <tr>\n",
       "      <th>0</th>\n",
       "      <td>18</td>\n",
       "      <td>62</td>\n",
       "      <td>19</td>\n",
       "      <td>7.3</td>\n",
       "      <td>29</td>\n",
       "      <td>98</td>\n",
       "      <td>61</td>\n",
       "      <td>pigeonpeas</td>\n",
       "    </tr>\n",
       "    <tr>\n",
       "      <th>1</th>\n",
       "      <td>36</td>\n",
       "      <td>60</td>\n",
       "      <td>78</td>\n",
       "      <td>7.4</td>\n",
       "      <td>22</td>\n",
       "      <td>57</td>\n",
       "      <td>62</td>\n",
       "      <td>chickpea</td>\n",
       "    </tr>\n",
       "    <tr>\n",
       "      <th>2</th>\n",
       "      <td>103</td>\n",
       "      <td>14</td>\n",
       "      <td>51</td>\n",
       "      <td>6.6</td>\n",
       "      <td>20</td>\n",
       "      <td>50</td>\n",
       "      <td>76</td>\n",
       "      <td>muskmelon</td>\n",
       "    </tr>\n",
       "    <tr>\n",
       "      <th>3</th>\n",
       "      <td>76</td>\n",
       "      <td>43</td>\n",
       "      <td>38</td>\n",
       "      <td>6.6</td>\n",
       "      <td>22</td>\n",
       "      <td>148</td>\n",
       "      <td>72</td>\n",
       "      <td>rice</td>\n",
       "    </tr>\n",
       "    <tr>\n",
       "      <th>4</th>\n",
       "      <td>32</td>\n",
       "      <td>60</td>\n",
       "      <td>80</td>\n",
       "      <td>7.1</td>\n",
       "      <td>24</td>\n",
       "      <td>58</td>\n",
       "      <td>64</td>\n",
       "      <td>chickpea</td>\n",
       "    </tr>\n",
       "  </tbody>\n",
       "</table>\n",
       "</div>"
      ],
      "text/plain": [
       "     N   P   K   Ph  Temperature(C)  Rainfall(mm)  Humidity        Crop\n",
       "0   18  62  19  7.3              29            98        61  pigeonpeas\n",
       "1   36  60  78  7.4              22            57        62    chickpea\n",
       "2  103  14  51  6.6              20            50        76   muskmelon\n",
       "3   76  43  38  6.6              22           148        72        rice\n",
       "4   32  60  80  7.1              24            58        64    chickpea"
      ]
     },
     "execution_count": 10,
     "metadata": {},
     "output_type": "execute_result"
    }
   ],
   "source": [
    "df_shuffled.reset_index(inplace = True, drop = True)\n",
    "df_shuffled.head()"
   ]
  },
  {
   "cell_type": "code",
   "execution_count": 11,
   "metadata": {
    "id": "Wd6hKoDVLXFP"
   },
   "outputs": [],
   "source": [
    "df_shuffled.to_csv('crop_data.csv')"
   ]
  }
 ],
 "metadata": {
  "colab": {
   "provenance": []
  },
  "kernelspec": {
   "display_name": "Python 3 (ipykernel)",
   "language": "python",
   "name": "python3"
  },
  "language_info": {
   "codemirror_mode": {
    "name": "ipython",
    "version": 3
   },
   "file_extension": ".py",
   "mimetype": "text/x-python",
   "name": "python",
   "nbconvert_exporter": "python",
   "pygments_lexer": "ipython3",
   "version": "3.9.12"
  }
 },
 "nbformat": 4,
 "nbformat_minor": 1
}
